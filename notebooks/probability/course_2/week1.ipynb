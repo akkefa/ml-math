{
 "cells": [
  {
   "cell_type": "code",
   "execution_count": 6,
   "id": "37db7106",
   "metadata": {},
   "outputs": [],
   "source": [
    "# Probability, Expectation, and Variance Quiz\n",
    "\n",
    "#1> 548.2\n",
    "#2> 4.5 and 2.0893\n",
    "#3> 0.05\n",
    "#4> a/ b^2, a/b\n",
    "#5> (1 + lamba)lamda"
   ]
  },
  {
   "cell_type": "code",
   "execution_count": 1,
   "id": "e8d5ea68",
   "metadata": {},
   "outputs": [
    {
     "data": {
      "text/html": [
       "22.41"
      ],
      "text/latex": [
       "22.41"
      ],
      "text/markdown": [
       "22.41"
      ],
      "text/plain": [
       "[1] 22.41"
      ]
     },
     "metadata": {},
     "output_type": "display_data"
    }
   ],
   "source": [
    "a <- 20* 0.1 + 21.5* 0.7 + 26.8 * 0.2\n",
    "a"
   ]
  },
  {
   "cell_type": "code",
   "execution_count": 2,
   "id": "365261f2",
   "metadata": {},
   "outputs": [
    {
     "data": {
      "text/html": [
       "548.2"
      ],
      "text/latex": [
       "548.2"
      ],
      "text/markdown": [
       "548.2"
      ],
      "text/plain": [
       "[1] 548.2"
      ]
     },
     "metadata": {},
     "output_type": "display_data"
    }
   ],
   "source": [
    "20 * a + 100"
   ]
  },
  {
   "cell_type": "code",
   "execution_count": 4,
   "id": "6075e3be",
   "metadata": {},
   "outputs": [
    {
     "data": {
      "text/html": [
       "0.97"
      ],
      "text/latex": [
       "0.97"
      ],
      "text/markdown": [
       "0.97"
      ],
      "text/plain": [
       "[1] 0.97"
      ]
     },
     "metadata": {},
     "output_type": "display_data"
    }
   ],
   "source": [
    "1 - 0.03"
   ]
  },
  {
   "cell_type": "code",
   "execution_count": 6,
   "id": "a2409366",
   "metadata": {},
   "outputs": [
    {
     "data": {
      "text/html": [
       "4.5"
      ],
      "text/latex": [
       "4.5"
      ],
      "text/markdown": [
       "4.5"
      ],
      "text/plain": [
       "[1] 4.5"
      ]
     },
     "metadata": {},
     "output_type": "display_data"
    }
   ],
   "source": [
    "150 * 0.03"
   ]
  },
  {
   "cell_type": "code",
   "execution_count": 8,
   "id": "15fb7391",
   "metadata": {},
   "outputs": [
    {
     "data": {
      "text/html": [
       "2.08925824157762"
      ],
      "text/latex": [
       "2.08925824157762"
      ],
      "text/markdown": [
       "2.08925824157762"
      ],
      "text/plain": [
       "[1] 2.089258"
      ]
     },
     "metadata": {},
     "output_type": "display_data"
    }
   ],
   "source": [
    "sqrt(150 * 0.03 * 0.97)"
   ]
  },
  {
   "cell_type": "markdown",
   "id": "85d6912a",
   "metadata": {},
   "source": [
    "Let X denote the distance, in meters, that an animal moves from its birth site to the first territorial vacancy it encounters. Suppose that for Solomon Island prehensile-tailed skinks, X has an exponential distribution with rate parameter \\lambda = 0.014λ=0.014.\n",
    "\n",
    "What is the probability that the distance exceeds the mean distance by more than 2 standard deviations?"
   ]
  },
  {
   "cell_type": "code",
   "execution_count": 1,
   "id": "71d875b6",
   "metadata": {},
   "outputs": [
    {
     "data": {
      "text/html": [
       "71.4285714285714"
      ],
      "text/latex": [
       "71.4285714285714"
      ],
      "text/markdown": [
       "71.4285714285714"
      ],
      "text/plain": [
       "[1] 71.42857"
      ]
     },
     "metadata": {},
     "output_type": "display_data"
    },
    {
     "data": {
      "text/html": [
       "5102.04081632653"
      ],
      "text/latex": [
       "5102.04081632653"
      ],
      "text/markdown": [
       "5102.04081632653"
      ],
      "text/plain": [
       "[1] 5102.041"
      ]
     },
     "metadata": {},
     "output_type": "display_data"
    }
   ],
   "source": [
    "# E(x) = 1/lambda\n",
    "mean = 1/ 0.014\n",
    "mean\n",
    "variance = 1 / (0.014)^2\n",
    "variance"
   ]
  },
  {
   "cell_type": "code",
   "execution_count": 3,
   "id": "e0a71575",
   "metadata": {},
   "outputs": [
    {
     "data": {
      "text/html": [
       "214.277131428571"
      ],
      "text/latex": [
       "214.277131428571"
      ],
      "text/markdown": [
       "214.277131428571"
      ],
      "text/plain": [
       "[1] 214.2771"
      ]
     },
     "metadata": {},
     "output_type": "display_data"
    }
   ],
   "source": [
    "total = 71.42 + 2*sqrt(5102.04)\n",
    "total"
   ]
  },
  {
   "cell_type": "code",
   "execution_count": 4,
   "id": "b259dccf",
   "metadata": {},
   "outputs": [
    {
     "data": {
      "text/html": [
       "-2.99978"
      ],
      "text/latex": [
       "-2.99978"
      ],
      "text/markdown": [
       "-2.99978"
      ],
      "text/plain": [
       "[1] -2.99978"
      ]
     },
     "metadata": {},
     "output_type": "display_data"
    }
   ],
   "source": [
    "-0.014 * 214.27"
   ]
  },
  {
   "cell_type": "code",
   "execution_count": 5,
   "id": "f92440db",
   "metadata": {},
   "outputs": [
    {
     "ename": "ERROR",
     "evalue": "Error in eval(expr, envir, enclos): object 'e' not found\n",
     "output_type": "error",
     "traceback": [
      "Error in eval(expr, envir, enclos): object 'e' not found\nTraceback:\n"
     ]
    }
   ],
   "source": [
    "e^-2.99978"
   ]
  },
  {
   "cell_type": "code",
   "execution_count": null,
   "id": "7fb22ef2",
   "metadata": {},
   "outputs": [],
   "source": []
  }
 ],
 "metadata": {
  "kernelspec": {
   "display_name": "R",
   "language": "R",
   "name": "ir"
  },
  "language_info": {
   "codemirror_mode": "r",
   "file_extension": ".r",
   "mimetype": "text/x-r-source",
   "name": "R",
   "pygments_lexer": "r",
   "version": "4.1.3"
  }
 },
 "nbformat": 4,
 "nbformat_minor": 5
}
