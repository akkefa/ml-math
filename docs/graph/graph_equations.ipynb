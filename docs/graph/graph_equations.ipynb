{
 "cells": [
  {
   "cell_type": "markdown",
   "metadata": {},
   "source": [
    "# Graph Equations\n",
    "\n",
    "Explaining the graph neural networks equations\n",
    "\n",
    "## GCN layer\n",
    "\n",
    "Semi-Supervised Classification with Graph Convolutional Networks\n",
    "https://arxiv.org/pdf/1609.02907.pdf\n",
    "\n",
    "$$\n",
    "h_i^{(l+1)}=\\sigma\\left(\\sum_{j \\in \\mathcal{N}_i} \\frac{1}{c_{i j}} h_j^{(l)} W^{(l)}\\right)\n",
    "$$\n",
    "\n",
    "where  𝐖(ℓ+)  denotes a trainable weight matrix of shape [num_output_features, num_input_features] and  𝑐𝑤,𝑣  refers to a fixed normalization coefficient for each edge.\n",
    "\n",
    "PyG implements this layer via GCNConv"
   ]
  },
  {
   "cell_type": "code",
   "execution_count": 1,
   "metadata": {},
   "outputs": [],
   "source": []
  },
  {
   "cell_type": "code",
   "execution_count": null,
   "metadata": {},
   "outputs": [],
   "source": []
  }
 ],
 "metadata": {
  "kernelspec": {
   "display_name": "notes",
   "language": "python",
   "name": "python3"
  },
  "language_info": {
   "codemirror_mode": {
    "name": "ipython",
    "version": 3
   },
   "file_extension": ".py",
   "mimetype": "text/x-python",
   "name": "python",
   "nbconvert_exporter": "python",
   "pygments_lexer": "ipython3",
   "version": "3.11.4"
  },
  "orig_nbformat": 4
 },
 "nbformat": 4,
 "nbformat_minor": 2
}
