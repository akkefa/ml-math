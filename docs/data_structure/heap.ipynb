{
 "cells": [
  {
   "cell_type": "markdown",
   "metadata": {},
   "source": [
    "```{title} Heap Data Structure\n",
    "```\n",
    "# Heap"
   ]
  },
  {
   "cell_type": "markdown",
   "metadata": {},
   "source": [
    "A heap is a specialized tree-based data structure that satisfies the heap property:\n",
    "\n",
    "- Min Heap: The key at the root must be the minimum among all keys present in the heap. The same property must be recursively true for all subtrees.\n",
    "- Max Heap: The key at the root must be the maximum among all keys present in the heap.\n",
    "\n",
    "Heaps are commonly used to implement priority queues because they allow for efficient retrieval and modification of the highest (or lowest) priority element.\n",
    "\n",
    "## Properties of Heaps\n",
    "\n",
    "- Complete Binary Tree: All levels are fully filled except possibly the last level, which is filled from left to right.\n",
    "- Heap Order Property: Parent node is always greater than (max heap) or less than (min heap) its child nodes.\n",
    "\n",
    "Visualization of a Min Heap:\n",
    "\n",
    "```\n",
    "       1\n",
    "     /   \\\n",
    "    3     5\n",
    "   / \\   / \\\n",
    "  4  8  6  9\n",
    "```\n",
    "\n",
    "## Why Do We Need Heaps?\n",
    "\n",
    "Heaps provide several advantages:\n",
    "\n",
    "- Efficient Priority Queue Implementation: Quick access to the highest or lowest priority element.\n",
    "- Optimal Time Complexities:\n",
    "  - Insertion: O(log n)\n",
    "  - Deletion of Min/Max: O(log n)\n",
    "  - Access Min/Max: O(1)\n",
    "- Memory Efficiency: Can be implemented using arrays without the need for pointers.\n",
    "\n",
    "### Problems Solved by Heaps\n",
    "\n",
    "Heaps are used in various scenarios:\n",
    "\n",
    "- Scheduling Tasks: Managing tasks based on priority.\n",
    "- Graph Algorithms: Finding the shortest path (Dijkstra's algorithm) or minimum spanning tree (Prim's algorithm).\n",
    "- Order Statistics: Finding the k-th smallest or largest element.\n",
    "- Real-Time Systems: Where tasks must be processed in a specific order.\n",
    "\n",
    "\n",
    "## Using the `heapq` Module\n",
    "\n",
    "Creating a Min Heap:"
   ]
  },
  {
   "cell_type": "code",
   "execution_count": 1,
   "metadata": {},
   "outputs": [
    {
     "name": "stdout",
     "output_type": "stream",
     "text": [
      "Min Heap: [1, 5, 15, 10]\n"
     ]
    }
   ],
   "source": [
    "import heapq\n",
    "\n",
    "# Initialize an empty list to represent the heap\n",
    "heap = []\n",
    "\n",
    "# Add elements to the heap\n",
    "heapq.heappush(heap, 10)\n",
    "heapq.heappush(heap, 5)\n",
    "heapq.heappush(heap, 15)\n",
    "heapq.heappush(heap, 1)\n",
    "\n",
    "print(\"Min Heap:\", heap)"
   ]
  },
  {
   "cell_type": "code",
   "execution_count": 2,
   "metadata": {},
   "outputs": [
    {
     "name": "stdout",
     "output_type": "stream",
     "text": [
      "Minimum element: 1\n"
     ]
    }
   ],
   "source": [
    "min_element = heap[0]\n",
    "print(\"Minimum element:\", min_element)"
   ]
  },
  {
   "cell_type": "code",
   "execution_count": 3,
   "metadata": {},
   "outputs": [
    {
     "name": "stdout",
     "output_type": "stream",
     "text": [
      "Removed element: 1\n",
      "Heap after removal: [5, 10, 15]\n"
     ]
    }
   ],
   "source": [
    "min_element = heapq.heappop(heap)\n",
    "print(\"Removed element:\", min_element)\n",
    "print(\"Heap after removal:\", heap)"
   ]
  },
  {
   "cell_type": "code",
   "execution_count": 4,
   "metadata": {},
   "outputs": [
    {
     "name": "stdout",
     "output_type": "stream",
     "text": [
      "Heapified list: [1, 5, 15, 20, 10]\n"
     ]
    }
   ],
   "source": [
    "numbers = [20, 1, 15, 5, 10]\n",
    "heapq.heapify(numbers)\n",
    "print(\"Heapified list:\", numbers)"
   ]
  },
  {
   "cell_type": "markdown",
   "metadata": {},
   "source": [
    "### Implementing a Max Heap\n",
    "\n",
    "Since `heapq` only provides a min heap, you can create a max heap by storing elements as negatives.\n",
    "\n",
    "Creating a Max Heap:"
   ]
  },
  {
   "cell_type": "code",
   "execution_count": 5,
   "metadata": {},
   "outputs": [
    {
     "name": "stdout",
     "output_type": "stream",
     "text": [
      "Maximum element: 15\n"
     ]
    }
   ],
   "source": [
    "max_heap = []\n",
    "heapq.heappush(max_heap, -10)\n",
    "heapq.heappush(max_heap, -5)\n",
    "heapq.heappush(max_heap, -15)\n",
    "heapq.heappush(max_heap, -1)\n",
    "\n",
    "# To get the maximum element\n",
    "max_element = -heapq.heappop(max_heap)\n",
    "print(\"Maximum element:\", max_element)"
   ]
  },
  {
   "cell_type": "code",
   "execution_count": 6,
   "metadata": {},
   "outputs": [
    {
     "name": "stdout",
     "output_type": "stream",
     "text": [
      "Max Heap: [15, 5, 10, 1]\n",
      "Extracted Max: 15\n",
      "Heap after extraction: [10, 5, 1]\n"
     ]
    }
   ],
   "source": [
    "class MaxHeap:\n",
    "    def __init__(self):\n",
    "        self.heap = []\n",
    "\n",
    "    def insert(self, key):\n",
    "        # Insert key into the heap\n",
    "        self.heap.append(key)\n",
    "        self._sift_up(len(self.heap) - 1)\n",
    "\n",
    "    def extract_max(self):\n",
    "        if not self.heap:\n",
    "            return None\n",
    "        # Swap the first and last items\n",
    "        self.heap[0], self.heap[-1] = self.heap[-1], self.heap[0]\n",
    "        max_item = self.heap.pop()\n",
    "        self._sift_down(0)\n",
    "        return max_item\n",
    "\n",
    "    def _sift_up(self, idx):\n",
    "        parent = (idx - 1) // 2\n",
    "        if idx > 0 and self.heap[parent] < self.heap[idx]:\n",
    "            self.heap[parent], self.heap[idx] = self.heap[idx], self.heap[parent]\n",
    "            self._sift_up(parent)\n",
    "\n",
    "    def _sift_down(self, idx):\n",
    "        largest = idx\n",
    "        left = 2 * idx + 1\n",
    "        right = 2 * idx + 2\n",
    "        n = len(self.heap)\n",
    "\n",
    "        if left < n and self.heap[left] > self.heap[largest]:\n",
    "            largest = left\n",
    "\n",
    "        if right < n and self.heap[right] > self.heap[largest]:\n",
    "            largest = right\n",
    "\n",
    "        if largest != idx:\n",
    "            self.heap[largest], self.heap[idx] = self.heap[idx], self.heap[largest]\n",
    "            self._sift_down(largest)\n",
    "\n",
    "# Usage\n",
    "max_heap = MaxHeap()\n",
    "max_heap.insert(10)\n",
    "max_heap.insert(5)\n",
    "max_heap.insert(15)\n",
    "max_heap.insert(1)\n",
    "\n",
    "print(\"Max Heap:\", max_heap.heap)\n",
    "print(\"Extracted Max:\", max_heap.extract_max())\n",
    "print(\"Heap after extraction:\", max_heap.heap)"
   ]
  },
  {
   "cell_type": "code",
   "execution_count": 10,
   "metadata": {},
   "outputs": [
    {
     "name": "stdout",
     "output_type": "stream",
     "text": [
      "Peek: 5\n",
      "Popped Element: 5\n"
     ]
    }
   ],
   "source": [
    "class MinHeap:\n",
    "    def __init__(self):\n",
    "        self.heap = []\n",
    "\n",
    "    def push(self, val):\n",
    "        heapq.heappush(self.heap, val)\n",
    "\n",
    "    def pop(self):\n",
    "        return heapq.heappop(self.heap)\n",
    "\n",
    "    def peek(self):\n",
    "        if self.heap:\n",
    "            return self.heap[0]\n",
    "        return None\n",
    "\n",
    "    def __len__(self):\n",
    "        return len(self.heap)\n",
    "\n",
    "# Usage example\n",
    "custom_heap = MinHeap()\n",
    "custom_heap.push(10)\n",
    "custom_heap.push(5)\n",
    "custom_heap.push(30)\n",
    "\n",
    "print(\"Peek:\", custom_heap.peek())  # Output: 5\n",
    "print(\"Popped Element:\", custom_heap.pop())  # Output: 5\n"
   ]
  },
  {
   "cell_type": "markdown",
   "metadata": {},
   "source": [
    "## Applications of Heaps\n",
    "\n",
    "### Priority Queues\n",
    "\n",
    "Heaps are perfect for implementing priority queues where elements are processed based on priority.\n"
   ]
  },
  {
   "cell_type": "code",
   "execution_count": 7,
   "metadata": {},
   "outputs": [
    {
     "name": "stdout",
     "output_type": "stream",
     "text": [
      "Processing task: Debug code with priority 1\n",
      "Processing task: Write code with priority 2\n",
      "Processing task: Test code with priority 3\n"
     ]
    }
   ],
   "source": [
    "import heapq\n",
    "\n",
    "tasks = []\n",
    "heapq.heappush(tasks, (2, 'Write code'))\n",
    "heapq.heappush(tasks, (1, 'Debug code'))\n",
    "heapq.heappush(tasks, (3, 'Test code'))\n",
    "\n",
    "while tasks:\n",
    "    priority, task = heapq.heappop(tasks)\n",
    "    print(f\"Processing task: {task} with priority {priority}\")"
   ]
  },
  {
   "cell_type": "markdown",
   "metadata": {},
   "source": [
    "### Heapsort Algorithm\n",
    "\n",
    "Heapsort leverages the heap data structure to sort elements efficiently.\n"
   ]
  },
  {
   "cell_type": "code",
   "execution_count": 8,
   "metadata": {},
   "outputs": [
    {
     "name": "stdout",
     "output_type": "stream",
     "text": [
      "Sorted numbers: [1, 5, 10, 15, 20]\n"
     ]
    }
   ],
   "source": [
    "def heapsort(iterable):\n",
    "    h = []\n",
    "    for value in iterable:\n",
    "        heapq.heappush(h, value)\n",
    "    sorted_list = [heapq.heappop(h) for _ in range(len(h))]\n",
    "    return sorted_list\n",
    "\n",
    "numbers = [20, 1, 15, 5, 10]\n",
    "print(\"Sorted numbers:\", heapsort(numbers))"
   ]
  },
  {
   "cell_type": "markdown",
   "metadata": {},
   "source": [
    "### Graph Algorithms\n",
    "\n",
    "Heaps are used in algorithms like Dijkstra's to efficiently select the next node with the smallest distance.\n",
    "\n",
    "Simplified Dijkstra's Algorithm:"
   ]
  },
  {
   "cell_type": "code",
   "execution_count": 9,
   "metadata": {},
   "outputs": [
    {
     "name": "stdout",
     "output_type": "stream",
     "text": [
      "Shortest distances: {'A': 0, 'B': 1, 'C': 3, 'D': 4}\n"
     ]
    }
   ],
   "source": [
    "import heapq\n",
    "\n",
    "def dijkstra(graph, start):\n",
    "    heap = [(0, start)]\n",
    "    distances = {vertex: float('inf') for vertex in graph}\n",
    "    distances[start] = 0\n",
    "\n",
    "    while heap:\n",
    "        current_distance, current_vertex = heapq.heappop(heap)\n",
    "\n",
    "        if current_distance > distances[current_vertex]:\n",
    "            continue\n",
    "\n",
    "        for neighbor, weight in graph[current_vertex]:\n",
    "            distance = current_distance + weight\n",
    "\n",
    "            if distance < distances[neighbor]:\n",
    "                distances[neighbor] = distance\n",
    "                heapq.heappush(heap, (distance, neighbor))\n",
    "\n",
    "    return distances\n",
    "\n",
    "# Graph represented as an adjacency list\n",
    "graph = {\n",
    "    'A': [('B', 1), ('C', 4)],\n",
    "    'B': [('C', 2), ('D', 5)],\n",
    "    'C': [('D', 1)],\n",
    "    'D': []\n",
    "}\n",
    "\n",
    "print(\"Shortest distances:\", dijkstra(graph, 'A'))"
   ]
  },
  {
   "cell_type": "markdown",
   "metadata": {},
   "source": [
    "## Conclusion\n",
    "\n",
    "Heaps are a fundamental data structure that provides efficient implementations for priority-based data management. They are critical in various algorithms and real-world applications, especially where performance and efficiency are paramount.\n",
    "\n",
    "Key Points:\n",
    "\n",
    "- Heaps can be efficiently implemented using arrays.\n",
    "- The `heapq` module simplifies heap operations in Python.\n",
    "- Heaps are integral in implementing priority queues, sorting algorithms, and graph traversal algorithms.\n",
    "\n",
    "Understanding heaps will not only prepare you for technical interviews but also enhance your problem-solving skills in algorithm design and optimization.\n",
    "\n",
    "### Practice Problems\n",
    "\n",
    "1. Find the K Smallest Elements in an Array\n",
    "\n",
    "   Given an unsorted array and a number `k`, find the `k` smallest elements.\n",
    "\n",
    "   *Hint:* Use a max heap of size `k` to keep track of the smallest elements.\n",
    "\n",
    "2. Merge K Sorted Lists\n",
    "\n",
    "   Given `k` sorted linked lists, merge them into a single sorted list.\n",
    "\n",
    "   *Hint:* Use a min heap to efficiently select the smallest head among the lists.\n",
    "\n",
    "3. Top K Frequent Elements\n",
    "\n",
    "   Given a non-empty array of integers, return the `k` most frequent elements.\n",
    "\n",
    "   *Hint:* Use a heap to keep track of frequencies.\n",
    "\n",
    "4. Median in a Stream\n",
    "\n",
    "   Design a data structure that supports adding numbers and finding the median in constant time.\n",
    "\n",
    "   *Hint:* Use two heaps, a max heap, and a min heap.\n"
   ]
  },
  {
   "cell_type": "markdown",
   "metadata": {},
   "source": []
  }
 ],
 "metadata": {
  "kernelspec": {
   "display_name": "ml_notes",
   "language": "python",
   "name": "python3"
  },
  "language_info": {
   "codemirror_mode": {
    "name": "ipython",
    "version": 3
   },
   "file_extension": ".py",
   "mimetype": "text/x-python",
   "name": "python",
   "nbconvert_exporter": "python",
   "pygments_lexer": "ipython3",
   "version": "3.11.9"
  }
 },
 "nbformat": 4,
 "nbformat_minor": 2
}
