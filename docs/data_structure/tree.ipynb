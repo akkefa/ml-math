{
 "cells": [
  {
   "cell_type": "markdown",
   "metadata": {},
   "source": [
    "```{title} Tree Data Structure\n",
    "```\n",
    "# Tree"
   ]
  },
  {
   "cell_type": "markdown",
   "metadata": {},
   "source": [
    "A tree is a widely used abstract data structure that simulates a hierarchical tree structure, with a root value and subtrees of children represented as a set of linked nodes. It is a non-linear data structure compared to arrays, linked lists, stacks, and queues which are linear data structures.\n",
    "\n",
    "## Key Terminologies\n",
    "\n",
    "- **Node**: The fundamental part of a tree which contains data and links to other nodes.\n",
    "- **Root**: The top node in a tree.\n",
    "- **Edge**: The link between any two nodes.\n",
    "- **Child**: A node directly connected to another node when moving away from the Root.\n",
    "- **Parent**: The converse notion of a child.\n",
    "- **Leaf**: A node with no children.\n",
    "- **Subtree**: A tree formed by a node and its descendants.\n",
    "- **Depth**: The length of the path from the root to the node.\n",
    "- **Height**: The length of the path from the node to the deepest leaf.\n",
    "\n",
    "```{image} https://github.com/akkefa/ml-notes/releases/download/v0.1.0/Treedatastructure.png\n",
    ":align: center\n",
    ":alt: Combination\n",
    ":width: 80%\n",
    "```\n",
    "\n",
    "## Types of Trees\n",
    "\n",
    "- **Binary Tree**: Each node has at most two children.\n",
    "- **Binary Search Tree (BST)**: A binary tree where the left child contains only nodes with values less than the parent node, and the right child only nodes with values greater than the parent node.\n",
    "- **Balanced Tree**: A tree where the height of the left and right subtree of any node differ by not more than one.\n",
    "- **AVL Tree, Red-Black Tree, B-Tree**: Self-balancing binary search trees.\n",
    "\n",
    "\n",
    "**Implementing Trees in Python**\n",
    "\n",
    "Python doesn't have a built-in tree data structure, but it can be implemented using classes and objects.\n",
    "\n",
    "Implementing a Node\n",
    "\n",
    "Creating a Binary Tree"
   ]
  },
  {
   "cell_type": "code",
   "execution_count": 3,
   "metadata": {},
   "outputs": [],
   "source": [
    "class Node:\n",
    "    def __init__(self, value):\n",
    "        self.value = value\n",
    "        self.left = None\n",
    "        self.right = None"
   ]
  },
  {
   "cell_type": "code",
   "execution_count": 4,
   "metadata": {},
   "outputs": [],
   "source": [
    "# Creating nodes\n",
    "root = Node(1)\n",
    "root.left = Node(2)\n",
    "root.right = Node(3)\n",
    "\n",
    "# Adding more nodes\n",
    "root.left.left = Node(4)\n",
    "root.left.right = Node(5)"
   ]
  },
  {
   "cell_type": "markdown",
   "metadata": {},
   "source": [
    "## Tree Traversals\n",
    "\n",
    "Traversal means visiting all the nodes of the tree. There are several ways to traverse a tree:\n",
    "\n",
    "### Depth-First Traversal\n",
    "\n",
    "1. **Inorder Traversal (Left, Root, Right)**\n"
   ]
  },
  {
   "cell_type": "code",
   "execution_count": 6,
   "metadata": {},
   "outputs": [
    {
     "name": "stdout",
     "output_type": "stream",
     "text": [
      "4 2 5 1 3 "
     ]
    }
   ],
   "source": [
    "def inorder(root):\n",
    "    if root:\n",
    "        inorder(root.left)\n",
    "        print(root.value, end=' ')\n",
    "        inorder(root.right)\n",
    "\n",
    "inorder(root)"
   ]
  },
  {
   "cell_type": "markdown",
   "metadata": {},
   "source": [
    "2. **Preorder Traversal (Root, Left, Right)**"
   ]
  },
  {
   "cell_type": "code",
   "execution_count": 8,
   "metadata": {},
   "outputs": [
    {
     "name": "stdout",
     "output_type": "stream",
     "text": [
      "1 2 4 5 3 "
     ]
    }
   ],
   "source": [
    "def preorder(root):\n",
    "    if root:\n",
    "        print(root.value, end=' ')\n",
    "        preorder(root.left)\n",
    "        preorder(root.right)\n",
    "\n",
    "preorder(root)"
   ]
  },
  {
   "cell_type": "markdown",
   "metadata": {},
   "source": [
    "3. **Postorder Traversal (Left, Right, Root)**"
   ]
  },
  {
   "cell_type": "code",
   "execution_count": 10,
   "metadata": {},
   "outputs": [
    {
     "name": "stdout",
     "output_type": "stream",
     "text": [
      "4 5 2 3 1 "
     ]
    }
   ],
   "source": [
    "def postorder(root):\n",
    "    if root:\n",
    "        postorder(root.left)\n",
    "        postorder(root.right)\n",
    "        print(root.value, end=' ')\n",
    "\n",
    "postorder(root)"
   ]
  },
  {
   "cell_type": "markdown",
   "metadata": {},
   "source": [
    "### Breadth-First Traversal (Level Order Traversal)"
   ]
  },
  {
   "cell_type": "code",
   "execution_count": 11,
   "metadata": {},
   "outputs": [
    {
     "name": "stdout",
     "output_type": "stream",
     "text": [
      "1 2 3 4 5 "
     ]
    }
   ],
   "source": [
    "from collections import deque\n",
    "\n",
    "def level_order(root):\n",
    "    if root is None:\n",
    "        return\n",
    "    \n",
    "    queue = deque()\n",
    "    queue.append(root)\n",
    "    \n",
    "    while queue:\n",
    "        node = queue.popleft()\n",
    "        print(node.value, end=' ')\n",
    "        \n",
    "        if node.left:\n",
    "            queue.append(node.left)\n",
    "        if node.right:\n",
    "            queue.append(node.right)\n",
    "\n",
    "\n",
    "level_order(root)\n"
   ]
  },
  {
   "cell_type": "markdown",
   "metadata": {},
   "source": [
    "## Step-by-Step Traversal\n",
    "\n",
    "We'll use Python to generate these step-by-step outputs for the following traversal methods:\n",
    "\n",
    "1. Inorder Traversal (Recursive)\n",
    "2. Preorder Traversal (Recursive)\n",
    "3. Postorder Traversal (Recursive)\n",
    "4. Level Order Traversal (Iterative)\n",
    "5. Inorder Traversal (Iterative)\n",
    "6. Preorder Traversal (Iterative)\n",
    "7. Postorder Traversal (Iterative)\n",
    "   \n",
    "We'll use this binary tree:\n",
    "\n",
    "```\n",
    "        1\n",
    "      /   \\\n",
    "     2     3\n",
    "    / \\     \\\n",
    "   4   5     6\n",
    "        \\\n",
    "         7\n",
    "```"
   ]
  },
  {
   "cell_type": "code",
   "execution_count": 12,
   "metadata": {},
   "outputs": [],
   "source": [
    "root = Node(1)\n",
    "\n",
    "root.left = Node(2)\n",
    "root.right = Node(3)\n",
    "\n",
    "root.left.left = Node(4)\n",
    "root.left.right = Node(5)\n",
    "\n",
    "root.right.right = Node(6)\n",
    "\n",
    "root.left.right.right = Node(7)"
   ]
  },
  {
   "cell_type": "markdown",
   "metadata": {},
   "source": [
    "### Inorder Traversal (Recursive)\n",
    "\n",
    "Traversal Order: Left, Root, Right\n"
   ]
  },
  {
   "cell_type": "code",
   "execution_count": 17,
   "metadata": {},
   "outputs": [],
   "source": [
    "from IPython.display import display, HTML"
   ]
  },
  {
   "cell_type": "code",
   "execution_count": 46,
   "metadata": {},
   "outputs": [],
   "source": [
    "def inorder_with_steps(node, depth=0):\n",
    "    if node:\n",
    "        print(\"-\" * depth + \"->\" + f\"Entering Left Subtree of Node {node.value}\")\n",
    "        inorder_with_steps(node.left, depth + 1)\n",
    "        display(HTML(\"-\" * depth + \"->\" + f\"<b>Visiting Node {node.value} </b>\"))\n",
    "        # print(node.value, end=' ')\n",
    "        print(\"-\" * depth + \"->\" + f\"Entering Right Subtree of Node {node.value}\")\n",
    "        inorder_with_steps(node.right, depth + 1)\n",
    "    else:\n",
    "        print(\"-\" * depth + \"->\" + \"Reached None\")"
   ]
  },
  {
   "cell_type": "code",
   "execution_count": 47,
   "metadata": {},
   "outputs": [
    {
     "data": {
      "text/html": [
       "<b>Inorder Traversal with Steps: </b> \n"
      ],
      "text/plain": [
       "<IPython.core.display.HTML object>"
      ]
     },
     "metadata": {},
     "output_type": "display_data"
    },
    {
     "name": "stdout",
     "output_type": "stream",
     "text": [
      "->Entering Left Subtree of Node 1\n",
      "-->Entering Left Subtree of Node 2\n",
      "--->Entering Left Subtree of Node 4\n",
      "---->Reached None\n"
     ]
    },
    {
     "data": {
      "text/html": [
       "---><b>Visiting Node 4 </b>"
      ],
      "text/plain": [
       "<IPython.core.display.HTML object>"
      ]
     },
     "metadata": {},
     "output_type": "display_data"
    },
    {
     "name": "stdout",
     "output_type": "stream",
     "text": [
      "--->Entering Right Subtree of Node 4\n",
      "---->Reached None\n"
     ]
    },
    {
     "data": {
      "text/html": [
       "--><b>Visiting Node 2 </b>"
      ],
      "text/plain": [
       "<IPython.core.display.HTML object>"
      ]
     },
     "metadata": {},
     "output_type": "display_data"
    },
    {
     "name": "stdout",
     "output_type": "stream",
     "text": [
      "-->Entering Right Subtree of Node 2\n",
      "--->Entering Left Subtree of Node 5\n",
      "---->Reached None\n"
     ]
    },
    {
     "data": {
      "text/html": [
       "---><b>Visiting Node 5 </b>"
      ],
      "text/plain": [
       "<IPython.core.display.HTML object>"
      ]
     },
     "metadata": {},
     "output_type": "display_data"
    },
    {
     "name": "stdout",
     "output_type": "stream",
     "text": [
      "--->Entering Right Subtree of Node 5\n",
      "---->Entering Left Subtree of Node 7\n",
      "----->Reached None\n"
     ]
    },
    {
     "data": {
      "text/html": [
       "----><b>Visiting Node 7 </b>"
      ],
      "text/plain": [
       "<IPython.core.display.HTML object>"
      ]
     },
     "metadata": {},
     "output_type": "display_data"
    },
    {
     "name": "stdout",
     "output_type": "stream",
     "text": [
      "---->Entering Right Subtree of Node 7\n",
      "----->Reached None\n"
     ]
    },
    {
     "data": {
      "text/html": [
       "-><b>Visiting Node 1 </b>"
      ],
      "text/plain": [
       "<IPython.core.display.HTML object>"
      ]
     },
     "metadata": {},
     "output_type": "display_data"
    },
    {
     "name": "stdout",
     "output_type": "stream",
     "text": [
      "->Entering Right Subtree of Node 1\n",
      "-->Entering Left Subtree of Node 3\n",
      "--->Reached None\n"
     ]
    },
    {
     "data": {
      "text/html": [
       "--><b>Visiting Node 3 </b>"
      ],
      "text/plain": [
       "<IPython.core.display.HTML object>"
      ]
     },
     "metadata": {},
     "output_type": "display_data"
    },
    {
     "name": "stdout",
     "output_type": "stream",
     "text": [
      "-->Entering Right Subtree of Node 3\n",
      "--->Entering Left Subtree of Node 6\n",
      "---->Reached None\n"
     ]
    },
    {
     "data": {
      "text/html": [
       "---><b>Visiting Node 6 </b>"
      ],
      "text/plain": [
       "<IPython.core.display.HTML object>"
      ]
     },
     "metadata": {},
     "output_type": "display_data"
    },
    {
     "name": "stdout",
     "output_type": "stream",
     "text": [
      "--->Entering Right Subtree of Node 6\n",
      "---->Reached None\n"
     ]
    }
   ],
   "source": [
    "display(HTML(\"<b>Inorder Traversal with Steps: </b> \\n\"))\n",
    "inorder_with_steps(root)"
   ]
  },
  {
   "cell_type": "markdown",
   "metadata": {},
   "source": [
    "4 2 7 5 1 3 6"
   ]
  },
  {
   "cell_type": "markdown",
   "metadata": {},
   "source": [
    "### Preorder Traversal (Recursive)\n",
    "\n",
    "Traversal Order: Root, Left, Right"
   ]
  },
  {
   "cell_type": "code",
   "execution_count": 56,
   "metadata": {},
   "outputs": [],
   "source": [
    "def preorder_with_steps(node, depth=0):\n",
    "    if node:\n",
    "        display(HTML(\"-\" * depth + \"->\" + f\"<b>Visiting Node {node.value} </b>\"))\n",
    "        # print(node.value, end=' ')\n",
    "        print(\"-\" * depth + \"->\" + f\"Entering Left Subtree of Node {node.value}\")\n",
    "        preorder_with_steps(node.left, depth + 1)\n",
    "        print(\"-\" * depth + \"->\" + f\"Entering Right Subtree of Node {node.value}\")\n",
    "        preorder_with_steps(node.right, depth + 1)\n",
    "    else:\n",
    "        print(\"-\" * depth + \"->\" + \"Reached None\")"
   ]
  },
  {
   "cell_type": "code",
   "execution_count": 57,
   "metadata": {},
   "outputs": [
    {
     "data": {
      "text/html": [
       "<b>Preorder Traversal with Steps </b> \n"
      ],
      "text/plain": [
       "<IPython.core.display.HTML object>"
      ]
     },
     "metadata": {},
     "output_type": "display_data"
    },
    {
     "data": {
      "text/html": [
       "-><b>Visiting Node 1 </b>"
      ],
      "text/plain": [
       "<IPython.core.display.HTML object>"
      ]
     },
     "metadata": {},
     "output_type": "display_data"
    },
    {
     "name": "stdout",
     "output_type": "stream",
     "text": [
      "->Entering Left Subtree of Node 1\n"
     ]
    },
    {
     "data": {
      "text/html": [
       "--><b>Visiting Node 2 </b>"
      ],
      "text/plain": [
       "<IPython.core.display.HTML object>"
      ]
     },
     "metadata": {},
     "output_type": "display_data"
    },
    {
     "name": "stdout",
     "output_type": "stream",
     "text": [
      "-->Entering Left Subtree of Node 2\n"
     ]
    },
    {
     "data": {
      "text/html": [
       "---><b>Visiting Node 4 </b>"
      ],
      "text/plain": [
       "<IPython.core.display.HTML object>"
      ]
     },
     "metadata": {},
     "output_type": "display_data"
    },
    {
     "name": "stdout",
     "output_type": "stream",
     "text": [
      "--->Entering Left Subtree of Node 4\n",
      "---->Reached None\n",
      "--->Entering Right Subtree of Node 4\n",
      "---->Reached None\n",
      "-->Entering Right Subtree of Node 2\n"
     ]
    },
    {
     "data": {
      "text/html": [
       "---><b>Visiting Node 5 </b>"
      ],
      "text/plain": [
       "<IPython.core.display.HTML object>"
      ]
     },
     "metadata": {},
     "output_type": "display_data"
    },
    {
     "name": "stdout",
     "output_type": "stream",
     "text": [
      "--->Entering Left Subtree of Node 5\n",
      "---->Reached None\n",
      "--->Entering Right Subtree of Node 5\n"
     ]
    },
    {
     "data": {
      "text/html": [
       "----><b>Visiting Node 7 </b>"
      ],
      "text/plain": [
       "<IPython.core.display.HTML object>"
      ]
     },
     "metadata": {},
     "output_type": "display_data"
    },
    {
     "name": "stdout",
     "output_type": "stream",
     "text": [
      "---->Entering Left Subtree of Node 7\n",
      "----->Reached None\n",
      "---->Entering Right Subtree of Node 7\n",
      "----->Reached None\n",
      "->Entering Right Subtree of Node 1\n"
     ]
    },
    {
     "data": {
      "text/html": [
       "--><b>Visiting Node 3 </b>"
      ],
      "text/plain": [
       "<IPython.core.display.HTML object>"
      ]
     },
     "metadata": {},
     "output_type": "display_data"
    },
    {
     "name": "stdout",
     "output_type": "stream",
     "text": [
      "-->Entering Left Subtree of Node 3\n",
      "--->Reached None\n",
      "-->Entering Right Subtree of Node 3\n"
     ]
    },
    {
     "data": {
      "text/html": [
       "---><b>Visiting Node 6 </b>"
      ],
      "text/plain": [
       "<IPython.core.display.HTML object>"
      ]
     },
     "metadata": {},
     "output_type": "display_data"
    },
    {
     "name": "stdout",
     "output_type": "stream",
     "text": [
      "--->Entering Left Subtree of Node 6\n",
      "---->Reached None\n",
      "--->Entering Right Subtree of Node 6\n",
      "---->Reached None\n"
     ]
    }
   ],
   "source": [
    "display(HTML(\"<b>Preorder Traversal with Steps </b> \\n\"))\n",
    "\n",
    "preorder_with_steps(root)"
   ]
  },
  {
   "cell_type": "markdown",
   "metadata": {},
   "source": [
    "### Postorder Traversal (Recursive)\n",
    "\n",
    "Traversal Order: Left, Right, Root"
   ]
  },
  {
   "cell_type": "code",
   "execution_count": 58,
   "metadata": {},
   "outputs": [],
   "source": [
    "def postorder_with_steps(node, depth=0):\n",
    "    if node:\n",
    "        print(\"-\" * depth + \"->\" + f\"Entering Left Subtree of Node {node.value}\")\n",
    "        postorder_with_steps(node.left, depth + 1)\n",
    "        print(\"-\" * depth + \"->\" + f\"Entering Right Subtree of Node {node.value}\")\n",
    "        postorder_with_steps(node.right, depth + 1)\n",
    "        display(HTML(\"-\" * depth + \"->\" + f\"<b>Visiting Node {node.value} </b>\"))\n",
    "        print(node.value, end=' ')\n",
    "    else:\n",
    "        print(\"-\" * depth + \"->\" + \"Reached None\")"
   ]
  },
  {
   "cell_type": "code",
   "execution_count": 59,
   "metadata": {},
   "outputs": [
    {
     "data": {
      "text/html": [
       "<b>Postorder Traversal with Steps </b> \n"
      ],
      "text/plain": [
       "<IPython.core.display.HTML object>"
      ]
     },
     "metadata": {},
     "output_type": "display_data"
    },
    {
     "name": "stdout",
     "output_type": "stream",
     "text": [
      "->Entering Left Subtree of Node 1\n",
      "-->Entering Left Subtree of Node 2\n",
      "--->Entering Left Subtree of Node 4\n",
      "---->Reached None\n",
      "--->Entering Right Subtree of Node 4\n",
      "---->Reached None\n"
     ]
    },
    {
     "data": {
      "text/html": [
       "---><b>Visiting Node 4 </b>"
      ],
      "text/plain": [
       "<IPython.core.display.HTML object>"
      ]
     },
     "metadata": {},
     "output_type": "display_data"
    },
    {
     "name": "stdout",
     "output_type": "stream",
     "text": [
      "4 -->Entering Right Subtree of Node 2\n",
      "--->Entering Left Subtree of Node 5\n",
      "---->Reached None\n",
      "--->Entering Right Subtree of Node 5\n",
      "---->Entering Left Subtree of Node 7\n",
      "----->Reached None\n",
      "---->Entering Right Subtree of Node 7\n",
      "----->Reached None\n"
     ]
    },
    {
     "data": {
      "text/html": [
       "----><b>Visiting Node 7 </b>"
      ],
      "text/plain": [
       "<IPython.core.display.HTML object>"
      ]
     },
     "metadata": {},
     "output_type": "display_data"
    },
    {
     "name": "stdout",
     "output_type": "stream",
     "text": [
      "7 "
     ]
    },
    {
     "data": {
      "text/html": [
       "---><b>Visiting Node 5 </b>"
      ],
      "text/plain": [
       "<IPython.core.display.HTML object>"
      ]
     },
     "metadata": {},
     "output_type": "display_data"
    },
    {
     "name": "stdout",
     "output_type": "stream",
     "text": [
      "5 "
     ]
    },
    {
     "data": {
      "text/html": [
       "--><b>Visiting Node 2 </b>"
      ],
      "text/plain": [
       "<IPython.core.display.HTML object>"
      ]
     },
     "metadata": {},
     "output_type": "display_data"
    },
    {
     "name": "stdout",
     "output_type": "stream",
     "text": [
      "2 ->Entering Right Subtree of Node 1\n",
      "-->Entering Left Subtree of Node 3\n",
      "--->Reached None\n",
      "-->Entering Right Subtree of Node 3\n",
      "--->Entering Left Subtree of Node 6\n",
      "---->Reached None\n",
      "--->Entering Right Subtree of Node 6\n",
      "---->Reached None\n"
     ]
    },
    {
     "data": {
      "text/html": [
       "---><b>Visiting Node 6 </b>"
      ],
      "text/plain": [
       "<IPython.core.display.HTML object>"
      ]
     },
     "metadata": {},
     "output_type": "display_data"
    },
    {
     "name": "stdout",
     "output_type": "stream",
     "text": [
      "6 "
     ]
    },
    {
     "data": {
      "text/html": [
       "--><b>Visiting Node 3 </b>"
      ],
      "text/plain": [
       "<IPython.core.display.HTML object>"
      ]
     },
     "metadata": {},
     "output_type": "display_data"
    },
    {
     "name": "stdout",
     "output_type": "stream",
     "text": [
      "3 "
     ]
    },
    {
     "data": {
      "text/html": [
       "-><b>Visiting Node 1 </b>"
      ],
      "text/plain": [
       "<IPython.core.display.HTML object>"
      ]
     },
     "metadata": {},
     "output_type": "display_data"
    },
    {
     "name": "stdout",
     "output_type": "stream",
     "text": [
      "1 "
     ]
    }
   ],
   "source": [
    "display(HTML(\"<b>Postorder Traversal with Steps </b> \\n\"))\n",
    "postorder_with_steps(root)"
   ]
  },
  {
   "cell_type": "markdown",
   "metadata": {},
   "source": [
    "### Level Order Traversal (Iterative)\n",
    "\n",
    "Traversal Order: Level by Level from Left to Right"
   ]
  },
  {
   "cell_type": "code",
   "execution_count": 66,
   "metadata": {},
   "outputs": [],
   "source": [
    "from collections import deque\n",
    "\n",
    "def level_order_with_steps(root):\n",
    "    if root is None:\n",
    "        return\n",
    "    queue = deque()\n",
    "    queue.append(root)\n",
    "    level = 0\n",
    "    while queue:\n",
    "        level_size = len(queue)\n",
    "        print(f\"Level {level}:\")\n",
    "        for i in range(level_size):\n",
    "            node = queue.popleft()\n",
    "\n",
    "            display(HTML(\"->\" + f\"<b>Visiting Node {node.value} </b>\"))\n",
    "            # print(node.value, end=' ')\n",
    "            if node.left:\n",
    "                print(f\"-->Enqueue Left Child {node.left.value}\")\n",
    "                queue.append(node.left)\n",
    "            if node.right:\n",
    "                print(f\"-->Enqueue Right Child {node.right.value}\")\n",
    "                queue.append(node.right)\n",
    "        print()\n",
    "        level += 1"
   ]
  },
  {
   "cell_type": "code",
   "execution_count": 67,
   "metadata": {},
   "outputs": [
    {
     "data": {
      "text/html": [
       "<b>Level Order Traversal with Steps </b> \n"
      ],
      "text/plain": [
       "<IPython.core.display.HTML object>"
      ]
     },
     "metadata": {},
     "output_type": "display_data"
    },
    {
     "name": "stdout",
     "output_type": "stream",
     "text": [
      "Level 0:\n"
     ]
    },
    {
     "data": {
      "text/html": [
       "-><b>Visiting Node 1 </b>"
      ],
      "text/plain": [
       "<IPython.core.display.HTML object>"
      ]
     },
     "metadata": {},
     "output_type": "display_data"
    },
    {
     "name": "stdout",
     "output_type": "stream",
     "text": [
      "-->Enqueue Left Child 2\n",
      "-->Enqueue Right Child 3\n",
      "\n",
      "Level 1:\n"
     ]
    },
    {
     "data": {
      "text/html": [
       "-><b>Visiting Node 2 </b>"
      ],
      "text/plain": [
       "<IPython.core.display.HTML object>"
      ]
     },
     "metadata": {},
     "output_type": "display_data"
    },
    {
     "name": "stdout",
     "output_type": "stream",
     "text": [
      "-->Enqueue Left Child 4\n",
      "-->Enqueue Right Child 5\n"
     ]
    },
    {
     "data": {
      "text/html": [
       "-><b>Visiting Node 3 </b>"
      ],
      "text/plain": [
       "<IPython.core.display.HTML object>"
      ]
     },
     "metadata": {},
     "output_type": "display_data"
    },
    {
     "name": "stdout",
     "output_type": "stream",
     "text": [
      "-->Enqueue Right Child 6\n",
      "\n",
      "Level 2:\n"
     ]
    },
    {
     "data": {
      "text/html": [
       "-><b>Visiting Node 4 </b>"
      ],
      "text/plain": [
       "<IPython.core.display.HTML object>"
      ]
     },
     "metadata": {},
     "output_type": "display_data"
    },
    {
     "data": {
      "text/html": [
       "-><b>Visiting Node 5 </b>"
      ],
      "text/plain": [
       "<IPython.core.display.HTML object>"
      ]
     },
     "metadata": {},
     "output_type": "display_data"
    },
    {
     "name": "stdout",
     "output_type": "stream",
     "text": [
      "-->Enqueue Right Child 7\n"
     ]
    },
    {
     "data": {
      "text/html": [
       "-><b>Visiting Node 6 </b>"
      ],
      "text/plain": [
       "<IPython.core.display.HTML object>"
      ]
     },
     "metadata": {},
     "output_type": "display_data"
    },
    {
     "name": "stdout",
     "output_type": "stream",
     "text": [
      "\n",
      "Level 3:\n"
     ]
    },
    {
     "data": {
      "text/html": [
       "-><b>Visiting Node 7 </b>"
      ],
      "text/plain": [
       "<IPython.core.display.HTML object>"
      ]
     },
     "metadata": {},
     "output_type": "display_data"
    },
    {
     "name": "stdout",
     "output_type": "stream",
     "text": [
      "\n"
     ]
    }
   ],
   "source": [
    "display(HTML(\"<b>Level Order Traversal with Steps </b> \\n\"))\n",
    "level_order_with_steps(root)"
   ]
  },
  {
   "cell_type": "markdown",
   "metadata": {},
   "source": [
    "### Inorder Traversal (Iterative)\n",
    "\n",
    "Traversal Order: Left, Root, Right"
   ]
  },
  {
   "cell_type": "code",
   "execution_count": 70,
   "metadata": {},
   "outputs": [],
   "source": [
    "def inorder_iterative_with_steps(root):\n",
    "    stack = []\n",
    "    current = root\n",
    "    step = 0\n",
    "    while stack or current:\n",
    "        if current:\n",
    "            print(f\"Step {step}: Push Node {current.value} to stack and move left\")\n",
    "            stack.append(current)\n",
    "            current = current.left\n",
    "        else:\n",
    "            current = stack.pop()\n",
    "            print(f\"Step {step}: Pop Node {current.value} from stack\")\n",
    "            display(HTML(\"->\" + f\"<b>Visiting Node {current.value} </b>\"))\n",
    "            # print(current.value, end=' ')\n",
    "            current = current.right\n",
    "        step += 1"
   ]
  },
  {
   "cell_type": "code",
   "execution_count": 72,
   "metadata": {},
   "outputs": [
    {
     "data": {
      "text/html": [
       "<b>Iterative Inorder Traversal with Steps </b> \n"
      ],
      "text/plain": [
       "<IPython.core.display.HTML object>"
      ]
     },
     "metadata": {},
     "output_type": "display_data"
    },
    {
     "name": "stdout",
     "output_type": "stream",
     "text": [
      "Step 0: Push Node 1 to stack and move left\n",
      "Step 1: Push Node 2 to stack and move left\n",
      "Step 2: Push Node 4 to stack and move left\n",
      "Step 3: Pop Node 4 from stack\n"
     ]
    },
    {
     "data": {
      "text/html": [
       "-><b>Visiting Node 4 </b>"
      ],
      "text/plain": [
       "<IPython.core.display.HTML object>"
      ]
     },
     "metadata": {},
     "output_type": "display_data"
    },
    {
     "name": "stdout",
     "output_type": "stream",
     "text": [
      "Step 4: Pop Node 2 from stack\n"
     ]
    },
    {
     "data": {
      "text/html": [
       "-><b>Visiting Node 2 </b>"
      ],
      "text/plain": [
       "<IPython.core.display.HTML object>"
      ]
     },
     "metadata": {},
     "output_type": "display_data"
    },
    {
     "name": "stdout",
     "output_type": "stream",
     "text": [
      "Step 5: Push Node 5 to stack and move left\n",
      "Step 6: Pop Node 5 from stack\n"
     ]
    },
    {
     "data": {
      "text/html": [
       "-><b>Visiting Node 5 </b>"
      ],
      "text/plain": [
       "<IPython.core.display.HTML object>"
      ]
     },
     "metadata": {},
     "output_type": "display_data"
    },
    {
     "name": "stdout",
     "output_type": "stream",
     "text": [
      "Step 7: Push Node 7 to stack and move left\n",
      "Step 8: Pop Node 7 from stack\n"
     ]
    },
    {
     "data": {
      "text/html": [
       "-><b>Visiting Node 7 </b>"
      ],
      "text/plain": [
       "<IPython.core.display.HTML object>"
      ]
     },
     "metadata": {},
     "output_type": "display_data"
    },
    {
     "name": "stdout",
     "output_type": "stream",
     "text": [
      "Step 9: Pop Node 1 from stack\n"
     ]
    },
    {
     "data": {
      "text/html": [
       "-><b>Visiting Node 1 </b>"
      ],
      "text/plain": [
       "<IPython.core.display.HTML object>"
      ]
     },
     "metadata": {},
     "output_type": "display_data"
    },
    {
     "name": "stdout",
     "output_type": "stream",
     "text": [
      "Step 10: Push Node 3 to stack and move left\n",
      "Step 11: Pop Node 3 from stack\n"
     ]
    },
    {
     "data": {
      "text/html": [
       "-><b>Visiting Node 3 </b>"
      ],
      "text/plain": [
       "<IPython.core.display.HTML object>"
      ]
     },
     "metadata": {},
     "output_type": "display_data"
    },
    {
     "name": "stdout",
     "output_type": "stream",
     "text": [
      "Step 12: Push Node 6 to stack and move left\n",
      "Step 13: Pop Node 6 from stack\n"
     ]
    },
    {
     "data": {
      "text/html": [
       "-><b>Visiting Node 6 </b>"
      ],
      "text/plain": [
       "<IPython.core.display.HTML object>"
      ]
     },
     "metadata": {},
     "output_type": "display_data"
    }
   ],
   "source": [
    "display(HTML(\"<b>Iterative Inorder Traversal with Steps </b> \\n\"))\n",
    "\n",
    "inorder_iterative_with_steps(root)"
   ]
  },
  {
   "cell_type": "markdown",
   "metadata": {},
   "source": [
    "### Preorder Traversal (Iterative)\n",
    "\n",
    "Traversal Order: Root, Left, Right"
   ]
  },
  {
   "cell_type": "code",
   "execution_count": 73,
   "metadata": {},
   "outputs": [],
   "source": [
    "def preorder_iterative_with_steps(root):\n",
    "    if root is None:\n",
    "        return\n",
    "    stack = [root]\n",
    "    step = 0\n",
    "    while stack:\n",
    "        current = stack.pop()\n",
    "        print(f\"Step {step}: Pop Node {current.value} from stack\")\n",
    "        display(HTML(\"->\" + f\"<b>Visiting Node {current.value} </b>\"))\n",
    "        # print(current.value, end=' ')\n",
    "        if current.right:\n",
    "            print(f\"  Push Right Child {current.right.value} to stack\")\n",
    "            stack.append(current.right)\n",
    "        if current.left:\n",
    "            print(f\"  Push Left Child {current.left.value} to stack\")\n",
    "            stack.append(current.left)\n",
    "        step += 1"
   ]
  },
  {
   "cell_type": "code",
   "execution_count": 74,
   "metadata": {},
   "outputs": [
    {
     "data": {
      "text/html": [
       "<b>Iterative Preorder Traversal with Steps </b> \n"
      ],
      "text/plain": [
       "<IPython.core.display.HTML object>"
      ]
     },
     "metadata": {},
     "output_type": "display_data"
    },
    {
     "name": "stdout",
     "output_type": "stream",
     "text": [
      "Step 0: Pop Node 1 from stack\n"
     ]
    },
    {
     "data": {
      "text/html": [
       "-><b>Visiting Node 1 </b>"
      ],
      "text/plain": [
       "<IPython.core.display.HTML object>"
      ]
     },
     "metadata": {},
     "output_type": "display_data"
    },
    {
     "name": "stdout",
     "output_type": "stream",
     "text": [
      "  Push Right Child 3 to stack\n",
      "  Push Left Child 2 to stack\n",
      "Step 1: Pop Node 2 from stack\n"
     ]
    },
    {
     "data": {
      "text/html": [
       "-><b>Visiting Node 2 </b>"
      ],
      "text/plain": [
       "<IPython.core.display.HTML object>"
      ]
     },
     "metadata": {},
     "output_type": "display_data"
    },
    {
     "name": "stdout",
     "output_type": "stream",
     "text": [
      "  Push Right Child 5 to stack\n",
      "  Push Left Child 4 to stack\n",
      "Step 2: Pop Node 4 from stack\n"
     ]
    },
    {
     "data": {
      "text/html": [
       "-><b>Visiting Node 4 </b>"
      ],
      "text/plain": [
       "<IPython.core.display.HTML object>"
      ]
     },
     "metadata": {},
     "output_type": "display_data"
    },
    {
     "name": "stdout",
     "output_type": "stream",
     "text": [
      "Step 3: Pop Node 5 from stack\n"
     ]
    },
    {
     "data": {
      "text/html": [
       "-><b>Visiting Node 5 </b>"
      ],
      "text/plain": [
       "<IPython.core.display.HTML object>"
      ]
     },
     "metadata": {},
     "output_type": "display_data"
    },
    {
     "name": "stdout",
     "output_type": "stream",
     "text": [
      "  Push Right Child 7 to stack\n",
      "Step 4: Pop Node 7 from stack\n"
     ]
    },
    {
     "data": {
      "text/html": [
       "-><b>Visiting Node 7 </b>"
      ],
      "text/plain": [
       "<IPython.core.display.HTML object>"
      ]
     },
     "metadata": {},
     "output_type": "display_data"
    },
    {
     "name": "stdout",
     "output_type": "stream",
     "text": [
      "Step 5: Pop Node 3 from stack\n"
     ]
    },
    {
     "data": {
      "text/html": [
       "-><b>Visiting Node 3 </b>"
      ],
      "text/plain": [
       "<IPython.core.display.HTML object>"
      ]
     },
     "metadata": {},
     "output_type": "display_data"
    },
    {
     "name": "stdout",
     "output_type": "stream",
     "text": [
      "  Push Right Child 6 to stack\n",
      "Step 6: Pop Node 6 from stack\n"
     ]
    },
    {
     "data": {
      "text/html": [
       "-><b>Visiting Node 6 </b>"
      ],
      "text/plain": [
       "<IPython.core.display.HTML object>"
      ]
     },
     "metadata": {},
     "output_type": "display_data"
    }
   ],
   "source": [
    "display(HTML(\"<b>Iterative Preorder Traversal with Steps </b> \\n\"))\n",
    "\n",
    "preorder_iterative_with_steps(root)"
   ]
  },
  {
   "cell_type": "markdown",
   "metadata": {},
   "source": [
    "### Postorder Traversal (Iterative)\n",
    "\n",
    "Traversal Order: Left, Right, Root"
   ]
  },
  {
   "cell_type": "code",
   "execution_count": 75,
   "metadata": {},
   "outputs": [],
   "source": [
    "def postorder_iterative_with_steps(root):\n",
    "    if root is None:\n",
    "        return\n",
    "    stack1 = [root]\n",
    "    stack2 = []\n",
    "    step = 0\n",
    "    while stack1:\n",
    "        current = stack1.pop()\n",
    "        print(f\"Step {step}: Pop Node {current.value} from stack1 and push to stack2\")\n",
    "        stack2.append(current)\n",
    "        if current.left:\n",
    "            print(f\"  Push Left Child {current.left.value} to stack1\")\n",
    "            stack1.append(current.left)\n",
    "        if current.right:\n",
    "            print(f\"  Push Right Child {current.right.value} to stack1\")\n",
    "            stack1.append(current.right)\n",
    "        step += 1\n",
    "    print(\"Processing stack2 for final output:\")\n",
    "    while stack2:\n",
    "        current = stack2.pop()\n",
    "        display(HTML(\"->\" + f\"<b>Visiting Node {current.value} </b>\"))\n",
    "        # print(current.value, end=' ')"
   ]
  },
  {
   "cell_type": "code",
   "execution_count": 76,
   "metadata": {},
   "outputs": [
    {
     "data": {
      "text/html": [
       "<b>Iterative Postorder Traversal with Steps </b> \n"
      ],
      "text/plain": [
       "<IPython.core.display.HTML object>"
      ]
     },
     "metadata": {},
     "output_type": "display_data"
    },
    {
     "name": "stdout",
     "output_type": "stream",
     "text": [
      "Step 0: Pop Node 1 from stack1 and push to stack2\n",
      "  Push Left Child 2 to stack1\n",
      "  Push Right Child 3 to stack1\n",
      "Step 1: Pop Node 3 from stack1 and push to stack2\n",
      "  Push Right Child 6 to stack1\n",
      "Step 2: Pop Node 6 from stack1 and push to stack2\n",
      "Step 3: Pop Node 2 from stack1 and push to stack2\n",
      "  Push Left Child 4 to stack1\n",
      "  Push Right Child 5 to stack1\n",
      "Step 4: Pop Node 5 from stack1 and push to stack2\n",
      "  Push Right Child 7 to stack1\n",
      "Step 5: Pop Node 7 from stack1 and push to stack2\n",
      "Step 6: Pop Node 4 from stack1 and push to stack2\n",
      "Processing stack2 for final output:\n"
     ]
    },
    {
     "data": {
      "text/html": [
       "-><b>Visiting Node 4 </b>"
      ],
      "text/plain": [
       "<IPython.core.display.HTML object>"
      ]
     },
     "metadata": {},
     "output_type": "display_data"
    },
    {
     "data": {
      "text/html": [
       "-><b>Visiting Node 7 </b>"
      ],
      "text/plain": [
       "<IPython.core.display.HTML object>"
      ]
     },
     "metadata": {},
     "output_type": "display_data"
    },
    {
     "data": {
      "text/html": [
       "-><b>Visiting Node 5 </b>"
      ],
      "text/plain": [
       "<IPython.core.display.HTML object>"
      ]
     },
     "metadata": {},
     "output_type": "display_data"
    },
    {
     "data": {
      "text/html": [
       "-><b>Visiting Node 2 </b>"
      ],
      "text/plain": [
       "<IPython.core.display.HTML object>"
      ]
     },
     "metadata": {},
     "output_type": "display_data"
    },
    {
     "data": {
      "text/html": [
       "-><b>Visiting Node 6 </b>"
      ],
      "text/plain": [
       "<IPython.core.display.HTML object>"
      ]
     },
     "metadata": {},
     "output_type": "display_data"
    },
    {
     "data": {
      "text/html": [
       "-><b>Visiting Node 3 </b>"
      ],
      "text/plain": [
       "<IPython.core.display.HTML object>"
      ]
     },
     "metadata": {},
     "output_type": "display_data"
    },
    {
     "data": {
      "text/html": [
       "-><b>Visiting Node 1 </b>"
      ],
      "text/plain": [
       "<IPython.core.display.HTML object>"
      ]
     },
     "metadata": {},
     "output_type": "display_data"
    }
   ],
   "source": [
    "display(HTML(\"<b>Iterative Postorder Traversal with Steps </b> \\n\"))\n",
    "postorder_iterative_with_steps(root)"
   ]
  },
  {
   "cell_type": "markdown",
   "metadata": {},
   "source": [
    "- **Recursive Traversals:** Adding print statements before and after recursive calls helps visualize the call stack and the order of operations.\n",
    "- **Iterative Traversals:** Printing the contents of stacks or queues at each step illustrates how these data structures control the traversal order."
   ]
  },
  {
   "cell_type": "markdown",
   "metadata": {},
   "source": [
    "## Trees in Competitive Programming\n",
    "\n",
    "In competitive programming, trees are often represented in the form of graphs since they are acyclic connected graphs.\n",
    "\n",
    "### Representing Trees\n",
    "\n",
    "1. **Adjacency List**\n",
    "\n",
    "```python\n",
    "n = 5  # Number of nodes\n",
    "tree = [[] for _ in range(n+1)]\n",
    "\n",
    "# Assuming edges are given\n",
    "edges = [(1,2), (1,3), (2,4), (2,5)]\n",
    "\n",
    "for u, v in edges:\n",
    "    tree[u].append(v)\n",
    "    tree[v].append(u)  # Because the tree is undirected\n",
    "```\n",
    "\n",
    "2. **Edge List**\n",
    "\n",
    "```python\n",
    "edges = [(1,2), (1,3), (2,4), (2,5)]\n",
    "```\n",
    "\n",
    "3. **Parent Array**\n",
    "\n",
    "If we know the parent of each node:\n",
    "\n",
    "```python\n",
    "parent = [0]*(n+1)\n",
    "parent[1] = -1  # Root node\n",
    "\n",
    "for u, v in edges:\n",
    "    parent[v] = u  # Assuming u is the parent of v\n",
    "```\n",
    "\n",
    "### Common Tree Problems in Competitive Programming\n",
    "\n",
    "1. **Tree Traversals**: Performing DFS or BFS on trees.\n",
    "\n",
    "2. **Diameter of a Tree**: The longest path between any two nodes in a tree.\n",
    "\n",
    "   **Algorithm (Using DFS Twice):**\n",
    "\n",
    "   - Run DFS from any node and find the farthest node `u`.\n",
    "   - Run DFS from `u` and find the farthest node `v`. The distance between `u` and `v` is the diameter.\n",
    "\n",
    "   **Implementation:**\n",
    "\n",
    "   ```python\n",
    "   def dfs(node, parent, depth):\n",
    "       depths[node] = depth\n",
    "       for neighbor in tree[node]:\n",
    "           if neighbor != parent:\n",
    "               dfs(neighbor, node, depth + 1)\n",
    "\n",
    "   n = len(tree)\n",
    "   depths = [0]*(n+1)\n",
    "\n",
    "   # First DFS\n",
    "   dfs(1, -1, 0)\n",
    "   u = depths.index(max(depths))\n",
    "\n",
    "   # Reset depths\n",
    "   depths = [0]*(n+1)\n",
    "\n",
    "   # Second DFS\n",
    "   dfs(u, -1, 0)\n",
    "   diameter = max(depths)\n",
    "   ```\n",
    "\n",
    "3. **Lowest Common Ancestor (LCA)**: Finding the lowest common ancestor of two nodes in a tree.\n",
    "\n",
    "   **Binary Lifting Method:**\n",
    "\n",
    "   - Preprocess ancestors of each node using dynamic programming.\n",
    "   - Use powers of two to jump up the tree.\n",
    "\n",
    "   **Implementation Sketch:**\n",
    "\n",
    "   ```python\n",
    "   LOGN = 20  # Assuming n <= 1e6\n",
    "   up = [[-1]*LOGN for _ in range(n+1)]\n",
    "   depth = [0]*(n+1)\n",
    "\n",
    "   def dfs(u, p):\n",
    "       up[u][0] = p\n",
    "       for i in range(1, LOGN):\n",
    "           if up[u][i-1] != -1:\n",
    "               up[u][i] = up[up[u][i-1]][i-1]\n",
    "       for v in tree[u]:\n",
    "           if v != p:\n",
    "               depth[v] = depth[u] + 1\n",
    "               dfs(v, u)\n",
    "   ```\n",
    "\n",
    "4. **Tree DP**: Dynamic programming on trees, such as counting the number of ways to color the tree, finding the maximum independent set, etc.\n",
    "\n",
    "   **Example (Counting Subtrees of Each Node):**\n",
    "\n",
    "   ```python\n",
    "   def count_subtrees(u, p):\n",
    "       count = 1\n",
    "       for v in tree[u]:\n",
    "           if v != p:\n",
    "               count += count_subtrees(v, u)\n",
    "       subtree_count[u] = count\n",
    "       return count\n",
    "\n",
    "   subtree_count = [0]*(n+1)\n",
    "   count_subtrees(1, -1)\n",
    "   ```\n",
    "\n",
    "### Tips for Solving Tree Problems\n",
    "\n",
    "- **Understand Tree Properties**: Knowing properties like the number of edges (n-1), acyclicity, and connectivity helps.\n",
    "- **Choose the Right Traversal**: Depending on the problem, choose between DFS and BFS.\n",
    "- **Preprocessing**: For problems like LCA, preprocess data using techniques like binary lifting or Euler tour.\n",
    "- **Edge Cases**: Be careful with edge cases like leaf nodes or single-node trees.\n",
    "- **Optimization**: Use efficient algorithms for heavy computations (e.g., O(log n) time for LCA queries).\n"
   ]
  },
  {
   "cell_type": "code",
   "execution_count": null,
   "metadata": {},
   "outputs": [],
   "source": []
  }
 ],
 "metadata": {
  "kernelspec": {
   "display_name": "ml_notes",
   "language": "python",
   "name": "python3"
  },
  "language_info": {
   "codemirror_mode": {
    "name": "ipython",
    "version": 3
   },
   "file_extension": ".py",
   "mimetype": "text/x-python",
   "name": "python",
   "nbconvert_exporter": "python",
   "pygments_lexer": "ipython3",
   "version": "3.11.9"
  }
 },
 "nbformat": 4,
 "nbformat_minor": 2
}
