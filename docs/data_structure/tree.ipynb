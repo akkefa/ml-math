{
 "cells": [
  {
   "cell_type": "markdown",
   "metadata": {},
   "source": [
    "```{title} Tree Data Structure\n",
    "```\n",
    "# Tree"
   ]
  },
  {
   "cell_type": "markdown",
   "metadata": {},
   "source": [
    "A tree is a widely used abstract data structure that simulates a hierarchical tree structure, with a root value and subtrees of children represented as a set of linked nodes. It is a non-linear data structure compared to arrays, linked lists, stacks, and queues which are linear data structures.\n",
    "\n",
    "## Key Terminologies\n",
    "\n",
    "- **Node**: The fundamental part of a tree which contains data and links to other nodes.\n",
    "- **Root**: The top node in a tree.\n",
    "- **Edge**: The link between any two nodes.\n",
    "- **Child**: A node directly connected to another node when moving away from the Root.\n",
    "- **Parent**: The converse notion of a child.\n",
    "- **Leaf**: A node with no children.\n",
    "- **Subtree**: A tree formed by a node and its descendants.\n",
    "- **Depth**: The length of the path from the root to the node.\n",
    "- **Height**: The length of the path from the node to the deepest leaf.\n",
    "\n",
    "```{image} https://github.com/akkefa/ml-notes/releases/download/v0.1.0/Treedatastructure.png\n",
    ":align: center\n",
    ":alt: Combination\n",
    ":width: 80%\n",
    "```\n",
    "\n",
    "## Types of Trees\n",
    "\n",
    "- **Binary Tree**: Each node has at most two children.\n",
    "- **Binary Search Tree (BST)**: A binary tree where the left child contains only nodes with values less than the parent node, and the right child only nodes with values greater than the parent node.\n",
    "- **Balanced Tree**: A tree where the height of the left and right subtree of any node differ by not more than one.\n",
    "- **AVL Tree, Red-Black Tree, B-Tree**: Self-balancing binary search trees.\n",
    "\n",
    "\n",
    "**Implementing Trees in Python**\n",
    "\n",
    "Python doesn't have a built-in tree data structure, but it can be implemented using classes and objects.\n",
    "\n",
    "Implementing a Node\n",
    "\n",
    "Creating a Binary Tree"
   ]
  },
  {
   "cell_type": "code",
   "execution_count": 3,
   "metadata": {},
   "outputs": [],
   "source": [
    "class Node:\n",
    "    def __init__(self, value):\n",
    "        self.value = value\n",
    "        self.left = None\n",
    "        self.right = None"
   ]
  },
  {
   "cell_type": "code",
   "execution_count": 4,
   "metadata": {},
   "outputs": [],
   "source": [
    "# Creating nodes\n",
    "root = Node(1)\n",
    "root.left = Node(2)\n",
    "root.right = Node(3)\n",
    "\n",
    "# Adding more nodes\n",
    "root.left.left = Node(4)\n",
    "root.left.right = Node(5)"
   ]
  },
  {
   "cell_type": "markdown",
   "metadata": {},
   "source": [
    "### Binary Search Tree\n",
    "A Binary Search Tree (BST) is a special type of binary tree in which the left child of a node has a value less than the node’s value and the right child has a value greater than the node’s value. This property is called the BST property and it makes it possible to efficiently search, insert, and delete elements in the tree.\n",
    "\n",
    "In a Binary search tree, the value of left node must be smaller than the parent node, and the value of right node must be greater than the parent node. This rule is applied recursively to the left and right subtrees of the root.\n",
    "\n",
    "**Left node > Parent node > Right node**\n",
    "\n",
    "```{image} https://media.geeksforgeeks.org/wp-content/cdn-uploads/20221215114732/bst-21.png\n",
    ":align: center\n",
    ":alt: Binary Search Tree\n",
    ":width: 80%\n",
    "```\n",
    "\n",
    "#### Advantages of Binary search tree\n",
    "Searching an element in the Binary search tree is easy as we always have a hint that which subtree has the desired element.\n",
    "\n",
    "As compared to array and linked lists, insertion and deletion operations are faster in BST.\n",
    "\n",
    "```python\n",
    "\n",
    "class Node: \n",
    "    # Implement a node of the binary search tree.\n",
    "    # Constructor for a node with key and a given parent\n",
    "    # parent can be None for a root node.\n",
    "    def __init__(self, key, parent = None): \n",
    "        self.key = key\n",
    "        self.parent = parent \n",
    "        self.left = None # We will set left and right child to None\n",
    "        self.right = None\n",
    "        # Make sure that the parent's left/right pointer\n",
    "        # will point to the newly created node.\n",
    "        if parent != None:\n",
    "            if key < parent.key:\n",
    "                assert(parent.left == None), 'parent already has a left child -- unable to create node'\n",
    "                parent.left = self\n",
    "            else: \n",
    "                assert key > parent.key, 'key is same as parent.key. We do not allow duplicate keys in a BST since it breaks some of the algorithms.'\n",
    "                assert(parent.right == None ), 'parent already has a right child -- unable to create node'\n",
    "                parent.right = self\n",
    "        \n",
    "    # Utility function that keeps traversing left until it finds \n",
    "    # the leftmost descendant\n",
    "    def get_leftmost_descendant(self):\n",
    "        if self.left != None:\n",
    "            return self.left.get_leftmost_descendant()\n",
    "        else:\n",
    "            return self\n",
    "    \n",
    "\n",
    "    # You can call search recursively on left or right child\n",
    "    # as appropriate.\n",
    "    # If search succeeds: return a tuple True and the node in the tree\n",
    "    # with the key we are searching for.\n",
    "    # Also note that if the search fails to find the key \n",
    "    # you should return a tuple False and the node which would\n",
    "    # be the parent if we were to insert the key subsequently.\n",
    "    def search(self, key):\n",
    "        if self.key == key: \n",
    "            return (True, self)\n",
    "        # your code here\n",
    "        if self.key < key and self.right != None:\n",
    "            return self.right.search(key)\n",
    "\n",
    "        if self.key > key and self.left != None:\n",
    "            return self.left.search(key)\n",
    "        \n",
    "        return (False, self)\n",
    "        \n",
    "        \n",
    "        \n",
    "    # To insert first search for it and find out\n",
    "    # the parent whose child the currently inserted key will be.\n",
    "    # Create a new node with that key and insert.\n",
    "    # return None if key already exists in the tree.\n",
    "    # return the new node corresponding to the inserted key otherwise.\n",
    "    def insert(self, key):\n",
    "        # your code here\n",
    "        (b, found_node) = self.search(key)\n",
    "        if b is not False:\n",
    "            return None\n",
    "        else:\n",
    "            return Node(key, found_node)\n",
    "        \n",
    "        \n",
    "    # height of a node whose children are both None is defined\n",
    "    # to be 1.\n",
    "    # height of any other node is 1 + maximum of the height \n",
    "    # of its children.\n",
    "    # Return a number that is th eheight.\n",
    "    def height(self):\n",
    "        # your code here\n",
    "        if self.left is None and self.right is None:\n",
    "            return 1\n",
    "        elif self.left is None:\n",
    "            return 1 + self.right.height()\n",
    "        elif self.right is None:\n",
    "            return 1 + self.left.height()\n",
    "        else:\n",
    "            return 1 + max(self.left.height(), self.right.height())\n",
    "        \n",
    "    \n",
    "    # programming.\n",
    "    # Case 1: both children of the node are None\n",
    "    #   -- in this case, deletion is easy: simply find out if the node with key is its\n",
    "    #      parent's left/right child and set the corr. child to None in the parent node.\n",
    "    # Case 2: one of the child is None and the other is not.\n",
    "    #   -- replace the node with its only child. In other words,\n",
    "    #      modify the parent of the child to be the to be deleted node's parent.\n",
    "    #      also change the parent's left/right child appropriately.\n",
    "    # Case 3: both children of the parent are not None.\n",
    "    #    -- first find its successor (go one step right and all the way to the left).\n",
    "    #    -- function get_leftmost_descendant may be helpful here.\n",
    "    #    -- replace the key of the node by its successor.\n",
    "    #    -- delete the successor node.\n",
    "    # return: no return value specified\n",
    "    \n",
    "    def delete(self, key):\n",
    "        (found, node_to_delete) = self.search(key)\n",
    "        assert(found == True), f\"key to be deleted:{key}- does not exist in the tree\"\n",
    "        # your code here\n",
    "        if node_to_delete.left is None and node_to_delete.right is None:\n",
    "            if node_to_delete.parent.left == node_to_delete:\n",
    "                node_to_delete.parent.left = None\n",
    "            else:\n",
    "                node_to_delete.parent.right = None\n",
    "        elif node_to_delete.left is None:\n",
    "            if node_to_delete.parent.left == node_to_delete:\n",
    "                node_to_delete.parent.left = node_to_delete.right\n",
    "            else:\n",
    "                node_to_delete.parent.right = node_to_delete.right\n",
    "        elif node_to_delete.right is None:\n",
    "            if node_to_delete.parent.left == node_to_delete:\n",
    "                node_to_delete.parent.left = node_to_delete.left\n",
    "            else:\n",
    "                node_to_delete.parent.right = node_to_delete.left\n",
    "        else:\n",
    "            successor = node_to_delete.right.get_leftmost_descendant()\n",
    "            node_to_delete.key = successor.key\n",
    "            successor.delete(successor.key)\n",
    "\n",
    "t1 = Node(25, None)\n",
    "t2 = Node(12, t1)\n",
    "t3 = Node(18, t2)\n",
    "t4 = Node(40, t1)\n",
    "\n",
    "print('-- Testing basic node construction (originally provided code) -- ')\n",
    "assert(t1.left == t2), 'test 1 failed'\n",
    "assert(t2.parent == t1),  'test 2 failed'\n",
    "assert(t2.right == t3), 'test 3 failed'\n",
    "assert (t3.parent == t2), 'test 4 failed'\n",
    "assert(t1.right == t4), 'test 5 failed'\n",
    "assert(t4.left == None), 'test 6 failed'\n",
    "assert(t4.right == None), 'test 7 failed'\n",
    "# The tree should be : \n",
    "#             25\n",
    "#             /\\\n",
    "#         12     40\n",
    "#         /\\\n",
    "#     None  18\n",
    "#\n",
    "\n",
    "print('-- Testing search -- ')\n",
    "(b, found_node) = t1.search(18)\n",
    "assert b and found_node.key == 18, 'test 8 failed'\n",
    "(b, found_node) = t1.search(25)\n",
    "assert b and found_node.key == 25, 'test 9 failed -- you should find the node with key 25 which is the root'\n",
    "(b, found_node) = t1.search(26)\n",
    "assert(not b), 'test 10 failed'\n",
    "assert(found_node.key == 40), 'test 11 failed -- you should be returning the leaf node which would be the parent to the node you failed to find if it were to be inserted in the tree.'\n",
    "\n",
    "print('-- Testing insert -- ')\n",
    "ins_node = t1.insert(26)\n",
    "assert ins_node.key == 26, ' test 12 failed '\n",
    "assert ins_node.parent == t4,  ' test 13 failed '\n",
    "assert t4.left == ins_node,  ' test 14 failed '\n",
    "\n",
    "ins_node2 = t1.insert(33)\n",
    "assert ins_node2.key == 33, 'test 15 failed'\n",
    "assert ins_node2.parent == ins_node, 'test 16 failed'\n",
    "assert ins_node.right == ins_node2, 'test 17 failed'\n",
    "\n",
    "print('-- Testing height -- ')\n",
    "\n",
    "assert t1.height() == 4, 'test 18 failed'\n",
    "assert t4.height() == 3, 'test 19 failed'\n",
    "assert t2.height() == 2, 'test 20 failed'\n",
    "\n",
    "\n",
    "# Testing deletion\n",
    "t1 = Node(16, None)\n",
    "# insert the nodes in the list\n",
    "lst = [18,25,10, 14, 8, 22, 17, 12]\n",
    "for elt in lst:\n",
    "    t1.insert(elt)\n",
    "\n",
    "# The tree should look like this\n",
    "#               16\n",
    "#            /     \\\n",
    "#          10      18\n",
    "#        /  \\     /  \\\n",
    "#       8   14   17  25\n",
    "#          /         /  \n",
    "#         12        22\n",
    "\n",
    "\n",
    "# Let us test the three deletion cases.\n",
    "# case 1 let's delete node 8\n",
    "# node 8 does not have left or right children.\n",
    "t1.delete(8) # should have both children nil.\n",
    "(b8,n8) = t1.search(8)\n",
    "assert not b8, 'Test A: deletion fails to delete node.'\n",
    "(b,n) = t1.search(10)\n",
    "assert( b) , 'Test B failed: search does not work'\n",
    "assert n.left == None, 'Test C failed: Node 8 was not properly deleted.'\n",
    "\n",
    "# Let us test deleting the node 14 whose right child is none.\n",
    "# n is still pointing to the node 10 after deleting 8.\n",
    "# let us ensure that it's right child is 14\n",
    "assert n.right != None, 'Test D failed: node 10 should have right child 14'\n",
    "assert n.right.key == 14, 'Test E failed: node 10 should have right child 14'\n",
    "\n",
    "# Let's delete node 14\n",
    "t1.delete(14)\n",
    "(b14, n14) = t1.search(14)\n",
    "assert not b14, 'Test F: Deletion of node 14 failed -- it still exists in the tree.'\n",
    "(b,n) = t1.search(10)\n",
    "assert n.right != None , 'Test G failed: deletion of node 14 not handled correctly'\n",
    "assert n.right.key == 12, f'Test H failed: deletion of node 14 not handled correctly: {n.right.key}'\n",
    "\n",
    "# Let's delete node 18 in the tree. \n",
    "# It should be replaced by 22.\n",
    "\n",
    "t1.delete(18)\n",
    "(b18, n18) = t1.search(18)\n",
    "assert not b18, 'Test I: Deletion of node 18 failed'\n",
    "assert t1.right.key == 22 , ' Test J: Replacement of node with successor failed.'\n",
    "assert t1.right.right.left == None, ' Test K: replacement of node with successor failed -- you did not delete the successor leaf properly?'\n",
    "\n",
    "\n",
    "```\n",
    "\n",
    "#### Height of BST\n",
    "The height of a Binary Tree is defined as the maximum depth of any leaf node from the root node. That is, it is the length of the longest path from the root node to any leaf node.\n",
    "\n",
    "\n",
    "```{image} https://journaldev.nyc3.digitaloceanspaces.com/2020/01/Binary_Tree_Ht.png\n",
    ":align: center\n",
    ":alt: Binary Search Tree\n",
    ":width: 50%\n",
    "```\n",
    "#### Find in BST\n",
    "\n",
    "Complexity: O(log n) and O(n) in worst case\n",
    "\n",
    "\n",
    "#### Insertion and Deletion in BST\n",
    "\n",
    "```python\n",
    "class Node:\n",
    "    def __init__(self, key):\n",
    "        self.left = None\n",
    "        self.right = None\n",
    "        self.val = key\n",
    "\n",
    "def insert(root, key):\n",
    "    if root is None:\n",
    "        return Node(key)\n",
    "    else:\n",
    "        if root.val == key:\n",
    "            return root\n",
    "        elif root.val < key:\n",
    "            root.right = insert(root.right, key)\n",
    "        else:\n",
    "            root.left = insert(root.left, key)\n",
    "    return root\n",
    "\n",
    "def inorder(root):\n",
    "    if root:\n",
    "        inorder(root.left)\n",
    "        print(root.val, end =\" \")\n",
    "        inorder(root.right)\n",
    "\n",
    "\n",
    "if __name__ == '__main__':\n",
    "\n",
    "    # Let us create the following BST\n",
    "    # 50\n",
    "    #  /     \\\n",
    "    # 30     70\n",
    "    #  / \\ / \\\n",
    "    # 20 40 60 80\n",
    "\n",
    "    r = Node(50)\n",
    "    r = insert(r, 30)\n",
    "    r = insert(r, 20)\n",
    "    r = insert(r, 40)\n",
    "    r = insert(r, 70)\n",
    "    r = insert(r, 60)\n",
    "    r = insert(r, 80)\n",
    "\n",
    "    # Print inorder traversal of the BST\n",
    "    inorder(r)\n",
    "\n",
    "```\n",
    "\n",
    "\n",
    "Delete a node from BST\n",
    "\n",
    "```python\n",
    "# Python program to demonstrate delete operation\n",
    "# in binary search tree\n",
    "\n",
    "# A Binary Tree Node\n",
    "\n",
    "\n",
    "class Node:\n",
    "\n",
    "\t# Constructor to create a new node\n",
    "\tdef __init__(self, key):\n",
    "\t\tself.key = key\n",
    "\t\tself.left = None\n",
    "\t\tself.right = None\n",
    "\n",
    "\n",
    "# A utility function to do inorder traversal of BST\n",
    "def inorder(root):\n",
    "\tif root is not None:\n",
    "\t\tinorder(root.left)\n",
    "\t\tprint(root.key, end=\" \")\n",
    "\t\tinorder(root.right)\n",
    "\n",
    "\n",
    "# A utility function to insert a\n",
    "# new node with given key in BST\n",
    "def insert(node, key):\n",
    "\n",
    "\t# If the tree is empty, return a new node\n",
    "\tif node is None:\n",
    "\t\treturn Node(key)\n",
    "\n",
    "\t# Otherwise recur down the tree\n",
    "\tif key < node.key:\n",
    "\t\tnode.left = insert(node.left, key)\n",
    "\telse:\n",
    "\t\tnode.right = insert(node.right, key)\n",
    "\n",
    "\t# return the (unchanged) node pointer\n",
    "\treturn node\n",
    "\n",
    "# Given a non-empty binary\n",
    "# search tree, return the node\n",
    "# with minimum key value\n",
    "# found in that tree. Note that the\n",
    "# entire tree does not need to be searched\n",
    "\n",
    "\n",
    "def minValueNode(node):\n",
    "\tcurrent = node\n",
    "\n",
    "\t# loop down to find the leftmost leaf\n",
    "\twhile(current.left is not None):\n",
    "\t\tcurrent = current.left\n",
    "\n",
    "\treturn current\n",
    "\n",
    "# Given a binary search tree and a key, this function\n",
    "# delete the key and returns the new root\n",
    "\n",
    "\n",
    "def deleteNode(root, key):\n",
    "\n",
    "\t# Base Case\n",
    "\tif root is None:\n",
    "\t\treturn root\n",
    "\n",
    "\t# If the key to be deleted\n",
    "\t# is smaller than the root's\n",
    "\t# key then it lies in left subtree\n",
    "\tif key < root.key:\n",
    "\t\troot.left = deleteNode(root.left, key)\n",
    "\n",
    "\t# If the kye to be delete\n",
    "\t# is greater than the root's key\n",
    "\t# then it lies in right subtree\n",
    "\telif(key > root.key):\n",
    "\t\troot.right = deleteNode(root.right, key)\n",
    "\n",
    "\t# If key is same as root's key, then this is the node\n",
    "\t# to be deleted\n",
    "\telse:\n",
    "\n",
    "\t\t# Node with only one child or no child\n",
    "\t\tif root.left is None:\n",
    "\t\t\ttemp = root.right\n",
    "\t\t\troot = None\n",
    "\t\t\treturn temp\n",
    "\n",
    "\t\telif root.right is None:\n",
    "\t\t\ttemp = root.left\n",
    "\t\t\troot = None\n",
    "\t\t\treturn temp\n",
    "\n",
    "\t\t# Node with two children:\n",
    "\t\t# Get the inorder successor\n",
    "\t\t# (smallest in the right subtree)\n",
    "\t\ttemp = minValueNode(root.right)\n",
    "\n",
    "\t\t# Copy the inorder successor's\n",
    "\t\t# content to this node\n",
    "\t\troot.key = temp.key\n",
    "\n",
    "\t\t# Delete the inorder successor\n",
    "\t\troot.right = deleteNode(root.right, temp.key)\n",
    "\n",
    "\treturn root\n",
    "\n",
    "\n",
    "# Driver code\n",
    "\"\"\" Let us create following BST\n",
    "\t\t\t50\n",
    "\t\t/\t \\\n",
    "\t\t30\t 70\n",
    "\t\t/ \\ / \\\n",
    "\t20 40 60 80 \"\"\"\n",
    "\n",
    "root = None\n",
    "root = insert(root, 50)\n",
    "root = insert(root, 30)\n",
    "root = insert(root, 20)\n",
    "root = insert(root, 40)\n",
    "root = insert(root, 70)\n",
    "root = insert(root, 60)\n",
    "root = insert(root, 80)\n",
    "\n",
    "print(\"Inorder traversal of the given tree\")\n",
    "inorder(root)\n",
    "\n",
    "print(\"\\nDelete 20\")\n",
    "root = deleteNode(root, 20)\n",
    "print(\"Inorder traversal of the modified tree\")\n",
    "inorder(root)\n",
    "\n",
    "print(\"\\nDelete 30\")\n",
    "root = deleteNode(root, 30)\n",
    "print(\"Inorder traversal of the modified tree\")\n",
    "inorder(root)\n",
    "\n",
    "print(\"\\nDelete 50\")\n",
    "root = deleteNode(root, 50)\n",
    "print(\"Inorder traversal of the modified tree\")\n",
    "inorder(root)\n",
    "\n",
    "# This code is contributed by Nikhil Kumar Singh(nickzuck_007)\n",
    "\n",
    "\n",
    "\n",
    "```\n",
    "#### Traversals – Inorder, Preorder, Post Order\n",
    "Given a Binary Search Tree, The task is to print the elements in inorder, preorder, and postorder traversal of the Binary Search Tree. \n",
    "\n",
    "\n",
    "```{image} https://media.geeksforgeeks.org/wp-content/uploads/20220730030128/Screenshot20220730at30104AM-660x431.png\n",
    ":align: center\n",
    ":alt: Binary Search Tree\n",
    ":width: 70%\n",
    "```\n",
    "\n",
    "Inorder Traversal: 10 20 30 100 150 200 300\n",
    "\n",
    "Preorder Traversal: 100 20 10 30 200 150 300\n",
    "\n",
    "Postorder Traversal: 10 30 20 150 300 200 100\n",
    "\n",
    "##### Inorder Traversal:\n",
    "\n",
    "Traverse left subtree\n",
    "Visit the root and print the data.\n",
    "Traverse the right subtree\n",
    "\n",
    "\n",
    "```python\n",
    "class Node:\n",
    "\tdef __init__(self, v):\n",
    "\t\tself.left = None\n",
    "\t\tself.right = None\n",
    "\t\tself.data = v\n",
    "\n",
    "# Inorder Traversal\n",
    "def printInorder(root):\n",
    "\tif root:\n",
    "\t\t# Traverse left subtree\n",
    "\t\tprintInorder(root.left)\n",
    "\t\t\n",
    "\t\t# Visit node\n",
    "\t\tprint(root.data,end=\" \")\n",
    "\t\t\n",
    "\t\t# Traverse right subtree\n",
    "\t\tprintInorder(root.right)\n",
    "\n",
    "# Driver code\n",
    "if __name__ == \"__main__\":\n",
    "\t# Build the tree\n",
    "\troot = Node(100)\n",
    "\troot.left = Node(20)\n",
    "\troot.right = Node(200)\n",
    "\troot.left.left = Node(10)\n",
    "\troot.left.right = Node(30)\n",
    "\troot.right.left = Node(150)\n",
    "\troot.right.right = Node(300)\n",
    "\n",
    "\t# Function call\n",
    "\tprint(\"Inorder Traversal:\",end=\" \")\n",
    "\tprintInorder(root)\n",
    "\n",
    "\t# This code is contributed by ajaymakvana.\n",
    "```\n",
    "\n",
    "##### Preorder Traversal\n",
    "At first visit the root then traverse left subtree and then traverse the right subtree.\n",
    "\n",
    "Follow the below steps to implement the idea:\n",
    "\n",
    "- Visit the root and print the data.\n",
    "- Traverse left subtree\n",
    "- Traverse the right subtree\n",
    "\n",
    "\n",
    "```{python}\n",
    "class Node:\n",
    "\tdef __init__(self, v):\n",
    "\t\tself.data = v\n",
    "\t\tself.left = None\n",
    "\t\tself.right = None\n",
    "\n",
    "# Preorder Traversal\n",
    "def printPreOrder(node):\n",
    "\tif node is None:\n",
    "\t\treturn\n",
    "\t# Visit Node\n",
    "\tprint(node.data, end = \" \")\n",
    "\n",
    "\t# Traverse left subtree\n",
    "\tprintPreOrder(node.left)\n",
    "\n",
    "\t# Traverse right subtree\n",
    "\tprintPreOrder(node.right)\n",
    "\n",
    "# Driver code\n",
    "if __name__ == \"__main__\":\n",
    "\t# Build the tree\n",
    "\troot = Node(100)\n",
    "\troot.left = Node(20)\n",
    "\troot.right = Node(200)\n",
    "\troot.left.left = Node(10)\n",
    "\troot.left.right = Node(30)\n",
    "\troot.right.left = Node(150)\n",
    "\troot.right.right = Node(300)\n",
    "\n",
    "\t# Function call\n",
    "\tprint(\"Preorder Traversal: \", end = \"\")\n",
    "\tprintPreOrder(root)\n",
    "\n",
    "```\n",
    "\n",
    "##### Postorder Traversal\n",
    "At first traverse left subtree then traverse the right subtree and then visit the root.\n",
    "\n",
    "Follow the below steps to implement the idea:\n",
    "\n",
    "- Traverse left subtree\n",
    "- Traverse the right subtree\n",
    "- Visit the root and print the data.\n",
    "\n",
    "```python\n",
    "\n",
    "class Node:\n",
    "\tdef __init__(self, v):\n",
    "\t\tself.data = v\n",
    "\t\tself.left = None\n",
    "\t\tself.right = None\n",
    "\n",
    "# Preorder Traversal\n",
    "def printPostOrder(node):\n",
    "\tif node is None:\n",
    "\t\treturn\n",
    "\n",
    "\t# Traverse left subtree\n",
    "\tprintPostOrder(node.left)\n",
    "\n",
    "\t# Traverse right subtree\n",
    "\tprintPostOrder(node.right)\n",
    "\t\n",
    "\t# Visit Node\n",
    "\tprint(node.data, end = \" \")\n",
    "\n",
    "# Driver code\n",
    "if __name__ == \"__main__\":\n",
    "\t# Build the tree\n",
    "\troot = Node(100)\n",
    "\troot.left = Node(20)\n",
    "\troot.right = Node(200)\n",
    "\troot.left.left = Node(10)\n",
    "\troot.left.right = Node(30)\n",
    "\troot.right.left = Node(150)\n",
    "\troot.right.right = Node(300)\n",
    "\n",
    "\t# Function call\n",
    "\tprint(\"Postorder Traversal: \", end = \"\")\n",
    "\tprintPostOrder(root)\n",
    "\n",
    "\n",
    "```\n",
    "\n",
    "### Red-Black Tree\n",
    "When it comes to searching and sorting data, one of the most fundamental data structures is the binary search tree. However, the performance of a binary search tree is highly dependent on its shape, and in the worst case, it can degenerate into a linear structure with a time complexity of O(n). This is where Red Black Trees come in, they are a type of balanced binary search tree that use a specific set of rules to ensure that the tree is always balanced. This balance guarantees that the time complexity for operations such as insertion, deletion, and searching is always O(log n), regardless of the initial shape of the tree.\n",
    "\n",
    "Red Black Trees are self-balancing, meaning that the tree adjusts itself automatically after each insertion or deletion operation. It uses a simple but powerful mechanism to maintain balance, by coloring each node in the tree either red or black. \n",
    "\n",
    "#### Properties of Red Black Tree\n",
    "\n",
    "The Red-Black tree satisfies all the properties of binary search tree in addition to that it satisfies following additional properties –\n",
    "\n",
    "1. Root property: The root is black.\n",
    "\n",
    "2. External property: Every leaf (Leaf is a NULL child of a node) is black in Red-Black tree.\n",
    "\n",
    "3. Internal property: The children of a red node are black. Hence possible parent of red node is a black node.\n",
    "\n",
    "4. Depth property: All the leaves have the same black depth.\n",
    "\n",
    "5. Path property: Every simple path from root to descendant leaf node contains same number of black nodes. \n",
    "\n",
    "The result of all these above-mentioned properties is that the Red-Black tree is roughly balanced.\n"
   ]
  },
  {
   "cell_type": "markdown",
   "metadata": {},
   "source": [
    "### Spanning Trees\n",
    "A spanning tree is a sub-graph of an undirected connected graph, which includes all the vertices of the graph with a minimum possible number of edges. If a vertex is missed, then it is not a spanning tree. The edges may or may not have weights assigned to them.\n",
    "\n",
    "\n",
    "```{image} https://he-s3.s3.amazonaws.com/media/uploads/146b47a.jpg\n",
    ":alt: Spanning Tree\n",
    ":width: 70%\n",
    ":align: center\n",
    "```\n",
    "\n",
    "#### Minimum Spanning Tree\n",
    "\n",
    "A minimum spanning tree is a spanning tree with the minimum possible sum of edge weights. The edges may or may not have weights assigned to them.\n",
    "\n",
    "```{image} https://he-s3.s3.amazonaws.com/media/uploads/146b47a.jpg\n",
    ":alt: Minimum Spanning Tree\n",
    ":width: 70%\n",
    ":align: center\n",
    "```\n",
    "#### Finding Minimum Spanning Tree\n",
    "There are many algorithms to find the minimum spanning tree. The most common ones are:\n",
    "\n",
    "* Kruskal's Algorithm\n",
    "* Prim's Algorithm\n",
    "\n",
    "### Kruskal's Algorithm\n",
    "\n",
    "Kruskal's algorithm is a greedy algorithm that finds a minimum spanning tree for a connected weighted graph. This means it finds a subset of the edges that forms a tree that includes every vertex, where the total weight of all the edges in the tree is minimized. If the graph is not connected, then it finds a minimum spanning forest (a minimum spanning tree for each connected component).\n",
    "\n",
    "Algorithm Steps:\n",
    "\n",
    "* Sort the graph edges with respect to their weights.\n",
    "* Start adding edges to the MST from the edge with the smallest weight until the edge of the largest weight.\n",
    "* Only add edges which doesn't form a cycle , edges which connect only disconnected components.\n",
    "\n",
    "```{image} https://he-s3.s3.amazonaws.com/media/uploads/6322896.jpg\n",
    ":alt: Kruskal's Algorithm\n",
    ":width: 70%\n",
    ":align: center\n",
    "```\n",
    "\n"
   ]
  },
  {
   "cell_type": "markdown",
   "metadata": {},
   "source": [
    "## Tree Traversals\n",
    "\n",
    "Traversal means visiting all the nodes of the tree. There are several ways to traverse a tree:\n",
    "\n",
    "### Depth-First Traversal\n",
    "\n",
    "1. **Inorder Traversal (Left, Root, Right)**\n"
   ]
  },
  {
   "cell_type": "code",
   "execution_count": 6,
   "metadata": {},
   "outputs": [
    {
     "name": "stdout",
     "output_type": "stream",
     "text": [
      "4 2 5 1 3 "
     ]
    }
   ],
   "source": [
    "def inorder(root):\n",
    "    if root:\n",
    "        inorder(root.left)\n",
    "        print(root.value, end=' ')\n",
    "        inorder(root.right)\n",
    "\n",
    "inorder(root)"
   ]
  },
  {
   "cell_type": "markdown",
   "metadata": {},
   "source": [
    "2. **Preorder Traversal (Root, Left, Right)**"
   ]
  },
  {
   "cell_type": "code",
   "execution_count": 8,
   "metadata": {},
   "outputs": [
    {
     "name": "stdout",
     "output_type": "stream",
     "text": [
      "1 2 4 5 3 "
     ]
    }
   ],
   "source": [
    "def preorder(root):\n",
    "    if root:\n",
    "        print(root.value, end=' ')\n",
    "        preorder(root.left)\n",
    "        preorder(root.right)\n",
    "\n",
    "preorder(root)"
   ]
  },
  {
   "cell_type": "markdown",
   "metadata": {},
   "source": [
    "3. **Postorder Traversal (Left, Right, Root)**"
   ]
  },
  {
   "cell_type": "code",
   "execution_count": 10,
   "metadata": {},
   "outputs": [
    {
     "name": "stdout",
     "output_type": "stream",
     "text": [
      "4 5 2 3 1 "
     ]
    }
   ],
   "source": [
    "def postorder(root):\n",
    "    if root:\n",
    "        postorder(root.left)\n",
    "        postorder(root.right)\n",
    "        print(root.value, end=' ')\n",
    "\n",
    "postorder(root)"
   ]
  },
  {
   "cell_type": "markdown",
   "metadata": {},
   "source": [
    "### Breadth-First Traversal (Level Order Traversal)"
   ]
  },
  {
   "cell_type": "code",
   "execution_count": 11,
   "metadata": {},
   "outputs": [
    {
     "name": "stdout",
     "output_type": "stream",
     "text": [
      "1 2 3 4 5 "
     ]
    }
   ],
   "source": [
    "from collections import deque\n",
    "\n",
    "def level_order(root):\n",
    "    if root is None:\n",
    "        return\n",
    "    \n",
    "    queue = deque()\n",
    "    queue.append(root)\n",
    "    \n",
    "    while queue:\n",
    "        node = queue.popleft()\n",
    "        print(node.value, end=' ')\n",
    "        \n",
    "        if node.left:\n",
    "            queue.append(node.left)\n",
    "        if node.right:\n",
    "            queue.append(node.right)\n",
    "\n",
    "\n",
    "level_order(root)\n"
   ]
  },
  {
   "cell_type": "markdown",
   "metadata": {},
   "source": [
    "## Step-by-Step Traversal\n",
    "\n",
    "We'll use Python to generate these step-by-step outputs for the following traversal methods:\n",
    "\n",
    "1. Inorder Traversal (Recursive)\n",
    "2. Preorder Traversal (Recursive)\n",
    "3. Postorder Traversal (Recursive)\n",
    "4. Level Order Traversal (Iterative)\n",
    "5. Inorder Traversal (Iterative)\n",
    "6. Preorder Traversal (Iterative)\n",
    "7. Postorder Traversal (Iterative)\n",
    "   \n",
    "We'll use this binary tree:\n",
    "\n",
    "```\n",
    "        1\n",
    "      /   \\\n",
    "     2     3\n",
    "    / \\     \\\n",
    "   4   5     6\n",
    "        \\\n",
    "         7\n",
    "```"
   ]
  },
  {
   "cell_type": "code",
   "execution_count": 12,
   "metadata": {},
   "outputs": [],
   "source": [
    "root = Node(1)\n",
    "\n",
    "root.left = Node(2)\n",
    "root.right = Node(3)\n",
    "\n",
    "root.left.left = Node(4)\n",
    "root.left.right = Node(5)\n",
    "\n",
    "root.right.right = Node(6)\n",
    "\n",
    "root.left.right.right = Node(7)"
   ]
  },
  {
   "cell_type": "markdown",
   "metadata": {},
   "source": [
    "\n",
    "\n",
    "Example with a Skewed Tree (Uncomment the below code)\n",
    "\n",
    "```\n",
    "    1\n",
    "   /\n",
    "  2\n",
    " /\n",
    "3\n",
    " \\\n",
    "  4\n",
    "   \\\n",
    "    5\n",
    "```"
   ]
  },
  {
   "cell_type": "code",
   "execution_count": 78,
   "metadata": {},
   "outputs": [],
   "source": [
    "# root = Node(1)\n",
    "# root.left = Node(2)\n",
    "# root.left.left = Node(3)\n",
    "# root.left.left.right = Node(4)\n",
    "# root.left.left.right.right = Node(5)\n"
   ]
  },
  {
   "cell_type": "markdown",
   "metadata": {},
   "source": [
    "### Inorder Traversal (Recursive)\n",
    "\n",
    "Traversal Order: Left, Root, Right\n"
   ]
  },
  {
   "cell_type": "code",
   "execution_count": 17,
   "metadata": {},
   "outputs": [],
   "source": [
    "from IPython.display import display, HTML"
   ]
  },
  {
   "cell_type": "code",
   "execution_count": 46,
   "metadata": {},
   "outputs": [],
   "source": [
    "def inorder_with_steps(node, depth=0):\n",
    "    if node:\n",
    "        print(\"-\" * depth + \"->\" + f\"Entering Left Subtree of Node {node.value}\")\n",
    "        inorder_with_steps(node.left, depth + 1)\n",
    "        display(HTML(\"-\" * depth + \"->\" + f\"<b>Visiting Node {node.value} </b>\"))\n",
    "        # print(node.value, end=' ')\n",
    "        print(\"-\" * depth + \"->\" + f\"Entering Right Subtree of Node {node.value}\")\n",
    "        inorder_with_steps(node.right, depth + 1)\n",
    "    else:\n",
    "        print(\"-\" * depth + \"->\" + \"Reached None\")"
   ]
  },
  {
   "cell_type": "code",
   "execution_count": 47,
   "metadata": {},
   "outputs": [
    {
     "data": {
      "text/html": [
       "<b>Inorder Traversal with Steps: </b> \n"
      ],
      "text/plain": [
       "<IPython.core.display.HTML object>"
      ]
     },
     "metadata": {},
     "output_type": "display_data"
    },
    {
     "name": "stdout",
     "output_type": "stream",
     "text": [
      "->Entering Left Subtree of Node 1\n",
      "-->Entering Left Subtree of Node 2\n",
      "--->Entering Left Subtree of Node 4\n",
      "---->Reached None\n"
     ]
    },
    {
     "data": {
      "text/html": [
       "---><b>Visiting Node 4 </b>"
      ],
      "text/plain": [
       "<IPython.core.display.HTML object>"
      ]
     },
     "metadata": {},
     "output_type": "display_data"
    },
    {
     "name": "stdout",
     "output_type": "stream",
     "text": [
      "--->Entering Right Subtree of Node 4\n",
      "---->Reached None\n"
     ]
    },
    {
     "data": {
      "text/html": [
       "--><b>Visiting Node 2 </b>"
      ],
      "text/plain": [
       "<IPython.core.display.HTML object>"
      ]
     },
     "metadata": {},
     "output_type": "display_data"
    },
    {
     "name": "stdout",
     "output_type": "stream",
     "text": [
      "-->Entering Right Subtree of Node 2\n",
      "--->Entering Left Subtree of Node 5\n",
      "---->Reached None\n"
     ]
    },
    {
     "data": {
      "text/html": [
       "---><b>Visiting Node 5 </b>"
      ],
      "text/plain": [
       "<IPython.core.display.HTML object>"
      ]
     },
     "metadata": {},
     "output_type": "display_data"
    },
    {
     "name": "stdout",
     "output_type": "stream",
     "text": [
      "--->Entering Right Subtree of Node 5\n",
      "---->Entering Left Subtree of Node 7\n",
      "----->Reached None\n"
     ]
    },
    {
     "data": {
      "text/html": [
       "----><b>Visiting Node 7 </b>"
      ],
      "text/plain": [
       "<IPython.core.display.HTML object>"
      ]
     },
     "metadata": {},
     "output_type": "display_data"
    },
    {
     "name": "stdout",
     "output_type": "stream",
     "text": [
      "---->Entering Right Subtree of Node 7\n",
      "----->Reached None\n"
     ]
    },
    {
     "data": {
      "text/html": [
       "-><b>Visiting Node 1 </b>"
      ],
      "text/plain": [
       "<IPython.core.display.HTML object>"
      ]
     },
     "metadata": {},
     "output_type": "display_data"
    },
    {
     "name": "stdout",
     "output_type": "stream",
     "text": [
      "->Entering Right Subtree of Node 1\n",
      "-->Entering Left Subtree of Node 3\n",
      "--->Reached None\n"
     ]
    },
    {
     "data": {
      "text/html": [
       "--><b>Visiting Node 3 </b>"
      ],
      "text/plain": [
       "<IPython.core.display.HTML object>"
      ]
     },
     "metadata": {},
     "output_type": "display_data"
    },
    {
     "name": "stdout",
     "output_type": "stream",
     "text": [
      "-->Entering Right Subtree of Node 3\n",
      "--->Entering Left Subtree of Node 6\n",
      "---->Reached None\n"
     ]
    },
    {
     "data": {
      "text/html": [
       "---><b>Visiting Node 6 </b>"
      ],
      "text/plain": [
       "<IPython.core.display.HTML object>"
      ]
     },
     "metadata": {},
     "output_type": "display_data"
    },
    {
     "name": "stdout",
     "output_type": "stream",
     "text": [
      "--->Entering Right Subtree of Node 6\n",
      "---->Reached None\n"
     ]
    }
   ],
   "source": [
    "display(HTML(\"<b>Inorder Traversal with Steps: </b> \\n\"))\n",
    "inorder_with_steps(root)"
   ]
  },
  {
   "cell_type": "markdown",
   "metadata": {},
   "source": [
    "4 2 7 5 1 3 6"
   ]
  },
  {
   "cell_type": "markdown",
   "metadata": {},
   "source": [
    "### Preorder Traversal (Recursive)\n",
    "\n",
    "Traversal Order: Root, Left, Right"
   ]
  },
  {
   "cell_type": "code",
   "execution_count": 56,
   "metadata": {},
   "outputs": [],
   "source": [
    "def preorder_with_steps(node, depth=0):\n",
    "    if node:\n",
    "        display(HTML(\"-\" * depth + \"->\" + f\"<b>Visiting Node {node.value} </b>\"))\n",
    "        # print(node.value, end=' ')\n",
    "        print(\"-\" * depth + \"->\" + f\"Entering Left Subtree of Node {node.value}\")\n",
    "        preorder_with_steps(node.left, depth + 1)\n",
    "        print(\"-\" * depth + \"->\" + f\"Entering Right Subtree of Node {node.value}\")\n",
    "        preorder_with_steps(node.right, depth + 1)\n",
    "    else:\n",
    "        print(\"-\" * depth + \"->\" + \"Reached None\")"
   ]
  },
  {
   "cell_type": "code",
   "execution_count": 57,
   "metadata": {},
   "outputs": [
    {
     "data": {
      "text/html": [
       "<b>Preorder Traversal with Steps </b> \n"
      ],
      "text/plain": [
       "<IPython.core.display.HTML object>"
      ]
     },
     "metadata": {},
     "output_type": "display_data"
    },
    {
     "data": {
      "text/html": [
       "-><b>Visiting Node 1 </b>"
      ],
      "text/plain": [
       "<IPython.core.display.HTML object>"
      ]
     },
     "metadata": {},
     "output_type": "display_data"
    },
    {
     "name": "stdout",
     "output_type": "stream",
     "text": [
      "->Entering Left Subtree of Node 1\n"
     ]
    },
    {
     "data": {
      "text/html": [
       "--><b>Visiting Node 2 </b>"
      ],
      "text/plain": [
       "<IPython.core.display.HTML object>"
      ]
     },
     "metadata": {},
     "output_type": "display_data"
    },
    {
     "name": "stdout",
     "output_type": "stream",
     "text": [
      "-->Entering Left Subtree of Node 2\n"
     ]
    },
    {
     "data": {
      "text/html": [
       "---><b>Visiting Node 4 </b>"
      ],
      "text/plain": [
       "<IPython.core.display.HTML object>"
      ]
     },
     "metadata": {},
     "output_type": "display_data"
    },
    {
     "name": "stdout",
     "output_type": "stream",
     "text": [
      "--->Entering Left Subtree of Node 4\n",
      "---->Reached None\n",
      "--->Entering Right Subtree of Node 4\n",
      "---->Reached None\n",
      "-->Entering Right Subtree of Node 2\n"
     ]
    },
    {
     "data": {
      "text/html": [
       "---><b>Visiting Node 5 </b>"
      ],
      "text/plain": [
       "<IPython.core.display.HTML object>"
      ]
     },
     "metadata": {},
     "output_type": "display_data"
    },
    {
     "name": "stdout",
     "output_type": "stream",
     "text": [
      "--->Entering Left Subtree of Node 5\n",
      "---->Reached None\n",
      "--->Entering Right Subtree of Node 5\n"
     ]
    },
    {
     "data": {
      "text/html": [
       "----><b>Visiting Node 7 </b>"
      ],
      "text/plain": [
       "<IPython.core.display.HTML object>"
      ]
     },
     "metadata": {},
     "output_type": "display_data"
    },
    {
     "name": "stdout",
     "output_type": "stream",
     "text": [
      "---->Entering Left Subtree of Node 7\n",
      "----->Reached None\n",
      "---->Entering Right Subtree of Node 7\n",
      "----->Reached None\n",
      "->Entering Right Subtree of Node 1\n"
     ]
    },
    {
     "data": {
      "text/html": [
       "--><b>Visiting Node 3 </b>"
      ],
      "text/plain": [
       "<IPython.core.display.HTML object>"
      ]
     },
     "metadata": {},
     "output_type": "display_data"
    },
    {
     "name": "stdout",
     "output_type": "stream",
     "text": [
      "-->Entering Left Subtree of Node 3\n",
      "--->Reached None\n",
      "-->Entering Right Subtree of Node 3\n"
     ]
    },
    {
     "data": {
      "text/html": [
       "---><b>Visiting Node 6 </b>"
      ],
      "text/plain": [
       "<IPython.core.display.HTML object>"
      ]
     },
     "metadata": {},
     "output_type": "display_data"
    },
    {
     "name": "stdout",
     "output_type": "stream",
     "text": [
      "--->Entering Left Subtree of Node 6\n",
      "---->Reached None\n",
      "--->Entering Right Subtree of Node 6\n",
      "---->Reached None\n"
     ]
    }
   ],
   "source": [
    "display(HTML(\"<b>Preorder Traversal with Steps </b> \\n\"))\n",
    "\n",
    "preorder_with_steps(root)"
   ]
  },
  {
   "cell_type": "markdown",
   "metadata": {},
   "source": [
    "### Postorder Traversal (Recursive)\n",
    "\n",
    "Traversal Order: Left, Right, Root"
   ]
  },
  {
   "cell_type": "code",
   "execution_count": 58,
   "metadata": {},
   "outputs": [],
   "source": [
    "def postorder_with_steps(node, depth=0):\n",
    "    if node:\n",
    "        print(\"-\" * depth + \"->\" + f\"Entering Left Subtree of Node {node.value}\")\n",
    "        postorder_with_steps(node.left, depth + 1)\n",
    "        print(\"-\" * depth + \"->\" + f\"Entering Right Subtree of Node {node.value}\")\n",
    "        postorder_with_steps(node.right, depth + 1)\n",
    "        display(HTML(\"-\" * depth + \"->\" + f\"<b>Visiting Node {node.value} </b>\"))\n",
    "        print(node.value, end=' ')\n",
    "    else:\n",
    "        print(\"-\" * depth + \"->\" + \"Reached None\")"
   ]
  },
  {
   "cell_type": "code",
   "execution_count": 59,
   "metadata": {},
   "outputs": [
    {
     "data": {
      "text/html": [
       "<b>Postorder Traversal with Steps </b> \n"
      ],
      "text/plain": [
       "<IPython.core.display.HTML object>"
      ]
     },
     "metadata": {},
     "output_type": "display_data"
    },
    {
     "name": "stdout",
     "output_type": "stream",
     "text": [
      "->Entering Left Subtree of Node 1\n",
      "-->Entering Left Subtree of Node 2\n",
      "--->Entering Left Subtree of Node 4\n",
      "---->Reached None\n",
      "--->Entering Right Subtree of Node 4\n",
      "---->Reached None\n"
     ]
    },
    {
     "data": {
      "text/html": [
       "---><b>Visiting Node 4 </b>"
      ],
      "text/plain": [
       "<IPython.core.display.HTML object>"
      ]
     },
     "metadata": {},
     "output_type": "display_data"
    },
    {
     "name": "stdout",
     "output_type": "stream",
     "text": [
      "4 -->Entering Right Subtree of Node 2\n",
      "--->Entering Left Subtree of Node 5\n",
      "---->Reached None\n",
      "--->Entering Right Subtree of Node 5\n",
      "---->Entering Left Subtree of Node 7\n",
      "----->Reached None\n",
      "---->Entering Right Subtree of Node 7\n",
      "----->Reached None\n"
     ]
    },
    {
     "data": {
      "text/html": [
       "----><b>Visiting Node 7 </b>"
      ],
      "text/plain": [
       "<IPython.core.display.HTML object>"
      ]
     },
     "metadata": {},
     "output_type": "display_data"
    },
    {
     "name": "stdout",
     "output_type": "stream",
     "text": [
      "7 "
     ]
    },
    {
     "data": {
      "text/html": [
       "---><b>Visiting Node 5 </b>"
      ],
      "text/plain": [
       "<IPython.core.display.HTML object>"
      ]
     },
     "metadata": {},
     "output_type": "display_data"
    },
    {
     "name": "stdout",
     "output_type": "stream",
     "text": [
      "5 "
     ]
    },
    {
     "data": {
      "text/html": [
       "--><b>Visiting Node 2 </b>"
      ],
      "text/plain": [
       "<IPython.core.display.HTML object>"
      ]
     },
     "metadata": {},
     "output_type": "display_data"
    },
    {
     "name": "stdout",
     "output_type": "stream",
     "text": [
      "2 ->Entering Right Subtree of Node 1\n",
      "-->Entering Left Subtree of Node 3\n",
      "--->Reached None\n",
      "-->Entering Right Subtree of Node 3\n",
      "--->Entering Left Subtree of Node 6\n",
      "---->Reached None\n",
      "--->Entering Right Subtree of Node 6\n",
      "---->Reached None\n"
     ]
    },
    {
     "data": {
      "text/html": [
       "---><b>Visiting Node 6 </b>"
      ],
      "text/plain": [
       "<IPython.core.display.HTML object>"
      ]
     },
     "metadata": {},
     "output_type": "display_data"
    },
    {
     "name": "stdout",
     "output_type": "stream",
     "text": [
      "6 "
     ]
    },
    {
     "data": {
      "text/html": [
       "--><b>Visiting Node 3 </b>"
      ],
      "text/plain": [
       "<IPython.core.display.HTML object>"
      ]
     },
     "metadata": {},
     "output_type": "display_data"
    },
    {
     "name": "stdout",
     "output_type": "stream",
     "text": [
      "3 "
     ]
    },
    {
     "data": {
      "text/html": [
       "-><b>Visiting Node 1 </b>"
      ],
      "text/plain": [
       "<IPython.core.display.HTML object>"
      ]
     },
     "metadata": {},
     "output_type": "display_data"
    },
    {
     "name": "stdout",
     "output_type": "stream",
     "text": [
      "1 "
     ]
    }
   ],
   "source": [
    "display(HTML(\"<b>Postorder Traversal with Steps </b> \\n\"))\n",
    "postorder_with_steps(root)"
   ]
  },
  {
   "cell_type": "markdown",
   "metadata": {},
   "source": [
    "### Level Order Traversal (Iterative)\n",
    "\n",
    "Traversal Order: Level by Level from Left to Right"
   ]
  },
  {
   "cell_type": "code",
   "execution_count": 66,
   "metadata": {},
   "outputs": [],
   "source": [
    "from collections import deque\n",
    "\n",
    "def level_order_with_steps(root):\n",
    "    if root is None:\n",
    "        return\n",
    "    queue = deque()\n",
    "    queue.append(root)\n",
    "    level = 0\n",
    "    while queue:\n",
    "        level_size = len(queue)\n",
    "        print(f\"Level {level}:\")\n",
    "        for i in range(level_size):\n",
    "            node = queue.popleft()\n",
    "\n",
    "            display(HTML(\"->\" + f\"<b>Visiting Node {node.value} </b>\"))\n",
    "            # print(node.value, end=' ')\n",
    "            if node.left:\n",
    "                print(f\"-->Enqueue Left Child {node.left.value}\")\n",
    "                queue.append(node.left)\n",
    "            if node.right:\n",
    "                print(f\"-->Enqueue Right Child {node.right.value}\")\n",
    "                queue.append(node.right)\n",
    "        print()\n",
    "        level += 1"
   ]
  },
  {
   "cell_type": "code",
   "execution_count": 67,
   "metadata": {},
   "outputs": [
    {
     "data": {
      "text/html": [
       "<b>Level Order Traversal with Steps </b> \n"
      ],
      "text/plain": [
       "<IPython.core.display.HTML object>"
      ]
     },
     "metadata": {},
     "output_type": "display_data"
    },
    {
     "name": "stdout",
     "output_type": "stream",
     "text": [
      "Level 0:\n"
     ]
    },
    {
     "data": {
      "text/html": [
       "-><b>Visiting Node 1 </b>"
      ],
      "text/plain": [
       "<IPython.core.display.HTML object>"
      ]
     },
     "metadata": {},
     "output_type": "display_data"
    },
    {
     "name": "stdout",
     "output_type": "stream",
     "text": [
      "-->Enqueue Left Child 2\n",
      "-->Enqueue Right Child 3\n",
      "\n",
      "Level 1:\n"
     ]
    },
    {
     "data": {
      "text/html": [
       "-><b>Visiting Node 2 </b>"
      ],
      "text/plain": [
       "<IPython.core.display.HTML object>"
      ]
     },
     "metadata": {},
     "output_type": "display_data"
    },
    {
     "name": "stdout",
     "output_type": "stream",
     "text": [
      "-->Enqueue Left Child 4\n",
      "-->Enqueue Right Child 5\n"
     ]
    },
    {
     "data": {
      "text/html": [
       "-><b>Visiting Node 3 </b>"
      ],
      "text/plain": [
       "<IPython.core.display.HTML object>"
      ]
     },
     "metadata": {},
     "output_type": "display_data"
    },
    {
     "name": "stdout",
     "output_type": "stream",
     "text": [
      "-->Enqueue Right Child 6\n",
      "\n",
      "Level 2:\n"
     ]
    },
    {
     "data": {
      "text/html": [
       "-><b>Visiting Node 4 </b>"
      ],
      "text/plain": [
       "<IPython.core.display.HTML object>"
      ]
     },
     "metadata": {},
     "output_type": "display_data"
    },
    {
     "data": {
      "text/html": [
       "-><b>Visiting Node 5 </b>"
      ],
      "text/plain": [
       "<IPython.core.display.HTML object>"
      ]
     },
     "metadata": {},
     "output_type": "display_data"
    },
    {
     "name": "stdout",
     "output_type": "stream",
     "text": [
      "-->Enqueue Right Child 7\n"
     ]
    },
    {
     "data": {
      "text/html": [
       "-><b>Visiting Node 6 </b>"
      ],
      "text/plain": [
       "<IPython.core.display.HTML object>"
      ]
     },
     "metadata": {},
     "output_type": "display_data"
    },
    {
     "name": "stdout",
     "output_type": "stream",
     "text": [
      "\n",
      "Level 3:\n"
     ]
    },
    {
     "data": {
      "text/html": [
       "-><b>Visiting Node 7 </b>"
      ],
      "text/plain": [
       "<IPython.core.display.HTML object>"
      ]
     },
     "metadata": {},
     "output_type": "display_data"
    },
    {
     "name": "stdout",
     "output_type": "stream",
     "text": [
      "\n"
     ]
    }
   ],
   "source": [
    "display(HTML(\"<b>Level Order Traversal with Steps </b> \\n\"))\n",
    "level_order_with_steps(root)"
   ]
  },
  {
   "cell_type": "markdown",
   "metadata": {},
   "source": [
    "### Inorder Traversal (Iterative)\n",
    "\n",
    "Traversal Order: Left, Root, Right"
   ]
  },
  {
   "cell_type": "code",
   "execution_count": 70,
   "metadata": {},
   "outputs": [],
   "source": [
    "def inorder_iterative_with_steps(root):\n",
    "    stack = []\n",
    "    current = root\n",
    "    step = 0\n",
    "    while stack or current:\n",
    "        if current:\n",
    "            print(f\"Step {step}: Push Node {current.value} to stack and move left\")\n",
    "            stack.append(current)\n",
    "            current = current.left\n",
    "        else:\n",
    "            current = stack.pop()\n",
    "            print(f\"Step {step}: Pop Node {current.value} from stack\")\n",
    "            display(HTML(\"->\" + f\"<b>Visiting Node {current.value} </b>\"))\n",
    "            # print(current.value, end=' ')\n",
    "            current = current.right\n",
    "        step += 1"
   ]
  },
  {
   "cell_type": "code",
   "execution_count": 72,
   "metadata": {},
   "outputs": [
    {
     "data": {
      "text/html": [
       "<b>Iterative Inorder Traversal with Steps </b> \n"
      ],
      "text/plain": [
       "<IPython.core.display.HTML object>"
      ]
     },
     "metadata": {},
     "output_type": "display_data"
    },
    {
     "name": "stdout",
     "output_type": "stream",
     "text": [
      "Step 0: Push Node 1 to stack and move left\n",
      "Step 1: Push Node 2 to stack and move left\n",
      "Step 2: Push Node 4 to stack and move left\n",
      "Step 3: Pop Node 4 from stack\n"
     ]
    },
    {
     "data": {
      "text/html": [
       "-><b>Visiting Node 4 </b>"
      ],
      "text/plain": [
       "<IPython.core.display.HTML object>"
      ]
     },
     "metadata": {},
     "output_type": "display_data"
    },
    {
     "name": "stdout",
     "output_type": "stream",
     "text": [
      "Step 4: Pop Node 2 from stack\n"
     ]
    },
    {
     "data": {
      "text/html": [
       "-><b>Visiting Node 2 </b>"
      ],
      "text/plain": [
       "<IPython.core.display.HTML object>"
      ]
     },
     "metadata": {},
     "output_type": "display_data"
    },
    {
     "name": "stdout",
     "output_type": "stream",
     "text": [
      "Step 5: Push Node 5 to stack and move left\n",
      "Step 6: Pop Node 5 from stack\n"
     ]
    },
    {
     "data": {
      "text/html": [
       "-><b>Visiting Node 5 </b>"
      ],
      "text/plain": [
       "<IPython.core.display.HTML object>"
      ]
     },
     "metadata": {},
     "output_type": "display_data"
    },
    {
     "name": "stdout",
     "output_type": "stream",
     "text": [
      "Step 7: Push Node 7 to stack and move left\n",
      "Step 8: Pop Node 7 from stack\n"
     ]
    },
    {
     "data": {
      "text/html": [
       "-><b>Visiting Node 7 </b>"
      ],
      "text/plain": [
       "<IPython.core.display.HTML object>"
      ]
     },
     "metadata": {},
     "output_type": "display_data"
    },
    {
     "name": "stdout",
     "output_type": "stream",
     "text": [
      "Step 9: Pop Node 1 from stack\n"
     ]
    },
    {
     "data": {
      "text/html": [
       "-><b>Visiting Node 1 </b>"
      ],
      "text/plain": [
       "<IPython.core.display.HTML object>"
      ]
     },
     "metadata": {},
     "output_type": "display_data"
    },
    {
     "name": "stdout",
     "output_type": "stream",
     "text": [
      "Step 10: Push Node 3 to stack and move left\n",
      "Step 11: Pop Node 3 from stack\n"
     ]
    },
    {
     "data": {
      "text/html": [
       "-><b>Visiting Node 3 </b>"
      ],
      "text/plain": [
       "<IPython.core.display.HTML object>"
      ]
     },
     "metadata": {},
     "output_type": "display_data"
    },
    {
     "name": "stdout",
     "output_type": "stream",
     "text": [
      "Step 12: Push Node 6 to stack and move left\n",
      "Step 13: Pop Node 6 from stack\n"
     ]
    },
    {
     "data": {
      "text/html": [
       "-><b>Visiting Node 6 </b>"
      ],
      "text/plain": [
       "<IPython.core.display.HTML object>"
      ]
     },
     "metadata": {},
     "output_type": "display_data"
    }
   ],
   "source": [
    "display(HTML(\"<b>Iterative Inorder Traversal with Steps </b> \\n\"))\n",
    "\n",
    "inorder_iterative_with_steps(root)"
   ]
  },
  {
   "cell_type": "markdown",
   "metadata": {},
   "source": [
    "### Preorder Traversal (Iterative)\n",
    "\n",
    "Traversal Order: Root, Left, Right"
   ]
  },
  {
   "cell_type": "code",
   "execution_count": 73,
   "metadata": {},
   "outputs": [],
   "source": [
    "def preorder_iterative_with_steps(root):\n",
    "    if root is None:\n",
    "        return\n",
    "    stack = [root]\n",
    "    step = 0\n",
    "    while stack:\n",
    "        current = stack.pop()\n",
    "        print(f\"Step {step}: Pop Node {current.value} from stack\")\n",
    "        display(HTML(\"->\" + f\"<b>Visiting Node {current.value} </b>\"))\n",
    "        # print(current.value, end=' ')\n",
    "        if current.right:\n",
    "            print(f\"  Push Right Child {current.right.value} to stack\")\n",
    "            stack.append(current.right)\n",
    "        if current.left:\n",
    "            print(f\"  Push Left Child {current.left.value} to stack\")\n",
    "            stack.append(current.left)\n",
    "        step += 1"
   ]
  },
  {
   "cell_type": "code",
   "execution_count": 74,
   "metadata": {},
   "outputs": [
    {
     "data": {
      "text/html": [
       "<b>Iterative Preorder Traversal with Steps </b> \n"
      ],
      "text/plain": [
       "<IPython.core.display.HTML object>"
      ]
     },
     "metadata": {},
     "output_type": "display_data"
    },
    {
     "name": "stdout",
     "output_type": "stream",
     "text": [
      "Step 0: Pop Node 1 from stack\n"
     ]
    },
    {
     "data": {
      "text/html": [
       "-><b>Visiting Node 1 </b>"
      ],
      "text/plain": [
       "<IPython.core.display.HTML object>"
      ]
     },
     "metadata": {},
     "output_type": "display_data"
    },
    {
     "name": "stdout",
     "output_type": "stream",
     "text": [
      "  Push Right Child 3 to stack\n",
      "  Push Left Child 2 to stack\n",
      "Step 1: Pop Node 2 from stack\n"
     ]
    },
    {
     "data": {
      "text/html": [
       "-><b>Visiting Node 2 </b>"
      ],
      "text/plain": [
       "<IPython.core.display.HTML object>"
      ]
     },
     "metadata": {},
     "output_type": "display_data"
    },
    {
     "name": "stdout",
     "output_type": "stream",
     "text": [
      "  Push Right Child 5 to stack\n",
      "  Push Left Child 4 to stack\n",
      "Step 2: Pop Node 4 from stack\n"
     ]
    },
    {
     "data": {
      "text/html": [
       "-><b>Visiting Node 4 </b>"
      ],
      "text/plain": [
       "<IPython.core.display.HTML object>"
      ]
     },
     "metadata": {},
     "output_type": "display_data"
    },
    {
     "name": "stdout",
     "output_type": "stream",
     "text": [
      "Step 3: Pop Node 5 from stack\n"
     ]
    },
    {
     "data": {
      "text/html": [
       "-><b>Visiting Node 5 </b>"
      ],
      "text/plain": [
       "<IPython.core.display.HTML object>"
      ]
     },
     "metadata": {},
     "output_type": "display_data"
    },
    {
     "name": "stdout",
     "output_type": "stream",
     "text": [
      "  Push Right Child 7 to stack\n",
      "Step 4: Pop Node 7 from stack\n"
     ]
    },
    {
     "data": {
      "text/html": [
       "-><b>Visiting Node 7 </b>"
      ],
      "text/plain": [
       "<IPython.core.display.HTML object>"
      ]
     },
     "metadata": {},
     "output_type": "display_data"
    },
    {
     "name": "stdout",
     "output_type": "stream",
     "text": [
      "Step 5: Pop Node 3 from stack\n"
     ]
    },
    {
     "data": {
      "text/html": [
       "-><b>Visiting Node 3 </b>"
      ],
      "text/plain": [
       "<IPython.core.display.HTML object>"
      ]
     },
     "metadata": {},
     "output_type": "display_data"
    },
    {
     "name": "stdout",
     "output_type": "stream",
     "text": [
      "  Push Right Child 6 to stack\n",
      "Step 6: Pop Node 6 from stack\n"
     ]
    },
    {
     "data": {
      "text/html": [
       "-><b>Visiting Node 6 </b>"
      ],
      "text/plain": [
       "<IPython.core.display.HTML object>"
      ]
     },
     "metadata": {},
     "output_type": "display_data"
    }
   ],
   "source": [
    "display(HTML(\"<b>Iterative Preorder Traversal with Steps </b> \\n\"))\n",
    "\n",
    "preorder_iterative_with_steps(root)"
   ]
  },
  {
   "cell_type": "markdown",
   "metadata": {},
   "source": [
    "### Postorder Traversal (Iterative)\n",
    "\n",
    "Traversal Order: Left, Right, Root"
   ]
  },
  {
   "cell_type": "code",
   "execution_count": 75,
   "metadata": {},
   "outputs": [],
   "source": [
    "def postorder_iterative_with_steps(root):\n",
    "    if root is None:\n",
    "        return\n",
    "    stack1 = [root]\n",
    "    stack2 = []\n",
    "    step = 0\n",
    "    while stack1:\n",
    "        current = stack1.pop()\n",
    "        print(f\"Step {step}: Pop Node {current.value} from stack1 and push to stack2\")\n",
    "        stack2.append(current)\n",
    "        if current.left:\n",
    "            print(f\"  Push Left Child {current.left.value} to stack1\")\n",
    "            stack1.append(current.left)\n",
    "        if current.right:\n",
    "            print(f\"  Push Right Child {current.right.value} to stack1\")\n",
    "            stack1.append(current.right)\n",
    "        step += 1\n",
    "    print(\"Processing stack2 for final output:\")\n",
    "    while stack2:\n",
    "        current = stack2.pop()\n",
    "        display(HTML(\"->\" + f\"<b>Visiting Node {current.value} </b>\"))\n",
    "        # print(current.value, end=' ')"
   ]
  },
  {
   "cell_type": "code",
   "execution_count": 76,
   "metadata": {},
   "outputs": [
    {
     "data": {
      "text/html": [
       "<b>Iterative Postorder Traversal with Steps </b> \n"
      ],
      "text/plain": [
       "<IPython.core.display.HTML object>"
      ]
     },
     "metadata": {},
     "output_type": "display_data"
    },
    {
     "name": "stdout",
     "output_type": "stream",
     "text": [
      "Step 0: Pop Node 1 from stack1 and push to stack2\n",
      "  Push Left Child 2 to stack1\n",
      "  Push Right Child 3 to stack1\n",
      "Step 1: Pop Node 3 from stack1 and push to stack2\n",
      "  Push Right Child 6 to stack1\n",
      "Step 2: Pop Node 6 from stack1 and push to stack2\n",
      "Step 3: Pop Node 2 from stack1 and push to stack2\n",
      "  Push Left Child 4 to stack1\n",
      "  Push Right Child 5 to stack1\n",
      "Step 4: Pop Node 5 from stack1 and push to stack2\n",
      "  Push Right Child 7 to stack1\n",
      "Step 5: Pop Node 7 from stack1 and push to stack2\n",
      "Step 6: Pop Node 4 from stack1 and push to stack2\n",
      "Processing stack2 for final output:\n"
     ]
    },
    {
     "data": {
      "text/html": [
       "-><b>Visiting Node 4 </b>"
      ],
      "text/plain": [
       "<IPython.core.display.HTML object>"
      ]
     },
     "metadata": {},
     "output_type": "display_data"
    },
    {
     "data": {
      "text/html": [
       "-><b>Visiting Node 7 </b>"
      ],
      "text/plain": [
       "<IPython.core.display.HTML object>"
      ]
     },
     "metadata": {},
     "output_type": "display_data"
    },
    {
     "data": {
      "text/html": [
       "-><b>Visiting Node 5 </b>"
      ],
      "text/plain": [
       "<IPython.core.display.HTML object>"
      ]
     },
     "metadata": {},
     "output_type": "display_data"
    },
    {
     "data": {
      "text/html": [
       "-><b>Visiting Node 2 </b>"
      ],
      "text/plain": [
       "<IPython.core.display.HTML object>"
      ]
     },
     "metadata": {},
     "output_type": "display_data"
    },
    {
     "data": {
      "text/html": [
       "-><b>Visiting Node 6 </b>"
      ],
      "text/plain": [
       "<IPython.core.display.HTML object>"
      ]
     },
     "metadata": {},
     "output_type": "display_data"
    },
    {
     "data": {
      "text/html": [
       "-><b>Visiting Node 3 </b>"
      ],
      "text/plain": [
       "<IPython.core.display.HTML object>"
      ]
     },
     "metadata": {},
     "output_type": "display_data"
    },
    {
     "data": {
      "text/html": [
       "-><b>Visiting Node 1 </b>"
      ],
      "text/plain": [
       "<IPython.core.display.HTML object>"
      ]
     },
     "metadata": {},
     "output_type": "display_data"
    }
   ],
   "source": [
    "display(HTML(\"<b>Iterative Postorder Traversal with Steps </b> \\n\"))\n",
    "postorder_iterative_with_steps(root)"
   ]
  },
  {
   "cell_type": "markdown",
   "metadata": {},
   "source": [
    "- **Recursive Traversals:** Adding print statements before and after recursive calls helps visualize the call stack and the order of operations.\n",
    "- **Iterative Traversals:** Printing the contents of stacks or queues at each step illustrates how these data structures control the traversal order."
   ]
  },
  {
   "cell_type": "markdown",
   "metadata": {},
   "source": [
    "## Trees in Competitive Programming\n",
    "\n",
    "In competitive programming, trees are often represented in the form of graphs since they are acyclic connected graphs.\n",
    "\n",
    "### Representing Trees\n",
    "\n",
    "1. **Adjacency List**\n",
    "\n",
    "```python\n",
    "n = 5  # Number of nodes\n",
    "tree = [[] for _ in range(n+1)]\n",
    "\n",
    "# Assuming edges are given\n",
    "edges = [(1,2), (1,3), (2,4), (2,5)]\n",
    "\n",
    "for u, v in edges:\n",
    "    tree[u].append(v)\n",
    "    tree[v].append(u)  # Because the tree is undirected\n",
    "```\n",
    "\n",
    "2. **Edge List**\n",
    "\n",
    "```python\n",
    "edges = [(1,2), (1,3), (2,4), (2,5)]\n",
    "```\n",
    "\n",
    "3. **Parent Array**\n",
    "\n",
    "If we know the parent of each node:\n",
    "\n",
    "```python\n",
    "parent = [0]*(n+1)\n",
    "parent[1] = -1  # Root node\n",
    "\n",
    "for u, v in edges:\n",
    "    parent[v] = u  # Assuming u is the parent of v\n",
    "```\n",
    "\n",
    "### Common Tree Problems in Competitive Programming\n",
    "\n",
    "1. **Tree Traversals**: Performing DFS or BFS on trees.\n",
    "\n",
    "2. **Diameter of a Tree**: The longest path between any two nodes in a tree.\n",
    "\n",
    "   **Algorithm (Using DFS Twice):**\n",
    "\n",
    "   - Run DFS from any node and find the farthest node `u`.\n",
    "   - Run DFS from `u` and find the farthest node `v`. The distance between `u` and `v` is the diameter.\n",
    "\n",
    "   **Implementation:**\n",
    "\n",
    "   ```python\n",
    "   def dfs(node, parent, depth):\n",
    "       depths[node] = depth\n",
    "       for neighbor in tree[node]:\n",
    "           if neighbor != parent:\n",
    "               dfs(neighbor, node, depth + 1)\n",
    "\n",
    "   n = len(tree)\n",
    "   depths = [0]*(n+1)\n",
    "\n",
    "   # First DFS\n",
    "   dfs(1, -1, 0)\n",
    "   u = depths.index(max(depths))\n",
    "\n",
    "   # Reset depths\n",
    "   depths = [0]*(n+1)\n",
    "\n",
    "   # Second DFS\n",
    "   dfs(u, -1, 0)\n",
    "   diameter = max(depths)\n",
    "   ```\n",
    "\n",
    "3. **Lowest Common Ancestor (LCA)**: Finding the lowest common ancestor of two nodes in a tree.\n",
    "\n",
    "   **Binary Lifting Method:**\n",
    "\n",
    "   - Preprocess ancestors of each node using dynamic programming.\n",
    "   - Use powers of two to jump up the tree.\n",
    "\n",
    "   **Implementation Sketch:**\n",
    "\n",
    "   ```python\n",
    "   LOGN = 20  # Assuming n <= 1e6\n",
    "   up = [[-1]*LOGN for _ in range(n+1)]\n",
    "   depth = [0]*(n+1)\n",
    "\n",
    "   def dfs(u, p):\n",
    "       up[u][0] = p\n",
    "       for i in range(1, LOGN):\n",
    "           if up[u][i-1] != -1:\n",
    "               up[u][i] = up[up[u][i-1]][i-1]\n",
    "       for v in tree[u]:\n",
    "           if v != p:\n",
    "               depth[v] = depth[u] + 1\n",
    "               dfs(v, u)\n",
    "   ```\n",
    "\n",
    "4. **Tree DP**: Dynamic programming on trees, such as counting the number of ways to color the tree, finding the maximum independent set, etc.\n",
    "\n",
    "   **Example (Counting Subtrees of Each Node):**\n",
    "\n",
    "   ```python\n",
    "   def count_subtrees(u, p):\n",
    "       count = 1\n",
    "       for v in tree[u]:\n",
    "           if v != p:\n",
    "               count += count_subtrees(v, u)\n",
    "       subtree_count[u] = count\n",
    "       return count\n",
    "\n",
    "   subtree_count = [0]*(n+1)\n",
    "   count_subtrees(1, -1)\n",
    "   ```\n",
    "\n",
    "### Tips for Solving Tree Problems\n",
    "\n",
    "- **Understand Tree Properties**: Knowing properties like the number of edges (n-1), acyclicity, and connectivity helps.\n",
    "- **Choose the Right Traversal**: Depending on the problem, choose between DFS and BFS.\n",
    "- **Preprocessing**: For problems like LCA, preprocess data using techniques like binary lifting or Euler tour.\n",
    "- **Edge Cases**: Be careful with edge cases like leaf nodes or single-node trees.\n",
    "- **Optimization**: Use efficient algorithms for heavy computations (e.g., O(log n) time for LCA queries).\n"
   ]
  }
 ],
 "metadata": {
  "kernelspec": {
   "display_name": "ml_notes",
   "language": "python",
   "name": "python3"
  },
  "language_info": {
   "codemirror_mode": {
    "name": "ipython",
    "version": 3
   },
   "file_extension": ".py",
   "mimetype": "text/x-python",
   "name": "python",
   "nbconvert_exporter": "python",
   "pygments_lexer": "ipython3",
   "version": "3.11.9"
  }
 },
 "nbformat": 4,
 "nbformat_minor": 2
}
