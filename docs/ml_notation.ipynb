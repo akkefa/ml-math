{
 "cells": [
  {
   "cell_type": "markdown",
   "metadata": {},
   "source": [
    "# ML Notation / Equations\n",
    "\n",
    "## Notation\n",
    "\n",
    "```{list-table}\n",
    ":widths: 20 70 10\n",
    ":header-rows: 1\n",
    ":align: \"center\"\n",
    "\n",
    "* - Symbol\n",
    "  - Formula\n",
    "  - Explained\n",
    "* - $\\mu$\n",
    "  - $\\sum_{x} k P(X=x) = \\int_{-\\infty}^{\\infty} x f(x) d x$\n",
    "  - [🔗](expected-value)\n",
    "* - $V(X)$ or $\\sigma^2$ \n",
    "  - $E[(X - E[X])^2] = E[(X - \\mu)^2]  = E[X^2] - E[X]^2$\n",
    "  - [🔗](variance-link)\n",
    "* - $\\sigma$\n",
    "  - $\\sqrt{V(X)}$\n",
    "  - Standard deviation\n",
    "* - $Cov(X,Y)$ \n",
    "  - Covariance of X and Y\n",
    "  - Covariance of X and Y\n",
    "* - $\\bar{X}$\n",
    "  - The sample \n",
    "  - The sample mean is an average value\n",
    "* - $\\delta$\n",
    "  - $\\delta(v)$\n",
    "  - Activation fucntions, sigmoid, relu, etc.\n",
    "\n",
    "```\n",
    "\n",
    "\n",
    "## Equations\n",
    "\n",
    "### Cosine Similarity\n",
    "Cosine similarity is a metric used to measure the similarity between two vectors in a multi-dimensional space.\n",
    "Cosine similarity measures the cosine of the angle between two non-zero vectors in an n-dimensional space.\n",
    "\n",
    "Formula = dot product / normalized sum of squares\n",
    "\n",
    "$$\n",
    "\\text{cos}(x,y) = \\frac{x \\cdot y}{\\sqrt{x^2} \\cdot \\sqrt{y^2}} = \\frac{\\sum_{i=1}^n A_i B_i}{\\sqrt{\\sum_{i=1}^n A_i^2} \\sqrt{\\sum_{i=1}^n B_i^2}}\n",
    "$$\n",
    "\n",
    "#### Properties\n",
    "\n",
    "- **Scale Invariance** Cosine similarity is scale-invariant, meaning it is not affected by the magnitude of the vectors, only by their orientations.\n",
    "- One hot and multi hot vectors easily.\n"
   ]
  },
  {
   "cell_type": "code",
   "execution_count": 2,
   "metadata": {},
   "outputs": [],
   "source": [
    "import torch\n",
    "from torch.nn import functional as F"
   ]
  },
  {
   "cell_type": "code",
   "execution_count": 22,
   "metadata": {},
   "outputs": [
    {
     "name": "stdout",
     "output_type": "stream",
     "text": [
      "tensor(0.7071)\n",
      "tensor(0.7071)\n",
      "tensor(0.7071)\n"
     ]
    }
   ],
   "source": [
    "v1 = torch.tensor([0, 0, 1], dtype=torch.float32)\n",
    "v2 = torch.tensor([0, 1, 1],dtype=torch.float32)\n",
    "\n",
    "print(F.cosine_similarity(v1, v2 , dim=0))\n",
    "\n",
    "print(F.normalize(v1, dim=0) @ F.normalize(v2, dim=0))\n",
    "\n",
    "# print(torch.matmul(v1, v2.T)/ torch.norm(v1) / torch.norm(v2))\n",
    "\n",
    "print( torch.matmul(v1, v2.T) / ( torch.sqrt( torch.sum(v1 ** 2)) * torch.sqrt( torch.sum(v2 ** 2))) )\n"
   ]
  },
  {
   "cell_type": "code",
   "execution_count": null,
   "metadata": {},
   "outputs": [],
   "source": []
  }
 ],
 "metadata": {
  "kernelspec": {
   "display_name": "notes",
   "language": "python",
   "name": "python3"
  },
  "language_info": {
   "codemirror_mode": {
    "name": "ipython",
    "version": 3
   },
   "file_extension": ".py",
   "mimetype": "text/x-python",
   "name": "python",
   "nbconvert_exporter": "python",
   "pygments_lexer": "ipython3",
   "version": "3.11.4"
  },
  "orig_nbformat": 4
 },
 "nbformat": 4,
 "nbformat_minor": 2
}
