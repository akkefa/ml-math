{
 "cells": [
  {
   "cell_type": "markdown",
   "metadata": {},
   "source": [
    "# ML Notation / Equations\n",
    "\n",
    "## Notation\n",
    "\n",
    "```{list-table}\n",
    ":widths: 20 70 10\n",
    ":header-rows: 1\n",
    ":align: \"center\"\n",
    "\n",
    "* - Symbol\n",
    "  - Formula\n",
    "  - Explained\n",
    "* - $\\mu$\n",
    "  - $\\sum_{x} k P(X=x) = \\int_{-\\infty}^{\\infty} x f(x) d x$\n",
    "  - [🔗](expected-value)\n",
    "* - $V(X)$ or $\\sigma^2$ \n",
    "  - $E[(X - E[X])^2] = E[(X - \\mu)^2]  = E[X^2] - E[X]^2$\n",
    "  - [🔗](variance-link)\n",
    "* - $\\sigma$\n",
    "  - $\\sqrt{V(X)}$\n",
    "  - Standard deviation\n",
    "* - $Cov(X,Y)$ \n",
    "  - Covariance of X and Y\n",
    "  - Covariance of X and Y\n",
    "* - $\\bar{X}$\n",
    "  - The sample \n",
    "  - The sample mean is an average value\n",
    "* - $\\delta$\n",
    "  - $\\delta(v)$\n",
    "  - Activation fucntions, sigmoid, relu, etc.\n",
    "\n",
    "```"
   ]
  },
  {
   "cell_type": "code",
   "execution_count": null,
   "metadata": {},
   "outputs": [],
   "source": []
  }
 ],
 "metadata": {
  "language_info": {
   "name": "python"
  },
  "orig_nbformat": 4
 },
 "nbformat": 4,
 "nbformat_minor": 2
}
