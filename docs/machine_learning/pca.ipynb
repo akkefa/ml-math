{
 "cells": [
  {
   "cell_type": "markdown",
   "metadata": {},
   "source": [
    "# Principal Component Analysis (PCA)\n",
    "\n",
    "PCA is a method that transforms a set of possibly correlated variables into a smaller number of uncorrelated variables called principal components. These principal components capture the most variance (information) in the data with fewer variables. The process of PCA involves:\n",
    "\n",
    "1. **Standardizing the Data**: Often, the first step in PCA is to standardize the data so that each feature contributes equally. This involves subtracting the mean and dividing by the standard deviation for each feature.\n",
    "\n",
    "2. **Covariance Matrix Computation**: PCA computes the covariance matrix of the data to understand how the variables in the dataset are varying from the mean with respect to each other.\n",
    "\n",
    "3. **Eigendecomposition**: The next step is to compute the eigenvectors and eigenvalues of the covariance matrix. Eigenvectors determine the directions of the new feature space, and eigenvalues determine their magnitude. In other words, the eigenvectors point in the direction of maximum variance.\n",
    "\n",
    "4. **Sorting and Selecting Principal Components**: Eigenvectors are sorted by their eigenvalues in descending order to rank the corresponding principal components in terms of the variance they capture in the data. Typically, only the top few eigenvectors are kept. These form the new feature subspace.\n",
    "\n",
    "5. **Projection**: Finally, the original data is projected onto the new feature subspace using the selected eigenvectors. This results in a new dataset with reduced dimensions.\n",
    "\n",
    "## Benefits of PCA\n",
    "\n",
    "- **Reduction of Dimensionality**: PCA reduces the number of features while retaining most of the important information (variance). This simplifies the model, reducing the computational and storage burden.\n",
    "- **Noise Reduction**: By eliminating the components with lower variance and retaining those with higher variance, PCA can help in noise reduction.\n",
    "- **Improved Visualization**: With fewer variables, it becomes feasible to visualize high-dimensional data in two or three dimensions.\n",
    "- **Feature Correlation**: Helps in understanding the interrelationships in high-dimensional data by transforming them into principal components that are independent of one another.\n",
    "\n",
    "## Drawbacks of PCA\n",
    "\n",
    "- **Variance-Centric**: PCA focuses on maximizing variance, which may not always equate to capturing the most important information. Some important variables may have low variance and could be ignored.\n",
    "- **Linear Assumptions**: PCA assumes that the principal components are a linear combination of the original features, which may not hold in cases where there are complex non-linear relationships.\n",
    "- **Sensitive to Scaling**: Since PCA is affected by the scale of the variables, different results can be obtained depending on how the data is scaled (e.g., normalization or standardization).\n",
    "- **Loss of Meaning**: The principal components are linear combinations of the original variables and may not be interpretable in a meaningful way in terms of the original data.\n",
    "- **Outliers**: PCA is sensitive to outliers, which can disproportionately influence the results since they can significantly affect the mean and covariance structure.\n",
    "\n",
    "## When to Use PCA\n",
    "\n",
    "PCA is typically used in situations where you need to mitigate issues arising from high-dimensional data in machine learning, such as overfitting and high computational costs. It's also used for exploratory data analysis to identify underlying structures in the data.\n",
    "\n",
    "## Conclusion\n",
    "\n",
    "While PCA is a robust tool for dimensionality reduction and feature extraction, its effectiveness depends on the nature of the dataset and the specific requirements of the analysis. Understanding both its capabilities and limitations is crucial for its effective application in data science projects."
   ]
  },
  {
   "cell_type": "code",
   "execution_count": null,
   "metadata": {},
   "outputs": [],
   "source": []
  }
 ],
 "metadata": {
  "language_info": {
   "name": "python"
  }
 },
 "nbformat": 4,
 "nbformat_minor": 2
}
