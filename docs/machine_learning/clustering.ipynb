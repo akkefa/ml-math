{
 "cells": [
  {
   "cell_type": "markdown",
   "metadata": {},
   "source": [
    "# Clustering\n",
    "\n",
    "Clustering is a technique used to group similar items together.\n",
    "\n",
    "```{admonition} PCA vs Clustering\n",
    "\n",
    "PCA: finds a low-dimensional representation <br>\n",
    "Clustering: finds subgroups among observations\n",
    "\n",
    "```\n",
    "\n",
    "\n",
    "\n",
    "## K-Means Clustering"
   ]
  }
 ],
 "metadata": {
  "language_info": {
   "name": "python"
  }
 },
 "nbformat": 4,
 "nbformat_minor": 2
}
