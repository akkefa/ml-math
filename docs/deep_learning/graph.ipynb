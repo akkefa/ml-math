{
 "cells": [
  {
   "attachments": {},
   "cell_type": "markdown",
   "metadata": {},
   "source": [
    "# Graph Neural Networks\n",
    "\n",
    "Graph Neural Networks (GNNs) are a class of neural networks that operate on graphs. They are a powerful tool for solving problems in domains such as social network analysis, recommender systems, and combinatorial optimization.\n",
    "\n",
    "You can read about Graph data structures /algorithms/graphs.html#graphs-data-structure section.\n",
    "\n",
    "## Node Representations\n",
    "\n",
    "The goal of a GNN is to learn a function that maps a graph to a representation of its nodes. This representation can then be used for various downstream tasks, such as node classification, link prediction, and clustering.\n",
    "\n",
    "### DeepWalk\n",
    "\n",
    "DeepWalk is a simple algorithm for learning node representations in a graph. It works by performing random walks on the graph, and using the SkipGram model from Word2Vec to learn the embeddings of the nodes.\n",
    "\n",
    "It introduces important concepts such as embeddings that are at the core of GNNs. Unlike traditional neural networks, the goal of this architecture is to produce representations that are then fed to other models, which perform downstream tasks (for example, node classification).\n",
    "\n",
    "DeepWalk architecture and its two major components: **Word2Vec** and **random walks**.\n",
    "\n",
    "#### Word2Vec\n",
    "\n",
    "The first step to comprehending the DeepWalk algorithm is to understand its major component: Word2Vec.\n",
    "it proposed a new technique to translate words into vectors (also known as embeddings) using large datasets of text. These representations can then be used in downstream tasks, such as sentiment classification.\n",
    "\n",
    "One of the most surprising results of Word2Vec is its ability to solve analogies. A popular example is how it can answer the question “man is to woman, what king is to ___?” It can be calculated as follows:\n",
    "\n",
    "##### CBOW versus skip-gram\n",
    "its only goal is to produce high-quality embeddings.\n",
    "\n",
    "The continuous bag-of-words (CBOW) model:\n",
    "\n",
    "This is trained to predict a word using its surrounding context (words coming before and after the target word). The order of context words does not matter since their embeddings are summed in the model. The authors claim to obtain better results using four words before and after the one that is predicted.\n",
    "\n",
    "The continuous skip-gram model:\n",
    "\n",
    "Here, we feed a single word to the model and try to predict the words around it. Increasing the range of context words leads to better embeddings but also increases the training time.\n",
    "\n",
    "```{image} https://i.stack.imgur.com/ShJJX.png\n",
    ":alt: CBOW and skip-gram models\n",
    ":width: 80%\n",
    ":align: center\n",
    "```\n",
    "\n",
    "##### Creating skip-grams\n",
    "\n",
    "For now, we will focus on the skip-gram model since it is the architecture used by DeepWalk. Skip-grams are implemented as pairs of words with the following structure ( target word, context word). where target word is the input and context word is the word to predict. The number of skip grams for the same target word depends on a parameter called context size.\n",
    "\n",
    "\n",
    "| Context Size | Text | Skip-grams |\n",
    "| :---: | :---: | :---: |\n",
    "| 1 | the train was late. | ('the', 'train') |\n",
    "|  | the train was late | $\\begin{array}{l}\\text { ('train', 'the') } \\\\\\text { ('train', 'was') }\\end{array}$ |\n",
    "|  | the train was late | $\\begin{array}{l}\\text { ('was', 'train') } \\\\\\text { ('was', 'late') }\\end{array}$ |\n",
    "|  | the train was late | ('late', 'was') |\n",
    "| 2 | the train was late | $\\begin{array}{l}\\text { ('the', 'train') } \\\\\\text { ('the', 'was') }\\end{array}$ |\n",
    "|  | the train was late | $\\begin{array}{l}\\text { ('train', 'the') } \\\\\\text { ('train', 'was') } \\\\\\text { ('train', 'late') }\\end{array}$ |\n",
    "|  | the train was late | $\\begin{array}{l}\\text { ('was', 'the') } \\\\\\text { ('was', 'train') } \\\\\\text { ('was', 'late') }\\end{array}$ |\n",
    "|  | the train was late | $\\begin{array}{l}\\text { ('late', 'train') } \\\\\\text { ('late', 'was') }\\end{array}$ |\n",
    "\n",
    "\n",
    "The same idea can be applied to a corpus of text instead of a single sentence.\n"
   ]
  },
  {
   "cell_type": "code",
   "execution_count": 1,
   "metadata": {},
   "outputs": [
    {
     "name": "stdout",
     "output_type": "stream",
     "text": [
      "[('dolor', ['Lorem', 'ipsum', 'sit', 'amet,']), ('sit', ['ipsum', 'dolor', 'amet,', 'consectetur'])]\n"
     ]
    }
   ],
   "source": [
    "import numpy as np\n",
    "np.random.seed(0)\n",
    "\n",
    "CONTEXT_SIZE = 2\n",
    "\n",
    "text = \"\"\"Lorem ipsum dolor sit amet, consectetur adipiscing elit. Nunc eu sem \n",
    "scelerisque, dictum eros aliquam, accumsan quam. Pellentesque tempus, lorem ut \n",
    "semper fermentum, ante turpis accumsan ex, sit amet ultricies tortor erat quis \n",
    "nulla. Nunc consectetur ligula sit amet purus porttitor, vel tempus tortor \n",
    "scelerisque. Vestibulum ante ipsum primis in faucibus orci luctus et ultrices \n",
    "posuere cubilia curae; Quisque suscipit ligula nec faucibus accumsan. Duis \n",
    "vulputate massa sit amet viverra hendrerit. Integer maximus quis sapien id \n",
    "convallis. Donec elementum placerat ex laoreet gravida. Praesent quis enim \n",
    "facilisis, bibendum est nec, pharetra ex. Etiam pharetra congue justo, eget \n",
    "imperdiet diam varius non. Mauris dolor lectus, interdum in laoreet quis, \n",
    "faucibus vitae velit. Donec lacinia dui eget maximus cursus. Class aptent taciti\n",
    "sociosqu ad litora torquent per conubia nostra, per inceptos himenaeos. Vivamus\n",
    "tincidunt velit eget nisi ornare convallis. Pellentesque habitant morbi \n",
    "tristique senectus et netus et malesuada fames ac turpis egestas. Donec \n",
    "tristique ultrices tortor at accumsan.\n",
    "\"\"\".split()\n",
    "\n",
    "# Create skipgrams\n",
    "skipgrams = []\n",
    "for i in range(CONTEXT_SIZE, len(text) - CONTEXT_SIZE):\n",
    "    array = [text[j] for j in np.arange(i - CONTEXT_SIZE, i + CONTEXT_SIZE + 1) if j != i]\n",
    "    skipgrams.append((text[i], array))\n",
    "\n",
    "print(skipgrams[0:2])"
   ]
  },
  {
   "cell_type": "code",
   "execution_count": 2,
   "metadata": {},
   "outputs": [
    {
     "name": "stdout",
     "output_type": "stream",
     "text": [
      "Length of vocabulary = 121\n"
     ]
    }
   ],
   "source": [
    "vocab = set(text)\n",
    "VOCAB_SIZE = len(vocab)\n",
    "print(f\"Length of vocabulary = {VOCAB_SIZE}\")"
   ]
  },
  {
   "cell_type": "code",
   "execution_count": 3,
   "metadata": {},
   "outputs": [
    {
     "name": "stdout",
     "output_type": "stream",
     "text": [
      "Shape of W_embed: (121, 10)\n",
      "\n",
      "Word embedding =\n",
      "[ 0.07156403  0.03257632  0.00209916 -0.04374931 -0.03398107 -0.08656936\n",
      " -0.09047253 -0.09552431 -0.06482638  0.0660186 ]\n"
     ]
    }
   ],
   "source": [
    "from gensim.models.word2vec import Word2Vec\n",
    "\n",
    "# Create Word2Vec\n",
    "model = Word2Vec([text],\n",
    "                 sg=1,   # Skip-gram\n",
    "                 vector_size=10,\n",
    "                 min_count=0,\n",
    "                 window=2,\n",
    "                 workers=1,\n",
    "                 seed=0)\n",
    "\n",
    "print(f'Shape of W_embed: {model.wv.vectors.shape}')\n",
    "\n",
    "# Train model\n",
    "model.train([text], total_examples=model.corpus_count, epochs=10)\n",
    "\n",
    "# Print a word embedding\n",
    "print('\\nWord embedding =')\n",
    "print(model.wv[0])"
   ]
  },
  {
   "attachments": {},
   "cell_type": "markdown",
   "metadata": {},
   "source": [
    "While this approach works well with small vocabularies, the computational cost of applying a full softmax function to millions of words (the vocabulary size ) is too costly in most cases.\n",
    "\n",
    "Word2Vec (and DeepWalk) implements one of these techniques, called H-Softmax. Instead of a flat softmax that directly calculates the probability of every word, this technique uses a binary tree structure where leaves are words. Even more interestingly, a Huffman tree can be used, where infrequent words are stored at deeper levels than common words. In most cases, this dramatically speeds up the word prediction by a factor of at least 50.\n",
    "\n",
    "H-Softmax can be activated in gensim using hs=1.\n",
    "\n",
    "#### DeepWalk and random walks\n",
    "\n",
    "Proposed in 2014 by Perozzi et al., DeepWalk quickly became extremely popular among graph researchers. It is a simple algorithm that can be used to learn node representations in a graph. It works by performing random walks on the graph, and using the SkipGram model from Word2Vec to learn the embeddings of the nodes.\n",
    "\n",
    "The goal of DeepWalk is to produce high-quality feature representations of nodes in an unsupervised way. This architecture is heavily inspired by Word2Vec in NLP. However, instead of words, our dataset is composed of nodes. This is why we use random walks to generate meaningful sequences of nodes that act like sentences. The following diagram illustrates the connection between sentences and graphs:\n",
    "\n",
    "```{image} https://learning.oreilly.com/api/v2/epubs/urn:orm:book:9781804617526/files/image/B19153_03_004.jpg\n",
    ":alt: DeepWalk and random walks\n",
    ":width: 80%\n",
    ":align: center\n",
    "```\n",
    "\n",
    "**Sentences can be represented as graphs**\n",
    "\n",
    "Why are random walks important? Even if nodes are randomly selected, the fact that they often appear together in a sequence means that they are close to each other. Under the network homophily hypothesis, nodes that are close to each other are similar. This is particularly the case in social networks, where people are connected to friends and family.\n",
    "\n",
    "This idea is at the core of the DeepWalk algorithm: when nodes are close to each other, we want to obtain high similarity scores. On the contrary, we want low scores when they are farther apart.\n",
    "\n",
    "Let’s implement a random walk function using a networkx graph:\n",
    "\n",
    "We generate a random graph thanks to the erdos_renyi_graph function with a fixed number of nodes (10) and a predefined probability of creating an edge between two nodes (0.3):\n"
   ]
  },
  {
   "cell_type": "code",
   "execution_count": 4,
   "metadata": {},
   "outputs": [
    {
     "name": "stderr",
     "output_type": "stream",
     "text": [
      "/Users/ikram.ali/miniconda3/envs/ml_notes/lib/python3.11/site-packages/networkx/drawing/nx_pylab.py:433: UserWarning: No data for colormapping provided via 'c'. Parameters 'cmap' will be ignored\n",
      "  node_collection = ax.scatter(\n"
     ]
    },
    {
     "data": {
      "image/png": "[encoded data removed]",
      "text/plain": [
       "<Figure size 640x480 with 1 Axes>"
      ]
     },
     "metadata": {},
     "output_type": "display_data"
    }
   ],
   "source": [
    "import networkx as nx\n",
    "import matplotlib.pyplot as plt\n",
    "\n",
    "# Create a graph\n",
    "G = nx.erdos_renyi_graph(10, 0.3, seed=1, directed=False)\n",
    "\n",
    "# Plot graph\n",
    "plt.figure()\n",
    "plt.axis('off')\n",
    "nx.draw_networkx(G,\n",
    "                 pos=nx.spring_layout(G, seed=0),\n",
    "                 node_size=600,\n",
    "                 cmap='coolwarm',\n",
    "                 font_size=14,\n",
    "                 font_color='white'\n",
    "                 )"
   ]
  },
  {
   "attachments": {},
   "cell_type": "markdown",
   "metadata": {},
   "source": [
    "Let’s implement random walks with a simple function. This function takes two parameters: the starting node (start) and the length of the walk (length). At every step, we randomly select a neighboring node (using np.random.choice) until the walk is complete:"
   ]
  },
  {
   "cell_type": "code",
   "execution_count": 5,
   "metadata": {},
   "outputs": [],
   "source": [
    "def random_walk(start, length):\n",
    "    walk = [str(start)]  # starting node\n",
    "    for i in range(length):\n",
    "        neighbors = [node for node in G.neighbors(start)]\n",
    "        next_node = np.random.choice(neighbors, 1)[0]\n",
    "        walk.append(str(next_node))\n",
    "        start = next_node\n",
    "    return walk"
   ]
  },
  {
   "cell_type": "code",
   "execution_count": 8,
   "metadata": {},
   "outputs": [
    {
     "name": "stdout",
     "output_type": "stream",
     "text": [
      "['0', '9', '4', '0', '4', '9', '1', '2', '1', '2', '1']\n"
     ]
    }
   ],
   "source": [
    "print(random_walk(0, 10))"
   ]
  },
  {
   "attachments": {},
   "cell_type": "markdown",
   "metadata": {},
   "source": [
    "We can see that certain nodes, such as 0 and 9, are often found together. Considering that it is a homophilic graph, it means that they are similar. It is precisely the type of relationship we’re trying to capture with DeepWalk.\n",
    "\n",
    "Now that we have implemented Word2Vec and random walks separately, let’s combine them to create DeepWalk.\n",
    "\n",
    "##### Implementing DeepWalk\n",
    "\n",
    "The dataset we will use is Zachary’s Karate Club. It simply represents the relationships within a karate club studied by Wayne W. Zachary in the 1970s. It is a kind of social network where every node is a member, and members who interact outside the club are connected."
   ]
  },
  {
   "cell_type": "code",
   "execution_count": 9,
   "metadata": {},
   "outputs": [
    {
     "data": {
      "image/png": "[encoded data removed]",
      "text/plain": [
       "<Figure size 1200x1200 with 1 Axes>"
      ]
     },
     "metadata": {},
     "output_type": "display_data"
    }
   ],
   "source": [
    "G = nx.karate_club_graph()\n",
    "\n",
    "# Process labels (Mr. Hi = 0, Officer = 1)\n",
    "labels = []\n",
    "for node in G.nodes:\n",
    "    label = G.nodes[node]['club']\n",
    "    labels.append(1 if label == 'Officer' else 0)\n",
    "\n",
    "# Plot graph\n",
    "plt.figure(figsize=(12,12))\n",
    "plt.axis('off')\n",
    "nx.draw_networkx(G,\n",
    "                 pos=nx.spring_layout(G, seed=0),\n",
    "                 node_color=labels,\n",
    "                 node_size=800,\n",
    "                 cmap='coolwarm',\n",
    "                 font_size=14,\n",
    "                 font_color='white'\n",
    "                 )"
   ]
  },
  {
   "attachments": {},
   "cell_type": "markdown",
   "metadata": {},
   "source": [
    "The next step is to generate our dataset, the random walks. We want to be as exhaustive as possible, which is why we will create 80 random walks of a length of 10 for every node in the graph"
   ]
  },
  {
   "cell_type": "code",
   "execution_count": 10,
   "metadata": {},
   "outputs": [],
   "source": [
    "walks = []\n",
    "for node in G.nodes:\n",
    "    for _ in range(80):\n",
    "        walks.append(random_walk(node, 10))"
   ]
  },
  {
   "cell_type": "code",
   "execution_count": 12,
   "metadata": {},
   "outputs": [
    {
     "data": {
      "text/plain": [
       "[['0', '4', '0', '4', '6', '5', '16', '6', '0', '3', '7'],\n",
       " ['0', '10', '4', '6', '16', '6', '5', '16', '5', '6', '4'],\n",
       " ['0', '11', '0', '31', '0', '31', '25', '23', '32', '33', '13'],\n",
       " ['0', '1', '0', '5', '6', '4', '10', '0', '5', '6', '16'],\n",
       " ['0', '5', '6', '5', '10', '0', '2', '1', '21', '1', '7'],\n",
       " ['0', '7', '3', '7', '2', '3', '7', '0', '21', '1', '17'],\n",
       " ['0', '17', '1', '13', '3', '12', '0', '5', '16', '6', '0'],\n",
       " ['0', '4', '0', '5', '0', '10', '5', '16', '5', '16', '5'],\n",
       " ['0', '8', '0', '2', '9', '33', '14', '32', '20', '32', '2'],\n",
       " ['0', '2', '3', '12', '0', '1', '7', '2', '0', '8', '2']]"
      ]
     },
     "execution_count": 12,
     "metadata": {},
     "output_type": "execute_result"
    }
   ],
   "source": [
    "walks[:10]"
   ]
  },
  {
   "attachments": {},
   "cell_type": "markdown",
   "metadata": {},
   "source": [
    "The final step consists of implementing Word2Vec. Here, we use the skip-gram model previously seen with H-Softmax. You can play with the other parameters to improve the quality of the embeddings:"
   ]
  },
  {
   "cell_type": "code",
   "execution_count": 13,
   "metadata": {},
   "outputs": [
    {
     "name": "stdout",
     "output_type": "stream",
     "text": [
      "Shape of embedding matrix: (34, 100)\n"
     ]
    },
    {
     "data": {
      "text/plain": [
       "(186793, 897600)"
      ]
     },
     "execution_count": 13,
     "metadata": {},
     "output_type": "execute_result"
    }
   ],
   "source": [
    "model = Word2Vec(walks,\n",
    "                 hs=1,   # Hierarchical softmax\n",
    "                 sg=1,   # Skip-gram\n",
    "                 vector_size=100,\n",
    "                 window=10,\n",
    "                 workers=1,\n",
    "                 seed=1)\n",
    "\n",
    "print(f'Shape of embedding matrix: {model.wv.vectors.shape}')\n",
    "\n",
    "# Build vocabulary\n",
    "model.build_vocab(walks)\n",
    "\n",
    "# Train model\n",
    "model.train(walks, total_examples=model.corpus_count, epochs=30, report_delay=1)"
   ]
  },
  {
   "cell_type": "code",
   "execution_count": 14,
   "metadata": {},
   "outputs": [
    {
     "name": "stdout",
     "output_type": "stream",
     "text": [
      "Nodes that are the most similar to node 0:\n",
      "   ('10', 0.7025081515312195)\n",
      "   ('4', 0.6775952577590942)\n",
      "   ('7', 0.6127775311470032)\n",
      "   ('17', 0.6115216612815857)\n",
      "   ('5', 0.610733687877655)\n",
      "   ('3', 0.6044278740882874)\n",
      "   ('6', 0.5797328948974609)\n",
      "   ('21', 0.5777292251586914)\n",
      "   ('1', 0.5759729743003845)\n",
      "   ('12', 0.5648965239524841)\n",
      "\n",
      "Similarity between node 0 and 4: 0.6775953769683838\n"
     ]
    }
   ],
   "source": [
    "# Most similar nodes\n",
    "print('Nodes that are the most similar to node 0:')\n",
    "for similarity in model.wv.most_similar(positive=['0']):\n",
    "    print(f'   {similarity}')\n",
    "\n",
    "# Similarity between two nodes\n",
    "print(f\"\\nSimilarity between node 0 and 4: {model.wv.similarity('0', '4')}\")"
   ]
  },
  {
   "cell_type": "code",
   "execution_count": 15,
   "metadata": {},
   "outputs": [],
   "source": [
    "# from sklearn.manifold import TSNE"
   ]
  },
  {
   "cell_type": "code",
   "execution_count": 16,
   "metadata": {},
   "outputs": [],
   "source": [
    "# nodes_wv = np.array([model.wv.get_vector(str(i)) for i in range(len(model.wv))])\n",
    "# labels = np.array(labels)"
   ]
  },
  {
   "cell_type": "code",
   "execution_count": 17,
   "metadata": {},
   "outputs": [],
   "source": [
    "# tsne = TSNE(n_components=2,\n",
    "#             learning_rate='auto',\n",
    "#             init='pca',\n",
    "#             random_state=0).fit_transform(nodes_wv)"
   ]
  },
  {
   "cell_type": "code",
   "execution_count": 18,
   "metadata": {},
   "outputs": [
    {
     "data": {
      "image/png": "[encoded data removed]",
      "text/plain": [
       "<Figure size 1800x1800 with 1 Axes>"
      ]
     },
     "metadata": {},
     "output_type": "display_data"
    }
   ],
   "source": [
    "# plt.figure(figsize=(6, 6), dpi=300)\n",
    "# plt.scatter(tsne[:, 0], tsne[:, 1], s=100, c=labels, cmap=\"coolwarm\")\n",
    "# plt.show()"
   ]
  },
  {
   "attachments": {},
   "cell_type": "markdown",
   "metadata": {},
   "source": [
    "This plot is quite encouraging since we can see a clear line that separates the two classes. It should be possible for a simple ML algorithm to classify these nodes with enough examples (training data). Let’s implement a classifier and train it on our node embeddings\n",
    "\n",
    "Our model obtains an accuracy score of 95.45%, which is pretty good considering the unfavorable train/test split we gave it. There is still room for improvement, but this example showed two useful applications of DeepWalk:\n",
    "\n",
    "- Discovering similarities between nodes using embeddings and cosine similarity (unsupervised learning)\n",
    "- Using these embeddings as a dataset for a supervised task such as node classification\n",
    "\n"
   ]
  },
  {
   "cell_type": "code",
   "execution_count": 19,
   "metadata": {},
   "outputs": [
    {
     "name": "stdout",
     "output_type": "stream",
     "text": [
      "Accuracy = 90.91%\n"
     ]
    }
   ],
   "source": [
    "# from sklearn.ensemble import RandomForestClassifier\n",
    "# from sklearn.metrics import accuracy_score\n",
    "\n",
    "# # Create masks to train and test the model\n",
    "# train_mask = [2, 4, 6, 8, 10, 12, 14, 16, 18, 20, 22, 24]\n",
    "# test_mask = [0, 1, 3, 5, 7, 9, 11, 13, 15, 17, 19, 21, 23, 25, 26, 27, 28, 29, 30, 31, 32, 33]\n",
    "\n",
    "# # Train classifier\n",
    "# clf = RandomForestClassifier(random_state=0)\n",
    "# clf.fit(nodes_wv[train_mask], labels[train_mask])\n",
    "\n",
    "# # Evaluate accuracy\n",
    "# y_pred = clf.predict(nodes_wv[test_mask])\n",
    "# acc = accuracy_score(y_pred, labels[test_mask])\n",
    "# print(f'Accuracy = {acc*100:.2f}%')"
   ]
  },
  {
   "attachments": {},
   "cell_type": "markdown",
   "metadata": {},
   "source": [
    "### Node2vec\n",
    "\n",
    "Node2Vec is an architecture largely based on DeepWalk. DeepWalk the two main components of this architecture: random walks and Word2Vec. How can we improve the quality of our embeddings?\n",
    "\n",
    "Node2Vec is an algorithmic framework for representational learning on graphs. Given any graph, it can learn continuous feature representations for the nodes, which can then be used for various downstream machine learning tasks. For example, we can use these embeddings as features for node classification, link prediction, clustering, and visualization.\n",
    "\n",
    "Node2Vec was introduced in 2016 by Grover and Leskovec from Stanford University. It keeps the same two main components from DeepWalk: random walks and Word2Vec. The difference is that instead of obtaining sequences of nodes with a uniform distribution, the random walks are carefully biased in Node2Vec. We will see why these biased random walks perform better and how to implement them in the two following sections:\n",
    "\n",
    "- Defining a neighborhood\n",
    "- Introducing biases in random walks\n",
    "\n",
    "#### Defining a neighborhood\n",
    "\n",
    "How do you define the neighborhood of a node? what does “close” mean in the context of a graph?\n",
    "\n",
    "```{image} https://learning.oreilly.com/api/v2/epubs/urn:orm:book:9781804617526/files/image/B19153_04_001.jpg\n",
    ":alt: Defining a neighborhood\n",
    ":width: 80%\n",
    ":align: center\n",
    "```\n",
    "We want to explore three nodes in the neighborhood of node A. This exploration process is also called a sampling strategy:\n",
    "\n",
    "- A possible solution would be to consider the three closest nodes in terms of connections. In this case, the neighborhood of $A$, noted $N(A)$, would\n",
    "$$\n",
    "N(A)=\\{B, C, D\\}\n",
    "$$\n",
    "- Another possible sampling strategy consists of selecting nodes that are not adjacent to previous nodes first. In our example, the neighborhood of $A$ would be $N(A)=\\{D, \\boldsymbol{F}, \\boldsymbol{F}\\}$\n",
    "\n",
    "In other words, we want to implement a Breadth-First Search (BFS) in the first case and a Depth-First Search (DFS) in the second one. You can find more information about these algorithms and implementations in Chapter 2, Graph Theory for Graph Neural Networks.\n",
    "\n",
    "The best way to understand this is to actually implement this architecture and play with the parameters.\n"
   ]
  },
  {
   "cell_type": "code",
   "execution_count": 2,
   "metadata": {},
   "outputs": [
    {
     "data": {
      "image/png": "[encoded data removed]",
      "text/plain": [
       "<Figure size 640x480 with 1 Axes>"
      ]
     },
     "metadata": {},
     "output_type": "display_data"
    }
   ],
   "source": [
    "import networkx as nx\n",
    "import matplotlib.pyplot as plt\n",
    "import random\n",
    "random.seed(0)\n",
    "import numpy as np\n",
    "np.random.seed(0)\n",
    "\n",
    "# Create graph\n",
    "G = nx.erdos_renyi_graph(10, 0.3, seed=1, directed=False)\n",
    "\n",
    "# Plot graph\n",
    "plt.figure()\n",
    "plt.axis('off')\n",
    "nx.draw_networkx(G,\n",
    "                 pos=nx.spring_layout(G, seed=0),\n",
    "                 node_size=600,\n",
    "                 cmap='coolwarm',\n",
    "                 font_size=14,\n",
    "                 font_color='white'\n",
    "                 )"
   ]
  },
  {
   "cell_type": "code",
   "execution_count": 3,
   "metadata": {},
   "outputs": [],
   "source": [
    "\n",
    "def next_node(previous, current, p, q):\n",
    "    alphas = []\n",
    "\n",
    "    # Get the neighboring nodes\n",
    "    neighbors = list(G.neighbors(current))\n",
    "    \n",
    "    # Calculate the appropriate alpha value for each neighbor\n",
    "    for neighbor in neighbors:\n",
    "        # Distance = 0: probability to return to the previous node\n",
    "        if neighbor == previous:\n",
    "            alpha = 1/p\n",
    "        # Distance = 1: probability of visiting a local node\n",
    "        elif G.has_edge(neighbor, previous):\n",
    "            alpha = 1\n",
    "        # Distance = 2: probability to explore an unknown node\n",
    "        else:\n",
    "            alpha = 1/q\n",
    "        alphas.append(alpha)\n",
    "\n",
    "    # Normalize the alpha values to create transition probabilities\n",
    "    probs = [alpha / sum(alphas) for alpha in alphas]\n",
    "    \n",
    "    # Randomly select the new node based on the transition probabilities\n",
    "    next = np.random.choice(neighbors, size=1, p=probs)[0]\n",
    "    return next"
   ]
  },
  {
   "cell_type": "code",
   "execution_count": 4,
   "metadata": {},
   "outputs": [],
   "source": [
    "def random_walk(start, length, p, q):\n",
    "    walk = [start]\n",
    "    \n",
    "    for i in range(length):\n",
    "        current = walk[-1]\n",
    "        previous = walk[-2] if len(walk) > 1 else None\n",
    "        next = next_node(previous, current, p, q)\n",
    "        walk.append(next)\n",
    "    \n",
    "    return walk"
   ]
  },
  {
   "cell_type": "code",
   "execution_count": 5,
   "metadata": {},
   "outputs": [
    {
     "data": {
      "text/plain": [
       "[0, 4, 7, 6, 4, 5, 4, 5, 6]"
      ]
     },
     "execution_count": 5,
     "metadata": {},
     "output_type": "execute_result"
    }
   ],
   "source": [
    "random_walk(0, 8, p=1, q=1)"
   ]
  },
  {
   "cell_type": "code",
   "execution_count": 6,
   "metadata": {},
   "outputs": [
    {
     "data": {
      "text/plain": [
       "[0, 9, 1, 9, 1, 9, 1, 0, 1]"
      ]
     },
     "execution_count": 6,
     "metadata": {},
     "output_type": "execute_result"
    }
   ],
   "source": [
    "random_walk(0, 8, p=1, q=10)\n"
   ]
  },
  {
   "attachments": {},
   "cell_type": "markdown",
   "metadata": {},
   "source": [
    "#### Implementing Node2Vec\n",
    "\n",
    "Now that we have the functions to generate biased random walks, the implementation of Node2Vec is very similar to implementing DeepWalk.\n",
    "\n"
   ]
  },
  {
   "cell_type": "code",
   "execution_count": 7,
   "metadata": {},
   "outputs": [
    {
     "name": "stdout",
     "output_type": "stream",
     "text": [
      "Node2Vec accuracy = 100.00%\n"
     ]
    }
   ],
   "source": [
    "from gensim.models.word2vec import Word2Vec\n",
    "from sklearn.ensemble import RandomForestClassifier\n",
    "from sklearn.metrics import accuracy_score\n",
    "\n",
    "# Load dataset\n",
    "G = nx.karate_club_graph()\n",
    "\n",
    "# Process labels (Mr. Hi = 0, Officer = 1)\n",
    "labels = []\n",
    "for node in G.nodes:\n",
    "    label = G.nodes[node]['club']\n",
    "    labels.append(1 if label == 'Officer' else 0)\n",
    "\n",
    "# Create a list of random walks\n",
    "walks = []\n",
    "for node in G.nodes:\n",
    "    for _ in range(80):\n",
    "        walks.append(random_walk(node, 10, 3, 2))\n",
    "\n",
    "# Create and train Word2Vec for DeepWalk\n",
    "node2vec = Word2Vec(walks,\n",
    "                hs=1,   # Hierarchical softmax\n",
    "                sg=1,   # Skip-gram\n",
    "                vector_size=100,\n",
    "                window=10,\n",
    "                workers=2,\n",
    "                min_count=1,\n",
    "                seed=0)\n",
    "node2vec.train(walks, total_examples=node2vec.corpus_count, epochs=30, report_delay=1)\n",
    "\n",
    "# Create masks to train and test the model\n",
    "train_mask = [2, 4, 6, 8, 10, 12, 14, 16, 18, 20, 22, 24]\n",
    "test_mask = [0, 1, 3, 5, 7, 9, 11, 13, 15, 17, 19, 21, 23, 25, 26, 27, 28, 29, 30, 31, 32, 33]\n",
    "labels = np.array(labels)\n",
    "\n",
    "# Train Node2Vec classifier\n",
    "clf = RandomForestClassifier(random_state=0)\n",
    "clf.fit(node2vec.wv[train_mask], labels[train_mask])\n",
    "\n",
    "# Evaluate accuracy\n",
    "y_pred = clf.predict(node2vec.wv[test_mask])\n",
    "acc = accuracy_score(y_pred, labels[test_mask])\n",
    "print(f'Node2Vec accuracy = {acc*100:.2f}%')"
   ]
  },
  {
   "attachments": {},
   "cell_type": "markdown",
   "metadata": {},
   "source": [
    "#### Building a movie RecSys with Node2Vec\n",
    "\n",
    "One of the most popular applications of GNNs is RecSys. If you think about the foundation of Word2Vec (and, thus, DeepWalk and Node2Vec), the goal is to produce vectors with the ability to measure their similarity. Encode movies instead of words, and you can suddenly ask for movies that are the most similar to a given input title. It sounds a lot like a RecSys, right?\n",
    "\n",
    "Another approach is to look at user ratings. There are different techniques to build a graph based on ratings: bipartite graphs, edges based on pointwise mutual information, and so on. In this section, we’ll implement a simple and intuitive approach: movies that are liked by the same users are connected. We’ll then use this graph to learn movie embeddings using Node2Vec:"
   ]
  },
  {
   "cell_type": "code",
   "execution_count": 8,
   "metadata": {},
   "outputs": [],
   "source": [
    "# from io import BytesIO\n",
    "# from urllib.request import urlopen\n",
    "# from zipfile import ZipFile\n",
    "\n",
    "# url = 'https://files.grouplens.org/datasets/movielens/ml-100k.zip'\n",
    "# with urlopen(url) as zurl:\n",
    "#     with ZipFile(BytesIO(zurl.read())) as zfile:\n",
    "#         zfile.extractall('.')"
   ]
  },
  {
   "cell_type": "code",
   "execution_count": 9,
   "metadata": {},
   "outputs": [
    {
     "data": {
      "text/html": [
       "<div>\n",
       "<style scoped>\n",
       "    .dataframe tbody tr th:only-of-type {\n",
       "        vertical-align: middle;\n",
       "    }\n",
       "\n",
       "    .dataframe tbody tr th {\n",
       "        vertical-align: top;\n",
       "    }\n",
       "\n",
       "    .dataframe thead th {\n",
       "        text-align: right;\n",
       "    }\n",
       "</style>\n",
       "<table border=\"1\" class=\"dataframe\">\n",
       "  <thead>\n",
       "    <tr style=\"text-align: right;\">\n",
       "      <th></th>\n",
       "      <th>user_id</th>\n",
       "      <th>movie_id</th>\n",
       "      <th>rating</th>\n",
       "      <th>unix_timestamp</th>\n",
       "    </tr>\n",
       "  </thead>\n",
       "  <tbody>\n",
       "    <tr>\n",
       "      <th>0</th>\n",
       "      <td>196</td>\n",
       "      <td>242</td>\n",
       "      <td>3</td>\n",
       "      <td>881250949</td>\n",
       "    </tr>\n",
       "    <tr>\n",
       "      <th>1</th>\n",
       "      <td>186</td>\n",
       "      <td>302</td>\n",
       "      <td>3</td>\n",
       "      <td>891717742</td>\n",
       "    </tr>\n",
       "    <tr>\n",
       "      <th>2</th>\n",
       "      <td>22</td>\n",
       "      <td>377</td>\n",
       "      <td>1</td>\n",
       "      <td>878887116</td>\n",
       "    </tr>\n",
       "    <tr>\n",
       "      <th>3</th>\n",
       "      <td>244</td>\n",
       "      <td>51</td>\n",
       "      <td>2</td>\n",
       "      <td>880606923</td>\n",
       "    </tr>\n",
       "    <tr>\n",
       "      <th>4</th>\n",
       "      <td>166</td>\n",
       "      <td>346</td>\n",
       "      <td>1</td>\n",
       "      <td>886397596</td>\n",
       "    </tr>\n",
       "    <tr>\n",
       "      <th>...</th>\n",
       "      <td>...</td>\n",
       "      <td>...</td>\n",
       "      <td>...</td>\n",
       "      <td>...</td>\n",
       "    </tr>\n",
       "    <tr>\n",
       "      <th>99995</th>\n",
       "      <td>880</td>\n",
       "      <td>476</td>\n",
       "      <td>3</td>\n",
       "      <td>880175444</td>\n",
       "    </tr>\n",
       "    <tr>\n",
       "      <th>99996</th>\n",
       "      <td>716</td>\n",
       "      <td>204</td>\n",
       "      <td>5</td>\n",
       "      <td>879795543</td>\n",
       "    </tr>\n",
       "    <tr>\n",
       "      <th>99997</th>\n",
       "      <td>276</td>\n",
       "      <td>1090</td>\n",
       "      <td>1</td>\n",
       "      <td>874795795</td>\n",
       "    </tr>\n",
       "    <tr>\n",
       "      <th>99998</th>\n",
       "      <td>13</td>\n",
       "      <td>225</td>\n",
       "      <td>2</td>\n",
       "      <td>882399156</td>\n",
       "    </tr>\n",
       "    <tr>\n",
       "      <th>99999</th>\n",
       "      <td>12</td>\n",
       "      <td>203</td>\n",
       "      <td>3</td>\n",
       "      <td>879959583</td>\n",
       "    </tr>\n",
       "  </tbody>\n",
       "</table>\n",
       "<p>100000 rows × 4 columns</p>\n",
       "</div>"
      ],
      "text/plain": [
       "       user_id  movie_id  rating  unix_timestamp\n",
       "0          196       242       3       881250949\n",
       "1          186       302       3       891717742\n",
       "2           22       377       1       878887116\n",
       "3          244        51       2       880606923\n",
       "4          166       346       1       886397596\n",
       "...        ...       ...     ...             ...\n",
       "99995      880       476       3       880175444\n",
       "99996      716       204       5       879795543\n",
       "99997      276      1090       1       874795795\n",
       "99998       13       225       2       882399156\n",
       "99999       12       203       3       879959583\n",
       "\n",
       "[100000 rows x 4 columns]"
      ]
     },
     "execution_count": 9,
     "metadata": {},
     "output_type": "execute_result"
    }
   ],
   "source": [
    "# import pandas as pd\n",
    "\n",
    "# ratings = pd.read_csv('ml-100k/u.data', sep='\\t', names=['user_id', 'movie_id', 'rating', 'unix_timestamp'])\n",
    "# ratings"
   ]
  },
  {
   "cell_type": "code",
   "execution_count": 10,
   "metadata": {},
   "outputs": [],
   "source": [
    "# movies = pd.read_csv('ml-100k/u.item', sep='|', usecols=range(2), names=['movie_id', 'title'], encoding='latin-1')\n"
   ]
  },
  {
   "cell_type": "code",
   "execution_count": 12,
   "metadata": {},
   "outputs": [
    {
     "data": {
      "text/html": [
       "<div>\n",
       "<style scoped>\n",
       "    .dataframe tbody tr th:only-of-type {\n",
       "        vertical-align: middle;\n",
       "    }\n",
       "\n",
       "    .dataframe tbody tr th {\n",
       "        vertical-align: top;\n",
       "    }\n",
       "\n",
       "    .dataframe thead th {\n",
       "        text-align: right;\n",
       "    }\n",
       "</style>\n",
       "<table border=\"1\" class=\"dataframe\">\n",
       "  <thead>\n",
       "    <tr style=\"text-align: right;\">\n",
       "      <th></th>\n",
       "      <th>user_id</th>\n",
       "      <th>movie_id</th>\n",
       "      <th>rating</th>\n",
       "      <th>unix_timestamp</th>\n",
       "    </tr>\n",
       "  </thead>\n",
       "  <tbody>\n",
       "    <tr>\n",
       "      <th>5</th>\n",
       "      <td>298</td>\n",
       "      <td>474</td>\n",
       "      <td>4</td>\n",
       "      <td>884182806</td>\n",
       "    </tr>\n",
       "    <tr>\n",
       "      <th>7</th>\n",
       "      <td>253</td>\n",
       "      <td>465</td>\n",
       "      <td>5</td>\n",
       "      <td>891628467</td>\n",
       "    </tr>\n",
       "    <tr>\n",
       "      <th>11</th>\n",
       "      <td>286</td>\n",
       "      <td>1014</td>\n",
       "      <td>5</td>\n",
       "      <td>879781125</td>\n",
       "    </tr>\n",
       "    <tr>\n",
       "      <th>12</th>\n",
       "      <td>200</td>\n",
       "      <td>222</td>\n",
       "      <td>5</td>\n",
       "      <td>876042340</td>\n",
       "    </tr>\n",
       "    <tr>\n",
       "      <th>16</th>\n",
       "      <td>122</td>\n",
       "      <td>387</td>\n",
       "      <td>5</td>\n",
       "      <td>879270459</td>\n",
       "    </tr>\n",
       "    <tr>\n",
       "      <th>...</th>\n",
       "      <td>...</td>\n",
       "      <td>...</td>\n",
       "      <td>...</td>\n",
       "      <td>...</td>\n",
       "    </tr>\n",
       "    <tr>\n",
       "      <th>99988</th>\n",
       "      <td>421</td>\n",
       "      <td>498</td>\n",
       "      <td>4</td>\n",
       "      <td>892241344</td>\n",
       "    </tr>\n",
       "    <tr>\n",
       "      <th>99989</th>\n",
       "      <td>495</td>\n",
       "      <td>1091</td>\n",
       "      <td>4</td>\n",
       "      <td>888637503</td>\n",
       "    </tr>\n",
       "    <tr>\n",
       "      <th>99990</th>\n",
       "      <td>806</td>\n",
       "      <td>421</td>\n",
       "      <td>4</td>\n",
       "      <td>882388897</td>\n",
       "    </tr>\n",
       "    <tr>\n",
       "      <th>99991</th>\n",
       "      <td>676</td>\n",
       "      <td>538</td>\n",
       "      <td>4</td>\n",
       "      <td>892685437</td>\n",
       "    </tr>\n",
       "    <tr>\n",
       "      <th>99996</th>\n",
       "      <td>716</td>\n",
       "      <td>204</td>\n",
       "      <td>5</td>\n",
       "      <td>879795543</td>\n",
       "    </tr>\n",
       "  </tbody>\n",
       "</table>\n",
       "<p>55375 rows × 4 columns</p>\n",
       "</div>"
      ],
      "text/plain": [
       "       user_id  movie_id  rating  unix_timestamp\n",
       "5          298       474       4       884182806\n",
       "7          253       465       5       891628467\n",
       "11         286      1014       5       879781125\n",
       "12         200       222       5       876042340\n",
       "16         122       387       5       879270459\n",
       "...        ...       ...     ...             ...\n",
       "99988      421       498       4       892241344\n",
       "99989      495      1091       4       888637503\n",
       "99990      806       421       4       882388897\n",
       "99991      676       538       4       892685437\n",
       "99996      716       204       5       879795543\n",
       "\n",
       "[55375 rows x 4 columns]"
      ]
     },
     "execution_count": 12,
     "metadata": {},
     "output_type": "execute_result"
    }
   ],
   "source": [
    "# Here, we want to see movies that have been liked by the same users. \n",
    "# This means that ratings such as 1, 2, and 3 are not very relevant.\n",
    "#  We can discard those and only keep scores of 4 and 5\n",
    "\n",
    "# ratings = ratings[ratings.rating >= 4]\n",
    "# ratings"
   ]
  },
  {
   "attachments": {},
   "cell_type": "markdown",
   "metadata": {},
   "source": [
    "We now have 48,580 ratings made by 610 users. The next step is to count every time that two movies are liked by the same user. We will repeat this process for every user in the dataset.\n",
    "\n",
    "To simplify things, we will use a defaultdict data structure, which automatically creates missing entries instead of raising an error. We’ll use this structure to count movies that are liked together:"
   ]
  },
  {
   "cell_type": "code",
   "execution_count": 13,
   "metadata": {},
   "outputs": [],
   "source": [
    "# from collections import defaultdict\n",
    "# pairs = defaultdict(int)"
   ]
  },
  {
   "cell_type": "code",
   "execution_count": 14,
   "metadata": {},
   "outputs": [],
   "source": [
    "# # Loop through the entire list of users\n",
    "# for group in ratings.groupby(\"user_id\"):\n",
    "#     # List of IDs of movies rated by the current user\n",
    "#     user_movies = list(group[1][\"movie_id\"])\n",
    "\n",
    "#     # Count every time two movies are seen together\n",
    "#     for i in range(len(user_movies)):\n",
    "#         for j in range(i+1, len(user_movies)):\n",
    "#             pairs[(user_movies[i], user_movies[j])] += 1"
   ]
  },
  {
   "cell_type": "code",
   "execution_count": 25,
   "metadata": {},
   "outputs": [
    {
     "name": "stdout",
     "output_type": "stream",
     "text": [
      "Total number of graph nodes: 410\n",
      "Total number of graph edges: 14936\n"
     ]
    }
   ],
   "source": [
    "# For each pair of movies in our pairs structure, we unpack the two movies and their corresponding score:\n",
    "\n",
    "# Create a networkx graph\n",
    "# G = nx.Graph()\n",
    "\n",
    "# # Try to create an edge between movies that are liked together\n",
    "# for pair in pairs:\n",
    "#     if not isinstance(pair, tuple):\n",
    "#         continue\n",
    "#     movie1, movie2 = pair\n",
    "#     score = pairs[pair]\n",
    "\n",
    "#     # The edge is only created when the score is high enough\n",
    "#     if score >= 20:\n",
    "#         G.add_edge(movie1, movie2, weight=score)\n",
    "\n",
    "# print(\"Total number of graph nodes:\", G.number_of_nodes())\n",
    "# print(\"Total number of graph edges:\", G.number_of_edges())\n",
    "\n"
   ]
  },
  {
   "cell_type": "code",
   "execution_count": 26,
   "metadata": {},
   "outputs": [
    {
     "name": "stdout",
     "output_type": "stream",
     "text": [
      "Collecting node2vec\n",
      "  Downloading node2vec-0.4.6-py3-none-any.whl (7.0 kB)\n",
      "Requirement already satisfied: gensim<5.0.0,>=4.1.2 in /Users/ikram.ali/miniconda3/envs/ml_notes/lib/python3.11/site-packages (from node2vec) (4.3.1)\n",
      "Requirement already satisfied: joblib<2.0.0,>=1.1.0 in /Users/ikram.ali/miniconda3/envs/ml_notes/lib/python3.11/site-packages (from node2vec) (1.2.0)\n",
      "Collecting networkx<3.0,>=2.5\n",
      "  Downloading networkx-2.8.8-py3-none-any.whl (2.0 MB)\n",
      "\u001b[2K     \u001b[90m━━━━━━━━━━━━━━━━━━━━━━━━━━━━━━━━━━━━━━━━\u001b[0m \u001b[32m2.0/2.0 MB\u001b[0m \u001b[31m1.8 MB/s\u001b[0m eta \u001b[36m0:00:00\u001b[0m00:01\u001b[0m00:01\u001b[0m\n",
      "\u001b[?25hRequirement already satisfied: numpy<2.0.0,>=1.19.5 in /Users/ikram.ali/miniconda3/envs/ml_notes/lib/python3.11/site-packages (from node2vec) (1.24.2)\n",
      "Collecting tqdm<5.0.0,>=4.55.1\n",
      "  Using cached tqdm-4.65.0-py3-none-any.whl (77 kB)\n",
      "Requirement already satisfied: scipy>=1.7.0 in /Users/ikram.ali/miniconda3/envs/ml_notes/lib/python3.11/site-packages (from gensim<5.0.0,>=4.1.2->node2vec) (1.10.1)\n",
      "Requirement already satisfied: smart-open>=1.8.1 in /Users/ikram.ali/miniconda3/envs/ml_notes/lib/python3.11/site-packages (from gensim<5.0.0,>=4.1.2->node2vec) (6.3.0)\n",
      "Installing collected packages: tqdm, networkx, node2vec\n",
      "  Attempting uninstall: networkx\n",
      "    Found existing installation: networkx 3.1\n",
      "    Uninstalling networkx-3.1:\n",
      "      Successfully uninstalled networkx-3.1\n",
      "Successfully installed networkx-2.8.8 node2vec-0.4.6 tqdm-4.65.0\n"
     ]
    }
   ],
   "source": [
    "# !pip install node2vec"
   ]
  },
  {
   "cell_type": "code",
   "execution_count": 27,
   "metadata": {},
   "outputs": [
    {
     "name": "stderr",
     "output_type": "stream",
     "text": [
      "/Users/ikram.ali/miniconda3/envs/ml_notes/lib/python3.11/site-packages/tqdm/auto.py:21: TqdmWarning: IProgress not found. Please update jupyter and ipywidgets. See https://ipywidgets.readthedocs.io/en/stable/user_install.html\n",
      "  from .autonotebook import tqdm as notebook_tqdm\n",
      "Computing transition probabilities: 100%|██████████| 410/410 [00:03<00:00, 102.83it/s]\n",
      "Generating walks (CPU: 1): 100%|██████████| 200/200 [00:14<00:00, 14.23it/s]\n"
     ]
    }
   ],
   "source": [
    "# from node2vec import Node2Vec\n",
    "\n",
    "# node2vec = Node2Vec(G, dimensions=64, walk_length=20, num_walks=200, p=2, q=1, workers=1)\n",
    "\n",
    "# model = node2vec.fit(window=10, min_count=1, batch_words=4)"
   ]
  },
  {
   "cell_type": "code",
   "execution_count": 28,
   "metadata": {},
   "outputs": [
    {
     "name": "stdout",
     "output_type": "stream",
     "text": [
      "Return of the Jedi (1983): 0.61\n",
      "Raiders of the Lost Ark (1981): 0.55\n",
      "Godfather, The (1972): 0.49\n",
      "Indiana Jones and the Last Crusade (1989): 0.46\n",
      "White Squall (1996): 0.44\n"
     ]
    }
   ],
   "source": [
    "# def recommend(movie):\n",
    "#     movie_id = str(movies[movies.title == movie].movie_id.values[0])\n",
    "#     for id in model.wv.most_similar(movie_id)[:5]:\n",
    "#         title = movies[movies.movie_id == int(id[0])].title.values[0]\n",
    "#         print(f'{title}: {id[1]:.2f}')\n",
    "\n",
    "# recommend('Star Wars (1977)')"
   ]
  },
  {
   "attachments": {},
   "cell_type": "markdown",
   "metadata": {},
   "source": [
    "### Vanilla Neural Networks\n",
    "\n",
    "However, graph datasets tend to be richer than a mere set of connections: nodes and edges can also have features to represent scores, colors, words, and so on. Including this additional information in our input data is essential to produce the best embeddings possible.\n",
    "\n",
    "#### The Cora dataset\n",
    "\n",
    "Introduced by Sen et al. in 2008 [1], Cora (no license) is the most popular dataset for node classification in the scientific literature. It represents a network of 2,708 publications, where each connection is a reference. Each publication is described as a binary vector of 1,433 unique words, where 0 and 1 indicate the absence or presence of the corresponding word, respectively. This representation is also called a binary bag of words in natural language processing. Our goal is to classify each node into one of seven categories.\n",
    "\n",
    "\n",
    "\n"
   ]
  },
  {
   "cell_type": "code",
   "execution_count": 29,
   "metadata": {},
   "outputs": [
    {
     "name": "stdout",
     "output_type": "stream",
     "text": [
      "Collecting torch_geometric\n",
      "  Downloading torch_geometric-2.3.1.tar.gz (661 kB)\n",
      "\u001b[2K     \u001b[90m━━━━━━━━━━━━━━━━━━━━━━━━━━━━━━━━━━━━━\u001b[0m \u001b[32m661.6/661.6 kB\u001b[0m \u001b[31m445.8 kB/s\u001b[0m eta \u001b[36m0:00:00\u001b[0m00:01\u001b[0m00:01\u001b[0m\n",
      "\u001b[?25h  Installing build dependencies ... \u001b[?25ldone\n",
      "\u001b[?25h  Getting requirements to build wheel ... \u001b[?25ldone\n",
      "\u001b[?25h  Preparing metadata (pyproject.toml) ... \u001b[?25ldone\n",
      "\u001b[?25hRequirement already satisfied: tqdm in /Users/ikram.ali/miniconda3/envs/ml_notes/lib/python3.11/site-packages (from torch_geometric) (4.65.0)\n",
      "Requirement already satisfied: numpy in /Users/ikram.ali/miniconda3/envs/ml_notes/lib/python3.11/site-packages (from torch_geometric) (1.24.2)\n",
      "Requirement already satisfied: scipy in /Users/ikram.ali/miniconda3/envs/ml_notes/lib/python3.11/site-packages (from torch_geometric) (1.10.1)\n",
      "Requirement already satisfied: jinja2 in /Users/ikram.ali/miniconda3/envs/ml_notes/lib/python3.11/site-packages (from torch_geometric) (3.1.2)\n",
      "Requirement already satisfied: requests in /Users/ikram.ali/miniconda3/envs/ml_notes/lib/python3.11/site-packages (from torch_geometric) (2.28.2)\n",
      "Requirement already satisfied: pyparsing in /Users/ikram.ali/miniconda3/envs/ml_notes/lib/python3.11/site-packages (from torch_geometric) (3.0.9)\n",
      "Requirement already satisfied: scikit-learn in /Users/ikram.ali/miniconda3/envs/ml_notes/lib/python3.11/site-packages (from torch_geometric) (1.2.2)\n",
      "Requirement already satisfied: psutil>=5.8.0 in /Users/ikram.ali/miniconda3/envs/ml_notes/lib/python3.11/site-packages (from torch_geometric) (5.9.4)\n",
      "Requirement already satisfied: MarkupSafe>=2.0 in /Users/ikram.ali/miniconda3/envs/ml_notes/lib/python3.11/site-packages (from jinja2->torch_geometric) (2.1.2)\n",
      "Requirement already satisfied: charset-normalizer<4,>=2 in /Users/ikram.ali/miniconda3/envs/ml_notes/lib/python3.11/site-packages (from requests->torch_geometric) (3.1.0)\n",
      "Requirement already satisfied: idna<4,>=2.5 in /Users/ikram.ali/miniconda3/envs/ml_notes/lib/python3.11/site-packages (from requests->torch_geometric) (3.4)\n",
      "Requirement already satisfied: urllib3<1.27,>=1.21.1 in /Users/ikram.ali/miniconda3/envs/ml_notes/lib/python3.11/site-packages (from requests->torch_geometric) (1.26.15)\n",
      "Requirement already satisfied: certifi>=2017.4.17 in /Users/ikram.ali/miniconda3/envs/ml_notes/lib/python3.11/site-packages (from requests->torch_geometric) (2022.12.7)\n",
      "Requirement already satisfied: joblib>=1.1.1 in /Users/ikram.ali/miniconda3/envs/ml_notes/lib/python3.11/site-packages (from scikit-learn->torch_geometric) (1.2.0)\n",
      "Requirement already satisfied: threadpoolctl>=2.0.0 in /Users/ikram.ali/miniconda3/envs/ml_notes/lib/python3.11/site-packages (from scikit-learn->torch_geometric) (3.1.0)\n",
      "Building wheels for collected packages: torch_geometric\n",
      "  Building wheel for torch_geometric (pyproject.toml) ... \u001b[?25ldone\n",
      "\u001b[?25h  Created wheel for torch_geometric: filename=torch_geometric-2.3.1-py3-none-any.whl size=910459 sha256=d448634b94b7604efb298e124cc3559e53ef7ab70bb4d6bc6f1eb57f3a943223\n",
      "  Stored in directory: /Users/ikram.ali/Library/Caches/pip/wheels/25/78/6c/9fd091ca1c5e137c66cbd03696ffa14f75e9abc5abfe0dbcc6\n",
      "Successfully built torch_geometric\n",
      "Installing collected packages: torch_geometric\n",
      "Successfully installed torch_geometric-2.3.1\n"
     ]
    }
   ],
   "source": [
    "# !pip install torch_geometric"
   ]
  },
  {
   "cell_type": "code",
   "execution_count": 30,
   "metadata": {},
   "outputs": [],
   "source": [
    "# from torch_geometric.datasets import Planetoid"
   ]
  },
  {
   "cell_type": "code",
   "execution_count": 31,
   "metadata": {},
   "outputs": [
    {
     "name": "stderr",
     "output_type": "stream",
     "text": [
      "Downloading https://github.com/kimiyoung/planetoid/raw/master/data/ind.cora.x\n",
      "Downloading https://github.com/kimiyoung/planetoid/raw/master/data/ind.cora.tx\n",
      "Downloading https://github.com/kimiyoung/planetoid/raw/master/data/ind.cora.allx\n",
      "Downloading https://github.com/kimiyoung/planetoid/raw/master/data/ind.cora.y\n",
      "Downloading https://github.com/kimiyoung/planetoid/raw/master/data/ind.cora.ty\n",
      "Downloading https://github.com/kimiyoung/planetoid/raw/master/data/ind.cora.ally\n",
      "Downloading https://github.com/kimiyoung/planetoid/raw/master/data/ind.cora.graph\n",
      "Downloading https://github.com/kimiyoung/planetoid/raw/master/data/ind.cora.test.index\n",
      "Processing...\n",
      "Done!\n"
     ]
    }
   ],
   "source": [
    "# dataset = Planetoid(root=\".\", name=\"Cora\")"
   ]
  },
  {
   "cell_type": "code",
   "execution_count": 32,
   "metadata": {},
   "outputs": [],
   "source": [
    "# data = dataset[0]\n"
   ]
  },
  {
   "cell_type": "code",
   "execution_count": 33,
   "metadata": {},
   "outputs": [
    {
     "name": "stdout",
     "output_type": "stream",
     "text": [
      "Dataset: Cora()\n",
      "---------------\n",
      "Number of graphs: 1\n",
      "Number of nodes: 2708\n",
      "Number of features: 1433\n",
      "Number of classes: 7\n"
     ]
    }
   ],
   "source": [
    "# print(f'Dataset: {dataset}')\n",
    "# print('---------------')\n",
    "# print(f'Number of graphs: {len(dataset)}')\n",
    "# print(f'Number of nodes: {data.x.shape[0]}')\n",
    "# print(f'Number of features: {dataset.num_features}')\n",
    "# print(f'Number of classes: {dataset.num_classes}')"
   ]
  },
  {
   "cell_type": "code",
   "execution_count": 34,
   "metadata": {},
   "outputs": [
    {
     "name": "stdout",
     "output_type": "stream",
     "text": [
      "Graph:\n",
      "------\n",
      "Edges are directed: False\n",
      "Graph has isolated nodes: False\n",
      "Graph has loops: False\n"
     ]
    }
   ],
   "source": [
    "# print(f'Graph:')\n",
    "# print('------')\n",
    "# print(f'Edges are directed: {data.is_directed()}')\n",
    "# print(f'Graph has isolated nodes: {data.has_isolated_nodes()}')\n",
    "# print(f'Graph has loops: {data.has_self_loops()}')"
   ]
  },
  {
   "cell_type": "code",
   "execution_count": 35,
   "metadata": {},
   "outputs": [],
   "source": [
    "# from torch_geometric.datasets import FacebookPagePage"
   ]
  },
  {
   "cell_type": "code",
   "execution_count": 36,
   "metadata": {},
   "outputs": [
    {
     "name": "stderr",
     "output_type": "stream",
     "text": [
      "Downloading https://graphmining.ai/datasets/ptg/facebook.npz\n",
      "Processing...\n",
      "Done!\n"
     ]
    }
   ],
   "source": [
    "# dataset = FacebookPagePage(root=\".\")"
   ]
  },
  {
   "cell_type": "code",
   "execution_count": 37,
   "metadata": {},
   "outputs": [],
   "source": [
    "# data = dataset[0]"
   ]
  },
  {
   "cell_type": "code",
   "execution_count": 38,
   "metadata": {},
   "outputs": [
    {
     "name": "stdout",
     "output_type": "stream",
     "text": [
      "Dataset: FacebookPagePage()\n",
      "-----------------------\n",
      "Number of graphs: 1\n",
      "Number of nodes: 22470\n",
      "Number of features: 128\n",
      "Number of classes: 4\n"
     ]
    }
   ],
   "source": [
    "# print(f'Dataset: {dataset}')\n",
    "# print('-----------------------')\n",
    "# print(f'Number of graphs: {len(dataset)}')\n",
    "# print(f'Number of nodes: {data.x.shape[0]}')\n",
    "# print(f'Number of features: {dataset.num_features}')\n",
    "# print(f'Number of classes: {dataset.num_classes}')"
   ]
  },
  {
   "cell_type": "code",
   "execution_count": 39,
   "metadata": {},
   "outputs": [
    {
     "name": "stdout",
     "output_type": "stream",
     "text": [
      "\n",
      "Graph:\n",
      "------\n",
      "Edges are directed: False\n",
      "Graph has isolated nodes: False\n",
      "Graph has loops: True\n"
     ]
    }
   ],
   "source": [
    "# print(f'\\nGraph:')\n",
    "# print('------')\n",
    "# print(f'Edges are directed: {data.is_directed()}')\n",
    "# print(f'Graph has isolated nodes: {data.has_isolated_nodes()}')\n",
    "# print(f'Graph has loops: {data.has_self_loops()}')"
   ]
  },
  {
   "cell_type": "code",
   "execution_count": 40,
   "metadata": {},
   "outputs": [],
   "source": [
    "# data.train_mask = range(18000)\n",
    "# data.val_mask = range(18001, 20000)\n",
    "# data.test_mask = range(20001, 22470)"
   ]
  },
  {
   "cell_type": "code",
   "execution_count": 41,
   "metadata": {},
   "outputs": [
    {
     "data": {
      "text/html": [
       "<div>\n",
       "<style scoped>\n",
       "    .dataframe tbody tr th:only-of-type {\n",
       "        vertical-align: middle;\n",
       "    }\n",
       "\n",
       "    .dataframe tbody tr th {\n",
       "        vertical-align: top;\n",
       "    }\n",
       "\n",
       "    .dataframe thead th {\n",
       "        text-align: right;\n",
       "    }\n",
       "</style>\n",
       "<table border=\"1\" class=\"dataframe\">\n",
       "  <thead>\n",
       "    <tr style=\"text-align: right;\">\n",
       "      <th></th>\n",
       "      <th>0</th>\n",
       "      <th>1</th>\n",
       "      <th>2</th>\n",
       "      <th>3</th>\n",
       "      <th>4</th>\n",
       "      <th>5</th>\n",
       "      <th>6</th>\n",
       "      <th>7</th>\n",
       "      <th>8</th>\n",
       "      <th>9</th>\n",
       "      <th>...</th>\n",
       "      <th>1424</th>\n",
       "      <th>1425</th>\n",
       "      <th>1426</th>\n",
       "      <th>1427</th>\n",
       "      <th>1428</th>\n",
       "      <th>1429</th>\n",
       "      <th>1430</th>\n",
       "      <th>1431</th>\n",
       "      <th>1432</th>\n",
       "      <th>label</th>\n",
       "    </tr>\n",
       "  </thead>\n",
       "  <tbody>\n",
       "    <tr>\n",
       "      <th>0</th>\n",
       "      <td>0.0</td>\n",
       "      <td>0.0</td>\n",
       "      <td>0.0</td>\n",
       "      <td>0.0</td>\n",
       "      <td>0.0</td>\n",
       "      <td>0.0</td>\n",
       "      <td>0.0</td>\n",
       "      <td>0.0</td>\n",
       "      <td>0.0</td>\n",
       "      <td>0.0</td>\n",
       "      <td>...</td>\n",
       "      <td>0.0</td>\n",
       "      <td>0.0</td>\n",
       "      <td>0.0</td>\n",
       "      <td>0.0</td>\n",
       "      <td>0.0</td>\n",
       "      <td>0.0</td>\n",
       "      <td>0.0</td>\n",
       "      <td>0.0</td>\n",
       "      <td>0.0</td>\n",
       "      <td>3</td>\n",
       "    </tr>\n",
       "    <tr>\n",
       "      <th>1</th>\n",
       "      <td>0.0</td>\n",
       "      <td>0.0</td>\n",
       "      <td>0.0</td>\n",
       "      <td>0.0</td>\n",
       "      <td>0.0</td>\n",
       "      <td>0.0</td>\n",
       "      <td>0.0</td>\n",
       "      <td>0.0</td>\n",
       "      <td>0.0</td>\n",
       "      <td>0.0</td>\n",
       "      <td>...</td>\n",
       "      <td>0.0</td>\n",
       "      <td>0.0</td>\n",
       "      <td>0.0</td>\n",
       "      <td>0.0</td>\n",
       "      <td>0.0</td>\n",
       "      <td>0.0</td>\n",
       "      <td>0.0</td>\n",
       "      <td>0.0</td>\n",
       "      <td>0.0</td>\n",
       "      <td>4</td>\n",
       "    </tr>\n",
       "    <tr>\n",
       "      <th>2</th>\n",
       "      <td>0.0</td>\n",
       "      <td>0.0</td>\n",
       "      <td>0.0</td>\n",
       "      <td>0.0</td>\n",
       "      <td>0.0</td>\n",
       "      <td>0.0</td>\n",
       "      <td>0.0</td>\n",
       "      <td>0.0</td>\n",
       "      <td>0.0</td>\n",
       "      <td>0.0</td>\n",
       "      <td>...</td>\n",
       "      <td>0.0</td>\n",
       "      <td>0.0</td>\n",
       "      <td>0.0</td>\n",
       "      <td>0.0</td>\n",
       "      <td>0.0</td>\n",
       "      <td>0.0</td>\n",
       "      <td>0.0</td>\n",
       "      <td>0.0</td>\n",
       "      <td>0.0</td>\n",
       "      <td>4</td>\n",
       "    </tr>\n",
       "    <tr>\n",
       "      <th>3</th>\n",
       "      <td>0.0</td>\n",
       "      <td>0.0</td>\n",
       "      <td>0.0</td>\n",
       "      <td>0.0</td>\n",
       "      <td>0.0</td>\n",
       "      <td>0.0</td>\n",
       "      <td>0.0</td>\n",
       "      <td>0.0</td>\n",
       "      <td>0.0</td>\n",
       "      <td>0.0</td>\n",
       "      <td>...</td>\n",
       "      <td>0.0</td>\n",
       "      <td>0.0</td>\n",
       "      <td>0.0</td>\n",
       "      <td>0.0</td>\n",
       "      <td>0.0</td>\n",
       "      <td>0.0</td>\n",
       "      <td>0.0</td>\n",
       "      <td>0.0</td>\n",
       "      <td>0.0</td>\n",
       "      <td>0</td>\n",
       "    </tr>\n",
       "    <tr>\n",
       "      <th>4</th>\n",
       "      <td>0.0</td>\n",
       "      <td>0.0</td>\n",
       "      <td>0.0</td>\n",
       "      <td>1.0</td>\n",
       "      <td>0.0</td>\n",
       "      <td>0.0</td>\n",
       "      <td>0.0</td>\n",
       "      <td>0.0</td>\n",
       "      <td>0.0</td>\n",
       "      <td>0.0</td>\n",
       "      <td>...</td>\n",
       "      <td>0.0</td>\n",
       "      <td>0.0</td>\n",
       "      <td>0.0</td>\n",
       "      <td>0.0</td>\n",
       "      <td>0.0</td>\n",
       "      <td>0.0</td>\n",
       "      <td>0.0</td>\n",
       "      <td>0.0</td>\n",
       "      <td>0.0</td>\n",
       "      <td>3</td>\n",
       "    </tr>\n",
       "    <tr>\n",
       "      <th>...</th>\n",
       "      <td>...</td>\n",
       "      <td>...</td>\n",
       "      <td>...</td>\n",
       "      <td>...</td>\n",
       "      <td>...</td>\n",
       "      <td>...</td>\n",
       "      <td>...</td>\n",
       "      <td>...</td>\n",
       "      <td>...</td>\n",
       "      <td>...</td>\n",
       "      <td>...</td>\n",
       "      <td>...</td>\n",
       "      <td>...</td>\n",
       "      <td>...</td>\n",
       "      <td>...</td>\n",
       "      <td>...</td>\n",
       "      <td>...</td>\n",
       "      <td>...</td>\n",
       "      <td>...</td>\n",
       "      <td>...</td>\n",
       "      <td>...</td>\n",
       "    </tr>\n",
       "    <tr>\n",
       "      <th>2703</th>\n",
       "      <td>0.0</td>\n",
       "      <td>0.0</td>\n",
       "      <td>0.0</td>\n",
       "      <td>0.0</td>\n",
       "      <td>0.0</td>\n",
       "      <td>1.0</td>\n",
       "      <td>0.0</td>\n",
       "      <td>0.0</td>\n",
       "      <td>0.0</td>\n",
       "      <td>0.0</td>\n",
       "      <td>...</td>\n",
       "      <td>0.0</td>\n",
       "      <td>1.0</td>\n",
       "      <td>0.0</td>\n",
       "      <td>0.0</td>\n",
       "      <td>0.0</td>\n",
       "      <td>0.0</td>\n",
       "      <td>0.0</td>\n",
       "      <td>0.0</td>\n",
       "      <td>0.0</td>\n",
       "      <td>3</td>\n",
       "    </tr>\n",
       "    <tr>\n",
       "      <th>2704</th>\n",
       "      <td>0.0</td>\n",
       "      <td>0.0</td>\n",
       "      <td>1.0</td>\n",
       "      <td>0.0</td>\n",
       "      <td>0.0</td>\n",
       "      <td>0.0</td>\n",
       "      <td>0.0</td>\n",
       "      <td>0.0</td>\n",
       "      <td>0.0</td>\n",
       "      <td>0.0</td>\n",
       "      <td>...</td>\n",
       "      <td>0.0</td>\n",
       "      <td>0.0</td>\n",
       "      <td>0.0</td>\n",
       "      <td>0.0</td>\n",
       "      <td>0.0</td>\n",
       "      <td>0.0</td>\n",
       "      <td>0.0</td>\n",
       "      <td>0.0</td>\n",
       "      <td>0.0</td>\n",
       "      <td>3</td>\n",
       "    </tr>\n",
       "    <tr>\n",
       "      <th>2705</th>\n",
       "      <td>0.0</td>\n",
       "      <td>0.0</td>\n",
       "      <td>0.0</td>\n",
       "      <td>0.0</td>\n",
       "      <td>0.0</td>\n",
       "      <td>0.0</td>\n",
       "      <td>0.0</td>\n",
       "      <td>0.0</td>\n",
       "      <td>0.0</td>\n",
       "      <td>0.0</td>\n",
       "      <td>...</td>\n",
       "      <td>0.0</td>\n",
       "      <td>0.0</td>\n",
       "      <td>0.0</td>\n",
       "      <td>0.0</td>\n",
       "      <td>0.0</td>\n",
       "      <td>0.0</td>\n",
       "      <td>0.0</td>\n",
       "      <td>0.0</td>\n",
       "      <td>0.0</td>\n",
       "      <td>3</td>\n",
       "    </tr>\n",
       "    <tr>\n",
       "      <th>2706</th>\n",
       "      <td>0.0</td>\n",
       "      <td>0.0</td>\n",
       "      <td>0.0</td>\n",
       "      <td>0.0</td>\n",
       "      <td>0.0</td>\n",
       "      <td>0.0</td>\n",
       "      <td>0.0</td>\n",
       "      <td>0.0</td>\n",
       "      <td>0.0</td>\n",
       "      <td>0.0</td>\n",
       "      <td>...</td>\n",
       "      <td>0.0</td>\n",
       "      <td>0.0</td>\n",
       "      <td>0.0</td>\n",
       "      <td>0.0</td>\n",
       "      <td>0.0</td>\n",
       "      <td>0.0</td>\n",
       "      <td>0.0</td>\n",
       "      <td>0.0</td>\n",
       "      <td>0.0</td>\n",
       "      <td>3</td>\n",
       "    </tr>\n",
       "    <tr>\n",
       "      <th>2707</th>\n",
       "      <td>0.0</td>\n",
       "      <td>0.0</td>\n",
       "      <td>0.0</td>\n",
       "      <td>0.0</td>\n",
       "      <td>0.0</td>\n",
       "      <td>0.0</td>\n",
       "      <td>0.0</td>\n",
       "      <td>0.0</td>\n",
       "      <td>0.0</td>\n",
       "      <td>0.0</td>\n",
       "      <td>...</td>\n",
       "      <td>0.0</td>\n",
       "      <td>0.0</td>\n",
       "      <td>0.0</td>\n",
       "      <td>0.0</td>\n",
       "      <td>0.0</td>\n",
       "      <td>0.0</td>\n",
       "      <td>0.0</td>\n",
       "      <td>0.0</td>\n",
       "      <td>0.0</td>\n",
       "      <td>3</td>\n",
       "    </tr>\n",
       "  </tbody>\n",
       "</table>\n",
       "<p>2708 rows × 1434 columns</p>\n",
       "</div>"
      ],
      "text/plain": [
       "        0    1    2    3    4    5    6    7    8    9  ...  1424  1425  1426   \n",
       "0     0.0  0.0  0.0  0.0  0.0  0.0  0.0  0.0  0.0  0.0  ...   0.0   0.0   0.0  \\\n",
       "1     0.0  0.0  0.0  0.0  0.0  0.0  0.0  0.0  0.0  0.0  ...   0.0   0.0   0.0   \n",
       "2     0.0  0.0  0.0  0.0  0.0  0.0  0.0  0.0  0.0  0.0  ...   0.0   0.0   0.0   \n",
       "3     0.0  0.0  0.0  0.0  0.0  0.0  0.0  0.0  0.0  0.0  ...   0.0   0.0   0.0   \n",
       "4     0.0  0.0  0.0  1.0  0.0  0.0  0.0  0.0  0.0  0.0  ...   0.0   0.0   0.0   \n",
       "...   ...  ...  ...  ...  ...  ...  ...  ...  ...  ...  ...   ...   ...   ...   \n",
       "2703  0.0  0.0  0.0  0.0  0.0  1.0  0.0  0.0  0.0  0.0  ...   0.0   1.0   0.0   \n",
       "2704  0.0  0.0  1.0  0.0  0.0  0.0  0.0  0.0  0.0  0.0  ...   0.0   0.0   0.0   \n",
       "2705  0.0  0.0  0.0  0.0  0.0  0.0  0.0  0.0  0.0  0.0  ...   0.0   0.0   0.0   \n",
       "2706  0.0  0.0  0.0  0.0  0.0  0.0  0.0  0.0  0.0  0.0  ...   0.0   0.0   0.0   \n",
       "2707  0.0  0.0  0.0  0.0  0.0  0.0  0.0  0.0  0.0  0.0  ...   0.0   0.0   0.0   \n",
       "\n",
       "      1427  1428  1429  1430  1431  1432  label  \n",
       "0      0.0   0.0   0.0   0.0   0.0   0.0      3  \n",
       "1      0.0   0.0   0.0   0.0   0.0   0.0      4  \n",
       "2      0.0   0.0   0.0   0.0   0.0   0.0      4  \n",
       "3      0.0   0.0   0.0   0.0   0.0   0.0      0  \n",
       "4      0.0   0.0   0.0   0.0   0.0   0.0      3  \n",
       "...    ...   ...   ...   ...   ...   ...    ...  \n",
       "2703   0.0   0.0   0.0   0.0   0.0   0.0      3  \n",
       "2704   0.0   0.0   0.0   0.0   0.0   0.0      3  \n",
       "2705   0.0   0.0   0.0   0.0   0.0   0.0      3  \n",
       "2706   0.0   0.0   0.0   0.0   0.0   0.0      3  \n",
       "2707   0.0   0.0   0.0   0.0   0.0   0.0      3  \n",
       "\n",
       "[2708 rows x 1434 columns]"
      ]
     },
     "execution_count": 41,
     "metadata": {},
     "output_type": "execute_result"
    }
   ],
   "source": [
    "# import pandas as pd\n",
    "\n",
    "# dataset = Planetoid(root=\".\", name=\"Cora\")\n",
    "# data = dataset[0]\n",
    "\n",
    "# df_x = pd.DataFrame(data.x.numpy())\n",
    "# df_x['label'] = pd.DataFrame(data.y)\n",
    "# df_x"
   ]
  },
  {
   "attachments": {},
   "cell_type": "markdown",
   "metadata": {},
   "source": [
    "Classifying nodes with vanilla neural networks\n",
    "\n",
    "Compared to Zachary’s Karate Club, these two datasets include a new type of information: node features. They provide additional information about the nodes in a graph, such as a user’s age, gender, or interests in a social network. In a vanilla neural network (also called multilayer perceptron), these embeddings are directly used in the model to perform downstream tasks such as node classification.\n",
    "\n",
    "\n",
    "we will consider node features as a regular tabular dataset. We will train a simple neural network on this dataset to classify our nodes. Note that this architecture does not take into account the topology of the network. We will try to fix this issue in the next section and compare our results.\n",
    "\n",
    "The tabular dataset of node features can be easily accessed through the data object we created.\n",
    "\n",
    "If you’re familiar with machine learning, you probably recognize a typical dataset with data and labels. We can develop a simple Multilayer Perceptron (MLP) and train it on data.x with the labels provided by data.y.\n"
   ]
  },
  {
   "cell_type": "code",
   "execution_count": 42,
   "metadata": {},
   "outputs": [
    {
     "name": "stdout",
     "output_type": "stream",
     "text": [
      "MLP(\n",
      "  (linear1): Linear(in_features=1433, out_features=16, bias=True)\n",
      "  (linear2): Linear(in_features=16, out_features=7, bias=True)\n",
      ")\n",
      "Epoch   0 | Train Loss: 1.959 | Train Acc: 14.29% | Val Loss: 2.00 | Val Acc: 12.40%\n",
      "Epoch  20 | Train Loss: 0.110 | Train Acc: 100.00% | Val Loss: 1.46 | Val Acc: 49.40%\n",
      "Epoch  40 | Train Loss: 0.014 | Train Acc: 100.00% | Val Loss: 1.44 | Val Acc: 51.00%\n",
      "Epoch  60 | Train Loss: 0.008 | Train Acc: 100.00% | Val Loss: 1.40 | Val Acc: 53.80%\n",
      "Epoch  80 | Train Loss: 0.008 | Train Acc: 100.00% | Val Loss: 1.37 | Val Acc: 55.40%\n",
      "Epoch 100 | Train Loss: 0.009 | Train Acc: 100.00% | Val Loss: 1.34 | Val Acc: 54.60%\n",
      "\n",
      "MLP test accuracy: 53.40%\n"
     ]
    }
   ],
   "source": [
    "# import torch\n",
    "# torch.manual_seed(0)\n",
    "# from torch.nn import Linear\n",
    "# import torch.nn.functional as F\n",
    "\n",
    "\n",
    "# def accuracy(y_pred, y_true):\n",
    "#     \"\"\"Calculate accuracy.\"\"\"\n",
    "#     return torch.sum(y_pred == y_true) / len(y_true)\n",
    "\n",
    "\n",
    "# class MLP(torch.nn.Module):\n",
    "#     \"\"\"Multilayer Perceptron\"\"\"\n",
    "#     def __init__(self, dim_in, dim_h, dim_out):\n",
    "#         super().__init__()\n",
    "#         self.linear1 = Linear(dim_in, dim_h)\n",
    "#         self.linear2 = Linear(dim_h, dim_out)\n",
    "\n",
    "#     def forward(self, x):\n",
    "#         x = self.linear1(x)\n",
    "#         x = torch.relu(x)\n",
    "#         x = self.linear2(x)\n",
    "#         return F.log_softmax(x, dim=1)\n",
    "\n",
    "#     def fit(self, data, epochs):\n",
    "#         criterion = torch.nn.CrossEntropyLoss()\n",
    "#         optimizer = torch.optim.Adam(self.parameters(),\n",
    "#                                           lr=0.01,\n",
    "#                                           weight_decay=5e-4)\n",
    "\n",
    "#         self.train()\n",
    "#         for epoch in range(epochs+1):\n",
    "#             optimizer.zero_grad()\n",
    "#             out = self(data.x)\n",
    "#             loss = criterion(out[data.train_mask], data.y[data.train_mask])\n",
    "#             acc = accuracy(out[data.train_mask].argmax(dim=1),\n",
    "#                           data.y[data.train_mask])\n",
    "#             loss.backward()\n",
    "#             optimizer.step()\n",
    "\n",
    "#             if(epoch % 20 == 0):\n",
    "#                 val_loss = criterion(out[data.val_mask], data.y[data.val_mask])\n",
    "#                 val_acc = accuracy(out[data.val_mask].argmax(dim=1),\n",
    "#                                   data.y[data.val_mask])\n",
    "#                 print(f'Epoch {epoch:>3} | Train Loss: {loss:.3f} | Train Acc:'\n",
    "#                       f' {acc*100:>5.2f}% | Val Loss: {val_loss:.2f} | '\n",
    "#                       f'Val Acc: {val_acc*100:.2f}%')\n",
    "\n",
    "#     @torch.no_grad()      \n",
    "#     def test(self, data):\n",
    "#         self.eval()\n",
    "#         out = self(data.x)\n",
    "#         acc = accuracy(out.argmax(dim=1)[data.test_mask], data.y[data.test_mask])\n",
    "#         return acc\n",
    "\n",
    "# # Create MLP model\n",
    "# mlp = MLP(dataset.num_features, 16, dataset.num_classes)\n",
    "# print(mlp)\n",
    "\n",
    "# # Train\n",
    "# mlp.fit(data, epochs=100)\n",
    "\n",
    "# # Test\n",
    "# acc = mlp.test(data)\n",
    "# print(f'\\nMLP test accuracy: {acc*100:.2f}%')"
   ]
  },
  {
   "attachments": {},
   "cell_type": "markdown",
   "metadata": {},
   "source": [
    "### Vanilla graph neural networks\n",
    "\n",
    "Instead of directly introducing well-known GNN architectures, let’s try to build our own model to understand the thought process behind GNNs.\n",
    "\n",
    "A basic neural network layer corresponds to a linear transformation\n",
    "$h_A=x_A W^T x_{A_{\\text {is the input vector of node }}} A_{\\text {and }}$\n",
    "$\\mathbf{V}$ is the weight matrix. In PyTorch, this equation can be implemented with the torch .mm () function, or with the $\\mathrm{nn}$. Linear class that adds other parameters such as biases.\n",
    "\n",
    "With our graph datasets, the input vectors are node features. It means that nodes are completely separate from each other. This is not enough to capture a good understanding of the graph: like a pixel in an image, the context of a node is essential to understand it. If you look at a group of pixels instead of a single one, you can recognize edges, patterns, and so on. Likewise, to understand a node, you need to look at its neighborhood.\n",
    "\n",
    "${ }_{\\text {Lers call }} N_A$ the set of neighbors of node A. Our graph linear layer can be written as follows:\n",
    "$$\n",
    "h_A=\\sum_{i \\in \\mathcal{N}_A} x_i W^T\n",
    "$$\n",
    "You can imagine several variants of this equation. For instance, we could have a\n",
    "weight matrix\n",
    "the neighbors. Note that we cannot have a weight matrix per neighbor, as this\n",
    "number can change from node to node.\n",
    "\n",
    "We're talking about neural networks, so we can't apply the previous equation to each node. Instead, we perform matrix multiplications that are much more efficient. For instance, the equation of the linear layer can be rewritten as\n",
    "$$\n",
    "\\boldsymbol{H}=\\boldsymbol{Y} \\boldsymbol{T} \\text {, where } \\boldsymbol{X} \\text { is the input matrix. }\n",
    "$$\n",
    "In our case, the adjacency matrix $\\boldsymbol{A}$ contains the connections between every node in the graph. Multiplying the input matrix by this adjacency matrix will directly sum up the neighboring node features. We can add self loops to the adjacency matrix so that the central node is also considered in this operation. We call this updated adjacency matrix $\\tilde{A}=A+\\boldsymbol{A}$. Our graph linear layer can be rewritten as follows:\n",
    "$$\n",
    "H=\\tilde{A}^T X W^T\n",
    "$$\n",
    "Let's test this layer by implementing it in PyTorch Geometric. We'll then be able to use it as a regular layer to build a GNN:\n"
   ]
  },
  {
   "cell_type": "code",
   "execution_count": 44,
   "metadata": {},
   "outputs": [],
   "source": [
    "# class VanillaGNNLayer(torch.nn.Module):\n",
    "#     def __init__(self, dim_in, dim_out):\n",
    "#         super().__init__()\n",
    "#         self.linear = Linear(dim_in, dim_out, bias=False)\n",
    "\n",
    "#     def forward(self, x, adjacency):\n",
    "#         x = self.linear(x)\n",
    "#         # We perform two operations – the linear transformation,\n",
    "#         #  and then the multiplication with the adjacency matrix\n",
    "#         x = torch.sparse.mm(adjacency, x)\n",
    "#         return x"
   ]
  },
  {
   "attachments": {},
   "cell_type": "markdown",
   "metadata": {},
   "source": [
    "Before we can create our vanilla GNN, we need to convert the edge index from our dataset (data.edge_index) in coordinate format to a dense adjacency matrix. We also need to include self loops; otherwise, the central nodes won’t be taken into account in their own embeddings.\n",
    "\n"
   ]
  },
  {
   "cell_type": "code",
   "execution_count": 45,
   "metadata": {},
   "outputs": [
    {
     "data": {
      "text/plain": [
       "tensor([[1., 0., 0.,  ..., 0., 0., 0.],\n",
       "        [0., 1., 1.,  ..., 0., 0., 0.],\n",
       "        [0., 1., 1.,  ..., 0., 0., 0.],\n",
       "        ...,\n",
       "        [0., 0., 0.,  ..., 1., 0., 0.],\n",
       "        [0., 0., 0.,  ..., 0., 1., 1.],\n",
       "        [0., 0., 0.,  ..., 0., 1., 1.]])"
      ]
     },
     "execution_count": 45,
     "metadata": {},
     "output_type": "execute_result"
    }
   ],
   "source": [
    "from torch_geometric.utils import to_dense_adj\n",
    "adjacency = to_dense_adj(data.edge_index)[0]\n",
    "adjacency += torch.eye(len(adjacency))\n",
    "adjacency"
   ]
  },
  {
   "cell_type": "code",
   "execution_count": 46,
   "metadata": {},
   "outputs": [
    {
     "name": "stdout",
     "output_type": "stream",
     "text": [
      "VanillaGNN(\n",
      "  (gnn1): VanillaGNNLayer(\n",
      "    (linear): Linear(in_features=1433, out_features=16, bias=False)\n",
      "  )\n",
      "  (gnn2): VanillaGNNLayer(\n",
      "    (linear): Linear(in_features=16, out_features=7, bias=False)\n",
      "  )\n",
      ")\n",
      "Epoch   0 | Train Loss: 1.991 | Train Acc: 15.71% | Val Loss: 2.11 | Val Acc: 9.40%\n",
      "Epoch  20 | Train Loss: 0.065 | Train Acc: 99.29% | Val Loss: 1.47 | Val Acc: 76.80%\n",
      "Epoch  40 | Train Loss: 0.014 | Train Acc: 100.00% | Val Loss: 2.11 | Val Acc: 75.40%\n",
      "Epoch  60 | Train Loss: 0.007 | Train Acc: 100.00% | Val Loss: 2.22 | Val Acc: 75.40%\n",
      "Epoch  80 | Train Loss: 0.004 | Train Acc: 100.00% | Val Loss: 2.20 | Val Acc: 76.80%\n",
      "Epoch 100 | Train Loss: 0.003 | Train Acc: 100.00% | Val Loss: 2.19 | Val Acc: 77.00%\n",
      "\n",
      "GNN test accuracy: 76.60%\n"
     ]
    }
   ],
   "source": [
    "# class VanillaGNN(torch.nn.Module):\n",
    "#     def __init__(self, dim_in, dim_h, dim_out):\n",
    "#         super().__init__()\n",
    "#         self.gnn1 = VanillaGNNLayer(dim_in, dim_h)\n",
    "#         self.gnn2 = VanillaGNNLayer(dim_h, dim_out)\n",
    "    \n",
    "#     # We perform the same operations with our new layers,\n",
    "#     #  which take the adjacency matrix we previously calculated as an additional input:\n",
    "#     def forward(self, x, adjacency):\n",
    "#         h = self.gnn1(x, adjacency)\n",
    "#         h = torch.relu(h)\n",
    "#         h = self.gnn2(h, adjacency)\n",
    "#         return F.log_softmax(h, dim=1)\n",
    "    \n",
    "#     def fit(self, data, epochs):\n",
    "#         criterion = torch.nn.CrossEntropyLoss()\n",
    "#         optimizer = torch.optim.Adam(self.parameters(),\n",
    "#                                       lr=0.01,\n",
    "#                                       weight_decay=5e-4)\n",
    "\n",
    "#         self.train()\n",
    "#         for epoch in range(epochs+1):\n",
    "#             optimizer.zero_grad()\n",
    "#             out = self(data.x, adjacency)\n",
    "#             loss = criterion(out[data.train_mask], data.y[data.train_mask])\n",
    "#             acc = accuracy(out[data.train_mask].argmax(dim=1),\n",
    "#                           data.y[data.train_mask])\n",
    "#             loss.backward()\n",
    "#             optimizer.step()\n",
    "\n",
    "#             if(epoch % 20 == 0):\n",
    "#                 val_loss = criterion(out[data.val_mask], data.y[data.val_mask])\n",
    "#                 val_acc = accuracy(out[data.val_mask].argmax(dim=1),\n",
    "#                                   data.y[data.val_mask])\n",
    "#                 print(f'Epoch {epoch:>3} | Train Loss: {loss:.3f} | Train Acc:'\n",
    "#                       f' {acc*100:>5.2f}% | Val Loss: {val_loss:.2f} | '\n",
    "#                       f'Val Acc: {val_acc*100:.2f}%')\n",
    "    \n",
    "#     torch.no_grad()\n",
    "#     def test(self, data):\n",
    "#         self.eval()\n",
    "#         out = self(data.x, adjacency)\n",
    "#         acc = accuracy(out.argmax(dim=1)[data.test_mask], data.y[data.test_mask])\n",
    "#         return acc\n",
    "\n",
    "\n",
    "# # Create the Vanilla GNN model\n",
    "# gnn = VanillaGNN(dataset.num_features, 16, dataset.num_classes)\n",
    "# print(gnn)\n",
    "# # Train\n",
    "# gnn.fit(data, epochs=100)\n",
    "# # Test\n",
    "# acc = gnn.test(data)\n",
    "# print(f'\\nGNN test accuracy: {acc*100:.2f}%')\n",
    "\n"
   ]
  },
  {
   "cell_type": "code",
   "execution_count": null,
   "metadata": {},
   "outputs": [],
   "source": []
  }
 ],
 "metadata": {
  "kernelspec": {
   "display_name": "ml_notes",
   "language": "python",
   "name": "python3"
  },
  "language_info": {
   "codemirror_mode": {
    "name": "ipython",
    "version": 3
   },
   "file_extension": ".py",
   "mimetype": "text/x-python",
   "name": "python",
   "nbconvert_exporter": "python",
   "pygments_lexer": "ipython3",
   "version": "3.11.2"
  },
  "orig_nbformat": 4
 },
 "nbformat": 4,
 "nbformat_minor": 2
}
